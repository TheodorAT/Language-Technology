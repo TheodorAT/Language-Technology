{
 "cells": [
  {
   "cell_type": "markdown",
   "metadata": {},
   "source": [
    "# PyTorch Embeddings\n",
    "Author: Pierre Nugues"
   ]
  },
  {
   "cell_type": "markdown",
   "metadata": {},
   "source": [
    "Principal component analysis on characters of Salammbô. French and English chapters"
   ]
  },
  {
   "cell_type": "code",
   "execution_count": 2,
   "metadata": {},
   "outputs": [],
   "source": [
    "import numpy as np\n",
    "import torch\n",
    "import torch.nn as nn"
   ]
  },
  {
   "cell_type": "code",
   "execution_count": 6,
   "metadata": {},
   "outputs": [
    {
     "data": {
      "text/plain": [
       "Parameter containing:\n",
       "tensor([[ 1.1959, -0.3126, -0.5955],\n",
       "        [-2.2378, -0.2234, -0.6788],\n",
       "        [-0.6869, -0.9685, -0.6124],\n",
       "        [-0.2697,  0.6882, -2.6541],\n",
       "        [ 0.2830,  0.1994, -1.9261],\n",
       "        [ 0.9152, -1.9225,  0.6298],\n",
       "        [-0.0843, -0.6159, -0.4984],\n",
       "        [ 0.2563,  0.7507,  0.0735],\n",
       "        [ 0.1870,  0.7367,  1.0119],\n",
       "        [ 0.5591,  1.0836, -0.3769]], requires_grad=True)"
      ]
     },
     "execution_count": 6,
     "metadata": {},
     "output_type": "execute_result"
    }
   ],
   "source": [
    "embedding = nn.Embedding(10, 3)\n",
    "embedding.weight"
   ]
  },
  {
   "cell_type": "code",
   "execution_count": 7,
   "metadata": {},
   "outputs": [
    {
     "data": {
      "text/plain": [
       "tensor([[[-2.2378, -0.2234, -0.6788],\n",
       "         [-0.6869, -0.9685, -0.6124],\n",
       "         [ 0.2830,  0.1994, -1.9261],\n",
       "         [ 0.9152, -1.9225,  0.6298]],\n",
       "\n",
       "        [[ 0.2830,  0.1994, -1.9261],\n",
       "         [-0.2697,  0.6882, -2.6541],\n",
       "         [-0.6869, -0.9685, -0.6124],\n",
       "         [ 0.5591,  1.0836, -0.3769]]], grad_fn=<EmbeddingBackward0>)"
      ]
     },
     "execution_count": 7,
     "metadata": {},
     "output_type": "execute_result"
    }
   ],
   "source": [
    "input = torch.LongTensor([[1, 2, 4, 5], [4, 3, 2, 9]])\n",
    "embedding(input)"
   ]
  },
  {
   "cell_type": "code",
   "execution_count": 8,
   "metadata": {},
   "outputs": [
    {
     "data": {
      "text/plain": [
       "Parameter containing:\n",
       "tensor([[ 0.0000,  0.0000,  0.0000],\n",
       "        [-0.5867,  1.0278, -1.1050],\n",
       "        [ 0.7670,  0.4030,  2.4984],\n",
       "        [ 0.0433,  0.1374,  0.4019],\n",
       "        [ 0.4572,  1.1916, -1.4292],\n",
       "        [ 0.7983,  1.5811, -0.8106],\n",
       "        [-0.2262, -0.2157, -0.3240],\n",
       "        [-2.0494,  1.3482,  1.2141],\n",
       "        [ 1.0569,  0.5791,  0.1668],\n",
       "        [-0.1369, -1.9696, -0.0646]], requires_grad=True)"
      ]
     },
     "execution_count": 8,
     "metadata": {},
     "output_type": "execute_result"
    }
   ],
   "source": [
    "embedding = nn.Embedding(10, 3, padding_idx=0)\n",
    "embedding.weight"
   ]
  },
  {
   "cell_type": "code",
   "execution_count": 9,
   "metadata": {},
   "outputs": [
    {
     "data": {
      "text/plain": [
       "tensor([[[ 0.0000,  0.0000,  0.0000],\n",
       "         [ 0.7670,  0.4030,  2.4984],\n",
       "         [ 0.0000,  0.0000,  0.0000],\n",
       "         [ 0.7983,  1.5811, -0.8106]]], grad_fn=<EmbeddingBackward0>)"
      ]
     },
     "execution_count": 9,
     "metadata": {},
     "output_type": "execute_result"
    }
   ],
   "source": [
    "input = torch.LongTensor([[0, 2, 0, 5]])\n",
    "embedding(input)"
   ]
  },
  {
   "cell_type": "code",
   "execution_count": 14,
   "metadata": {},
   "outputs": [
    {
     "data": {
      "text/plain": [
       "Parameter containing:\n",
       "tensor([[ 0.0000,  0.0000,  0.0000],\n",
       "        [ 1.1206,  0.8750, -0.0967],\n",
       "        [-0.5118, -0.0965,  0.0698],\n",
       "        [-2.0774,  1.1132,  0.6116],\n",
       "        [ 1.5907, -1.2987,  0.3181],\n",
       "        [ 0.6128, -1.6291, -0.2988],\n",
       "        [-0.9502, -1.9463, -1.4547],\n",
       "        [-0.6794, -0.1608,  1.1222],\n",
       "        [ 1.1581, -1.1795, -1.3160],\n",
       "        [ 0.6329, -0.8094, -1.0147]], requires_grad=True)"
      ]
     },
     "execution_count": 14,
     "metadata": {},
     "output_type": "execute_result"
    }
   ],
   "source": [
    "embedding_p = nn.Embedding(10, 3, padding_idx=0)\n",
    "embedding_p.weight"
   ]
  },
  {
   "cell_type": "code",
   "execution_count": 15,
   "metadata": {},
   "outputs": [],
   "source": [
    "embeddings = nn.Embedding.from_pretrained(\n",
    "  torch.FloatTensor(embedding_p.weight), \n",
    "  freeze=False, \n",
    "  padding_idx=0)"
   ]
  },
  {
   "cell_type": "code",
   "execution_count": 16,
   "metadata": {},
   "outputs": [
    {
     "data": {
      "text/plain": [
       "Parameter containing:\n",
       "tensor([[ 0.0000,  0.0000,  0.0000],\n",
       "        [ 1.1206,  0.8750, -0.0967],\n",
       "        [-0.5118, -0.0965,  0.0698],\n",
       "        [-2.0774,  1.1132,  0.6116],\n",
       "        [ 1.5907, -1.2987,  0.3181],\n",
       "        [ 0.6128, -1.6291, -0.2988],\n",
       "        [-0.9502, -1.9463, -1.4547],\n",
       "        [-0.6794, -0.1608,  1.1222],\n",
       "        [ 1.1581, -1.1795, -1.3160],\n",
       "        [ 0.6329, -0.8094, -1.0147]], requires_grad=True)"
      ]
     },
     "execution_count": 16,
     "metadata": {},
     "output_type": "execute_result"
    }
   ],
   "source": [
    "embeddings.weight"
   ]
  },
  {
   "cell_type": "code",
   "execution_count": null,
   "metadata": {},
   "outputs": [],
   "source": []
  }
 ],
 "metadata": {
  "kernelspec": {
   "display_name": "Python 3.9.12 ('base')",
   "language": "python",
   "name": "python3"
  },
  "language_info": {
   "codemirror_mode": {
    "name": "ipython",
    "version": 3
   },
   "file_extension": ".py",
   "mimetype": "text/x-python",
   "name": "python",
   "nbconvert_exporter": "python",
   "pygments_lexer": "ipython3",
   "version": "3.11.5"
  },
  "vscode": {
   "interpreter": {
    "hash": "b97b11a820675205aae8f1d7f2a3f22bbd3a2c30189f44042310baf5b4cd1987"
   }
  }
 },
 "nbformat": 4,
 "nbformat_minor": 4
}
