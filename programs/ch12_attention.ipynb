{
 "cells": [
  {
   "attachments": {},
   "cell_type": "markdown",
   "id": "aa3ccdd9-ace9-4c89-ad8e-0faebeec5c20",
   "metadata": {
    "tags": []
   },
   "source": [
    "# The Attention mechanism and its implementation in PyTorch\n",
    "\n",
    "Computing self-attention of a sentence with GloVe embeddings and the `MultiheadAttention` class with PyTorch\n",
    "\n",
    "Author: Pierre Nugues"
   ]
  },
  {
   "attachments": {},
   "cell_type": "markdown",
   "id": "ba630853-00e0-4b64-ab86-01185c2deb0e",
   "metadata": {},
   "source": [
    "## Modules"
   ]
  },
  {
   "cell_type": "code",
   "execution_count": 1,
   "id": "0d21c1d0-b06a-4340-bf3d-419a6edaf327",
   "metadata": {},
   "outputs": [],
   "source": [
    "import torch\n",
    "import torch.nn\n",
    "import torch.nn.functional as F\n"
   ]
  },
  {
   "attachments": {},
   "cell_type": "markdown",
   "id": "9119bcd1-e5af-4b3a-bd87-45276f71c7db",
   "metadata": {
    "tags": []
   },
   "source": [
    "## Noncontextual embeddings"
   ]
  },
  {
   "attachments": {},
   "cell_type": "markdown",
   "id": "5741d7ec-e588-4a6d-9cba-f8eae75f4fad",
   "metadata": {},
   "source": [
    "We load GloVe"
   ]
  },
  {
   "cell_type": "code",
   "execution_count": 2,
   "id": "f9d84fbb-b15e-45c0-bba8-6074ec0bb393",
   "metadata": {},
   "outputs": [],
   "source": [
    "def read_embeddings(file):\n",
    "    \"\"\"\n",
    "    Return the embeddings in the from of a dictionary\n",
    "    :param file:\n",
    "    :return:\n",
    "    \"\"\"\n",
    "    embeddings = {}\n",
    "    with open(file, encoding='utf8') as glove:\n",
    "        for line in glove:\n",
    "            values = line.strip().split()\n",
    "            word = values[0]\n",
    "            vector = [float(value) for value in values[1:]]\n",
    "            vector = torch.FloatTensor(vector)\n",
    "            embeddings[word] = vector\n",
    "    return embeddings\n"
   ]
  },
  {
   "cell_type": "code",
   "execution_count": 3,
   "id": "14e0a3c6-6e89-4500-b555-fb40efb5bcc5",
   "metadata": {},
   "outputs": [],
   "source": [
    "embedding_file = '/Users/pierre/Documents/Cours/EDAN20/corpus/glove.6B.50d.txt'\n",
    "embeddings_dict = read_embeddings(embedding_file)\n"
   ]
  },
  {
   "cell_type": "code",
   "execution_count": 4,
   "id": "d6ba6dc1-a704-4e08-b89b-fc5325ebcf14",
   "metadata": {},
   "outputs": [
    {
     "data": {
      "text/plain": [
       "tensor([ 1.5213,  0.1052,  0.3816, -0.5080,  0.0324, -0.1348, -1.2474,  0.7981,\n",
       "         0.8469, -1.1010,  0.8874,  1.3749,  0.4293,  0.6572, -0.2636, -0.4176,\n",
       "        -0.4885,  0.9106, -1.7158, -0.4380,  0.7839,  0.1964, -0.4066, -0.5397,\n",
       "         0.8244, -1.7434,  0.1428,  0.2804,  1.1688,  0.1690,  2.2271, -0.5827,\n",
       "        -0.4572,  0.6281,  0.5444,  0.2846,  0.4448, -0.5534, -0.3649, -0.0164,\n",
       "         0.4088, -0.8715,  1.5513, -0.8070, -0.1004, -0.2846, -0.3322, -0.5061,\n",
       "         0.4827, -0.6620])"
      ]
     },
     "execution_count": 4,
     "metadata": {},
     "output_type": "execute_result"
    }
   ],
   "source": [
    "embeddings_dict['ship']\n"
   ]
  },
  {
   "attachments": {},
   "cell_type": "markdown",
   "id": "a2b9f1dd-07e7-4995-abea-8c2fe202e16e",
   "metadata": {},
   "source": [
    "## Cosine similarity"
   ]
  },
  {
   "attachments": {},
   "cell_type": "markdown",
   "id": "f5c648e3-c5f9-4e70-82f3-1b138400c1af",
   "metadata": {},
   "source": [
    "Let us compute the cosine similarity of the words in a sentence:\n",
    "> I must go back to my ship and to my crew\n",
    "\n",
    "_Odyssey_, book I \n",
    "\n",
    "Remember that:\n",
    "$$\\cos(\\mathbf{u}, \\mathbf{v}) = \\frac{\\mathbf{u} \\cdot \\mathbf{v}}{||\\mathbf{u}|| \\cdot ||\\mathbf{v} ||}$$"
   ]
  },
  {
   "cell_type": "code",
   "execution_count": 5,
   "id": "02456cd9-bc86-4ccb-ad68-e4124cb16e35",
   "metadata": {},
   "outputs": [],
   "source": [
    "sentence_odyssey = 'I must go back to my ship and to my crew'\n",
    "# in the most cost-efficient way possible\n",
    "sentence_amazon = 'We process and ship your order'\n"
   ]
  },
  {
   "cell_type": "code",
   "execution_count": 6,
   "id": "b0851862-27f2-4fd9-98ed-e9aa64d2dcd0",
   "metadata": {},
   "outputs": [
    {
     "data": {
      "text/plain": [
       "['i', 'must', 'go', 'back', 'to', 'my', 'ship', 'and', 'to', 'my', 'crew']"
      ]
     },
     "execution_count": 6,
     "metadata": {},
     "output_type": "execute_result"
    }
   ],
   "source": [
    "words_a = sentence_amazon.lower().split()\n",
    "words_o = sentence_odyssey.lower().split()\n",
    "words_o\n"
   ]
  },
  {
   "attachments": {},
   "cell_type": "markdown",
   "id": "600768d3-408b-48cc-994d-710fdb0c45df",
   "metadata": {},
   "source": [
    "We build the embedding matrix"
   ]
  },
  {
   "cell_type": "code",
   "execution_count": 7,
   "id": "ef726a70-39fb-4bc9-826b-fa4efa6f889e",
   "metadata": {},
   "outputs": [],
   "source": [
    "def embedding_matrix(words, embeddings_dict):\n",
    "    embeddings_seq = [embeddings_dict[word] for word in words]\n",
    "    embeddings_seq = torch.stack(embeddings_seq)\n",
    "    return embeddings_seq\n"
   ]
  },
  {
   "cell_type": "code",
   "execution_count": 8,
   "id": "d4dbf6ec",
   "metadata": {},
   "outputs": [],
   "source": [
    "embeddings_mat_a = embedding_matrix(words_a, embeddings_dict)\n",
    "embeddings_mat_o = embedding_matrix(words_o, embeddings_dict)\n"
   ]
  },
  {
   "cell_type": "code",
   "execution_count": 9,
   "id": "f97d5907",
   "metadata": {},
   "outputs": [
    {
     "data": {
      "text/plain": [
       "torch.Size([11, 50])"
      ]
     },
     "execution_count": 9,
     "metadata": {},
     "output_type": "execute_result"
    }
   ],
   "source": [
    "embeddings_mat_o.size()\n"
   ]
  },
  {
   "cell_type": "code",
   "execution_count": 10,
   "id": "788b9eb2",
   "metadata": {},
   "outputs": [
    {
     "data": {
      "text/plain": [
       "torch.Size([6, 50])"
      ]
     },
     "execution_count": 10,
     "metadata": {},
     "output_type": "execute_result"
    }
   ],
   "source": [
    "embeddings_mat_a.size()\n"
   ]
  },
  {
   "cell_type": "code",
   "execution_count": 11,
   "id": "807f131d",
   "metadata": {},
   "outputs": [
    {
     "data": {
      "text/plain": [
       "tensor([ 1.1891e-01,  1.5255e-01, -8.2073e-02, -7.4144e-01,  7.5917e-01,\n",
       "        -4.8328e-01, -3.1009e-01,  5.1476e-01, -9.8708e-01,  6.1757e-04])"
      ]
     },
     "execution_count": 11,
     "metadata": {},
     "output_type": "execute_result"
    }
   ],
   "source": [
    "embeddings_mat_o[0][:10]\n"
   ]
  },
  {
   "attachments": {},
   "cell_type": "markdown",
   "id": "9049e121-9f7b-4392-a4db-e99e06f25bf4",
   "metadata": {},
   "source": [
    "We compute the attention weights as the pairwise cosines of the word embeddings"
   ]
  },
  {
   "cell_type": "code",
   "execution_count": 12,
   "id": "c68fa0d6",
   "metadata": {},
   "outputs": [],
   "source": [
    "def attn_cos_weights(embeddings_mat):\n",
    "    E_normed = F.normalize(embeddings_mat)\n",
    "    attn_weights_cos = E_normed @ E_normed.T\n",
    "    return attn_weights_cos\n"
   ]
  },
  {
   "cell_type": "code",
   "execution_count": 13,
   "id": "e6db4f3c-57c0-4e4d-a66e-5ecb94cf5697",
   "metadata": {},
   "outputs": [],
   "source": [
    "def print_cos_weights(words, embeddings_dict):\n",
    "    embeddings = embedding_matrix(words, embeddings_dict)\n",
    "    attn_weights_cos = attn_cos_weights(embeddings)\n",
    "    print('\\t', end='')\n",
    "    for i in range(len(words)):\n",
    "        print(words[i], end='\\t')\n",
    "    print()\n",
    "\n",
    "    for i in range(attn_weights_cos.shape[0]):\n",
    "        print(words[i], end='\\t')\n",
    "        for j in range(attn_weights_cos.shape[1]):\n",
    "            print(f\"{attn_weights_cos[i,j]:.2f}\", end='\\t')\n",
    "        print()\n"
   ]
  },
  {
   "cell_type": "code",
   "execution_count": 14,
   "id": "76984ad3",
   "metadata": {},
   "outputs": [
    {
     "name": "stdout",
     "output_type": "stream",
     "text": [
      "\ti\tmust\tgo\tback\tto\tmy\tship\tand\tto\tmy\tcrew\t\n",
      "i\t1.00\t0.75\t0.86\t0.76\t0.73\t0.90\t0.35\t0.65\t0.73\t0.90\t0.42\t\n",
      "must\t0.75\t1.00\t0.85\t0.68\t0.87\t0.69\t0.42\t0.69\t0.87\t0.69\t0.45\t\n",
      "go\t0.86\t0.85\t1.00\t0.84\t0.84\t0.81\t0.41\t0.68\t0.84\t0.81\t0.49\t\n",
      "back\t0.76\t0.68\t0.84\t1.00\t0.83\t0.76\t0.49\t0.77\t0.83\t0.76\t0.51\t\n",
      "to\t0.73\t0.87\t0.84\t0.83\t1.00\t0.68\t0.54\t0.86\t1.00\t0.68\t0.51\t\n",
      "my\t0.90\t0.69\t0.81\t0.76\t0.68\t1.00\t0.38\t0.63\t0.68\t1.00\t0.44\t\n",
      "ship\t0.35\t0.42\t0.41\t0.49\t0.54\t0.38\t1.00\t0.46\t0.54\t0.38\t0.78\t\n",
      "and\t0.65\t0.69\t0.68\t0.77\t0.86\t0.63\t0.46\t1.00\t0.86\t0.63\t0.49\t\n",
      "to\t0.73\t0.87\t0.84\t0.83\t1.00\t0.68\t0.54\t0.86\t1.00\t0.68\t0.51\t\n",
      "my\t0.90\t0.69\t0.81\t0.76\t0.68\t1.00\t0.38\t0.63\t0.68\t1.00\t0.44\t\n",
      "crew\t0.42\t0.45\t0.49\t0.51\t0.51\t0.44\t0.78\t0.49\t0.51\t0.44\t1.00\t\n"
     ]
    }
   ],
   "source": [
    "print_cos_weights(words_o, embeddings_dict)\n"
   ]
  },
  {
   "cell_type": "code",
   "execution_count": 15,
   "id": "1e35e7c8",
   "metadata": {},
   "outputs": [
    {
     "name": "stdout",
     "output_type": "stream",
     "text": [
      "\twe\tprocess\tand\tship\tyour\torder\t\n",
      "we\t1.00\t0.64\t0.70\t0.36\t0.75\t0.64\t\n",
      "process\t0.64\t1.00\t0.61\t0.29\t0.52\t0.67\t\n",
      "and\t0.70\t0.61\t1.00\t0.46\t0.58\t0.69\t\n",
      "ship\t0.36\t0.29\t0.46\t1.00\t0.37\t0.52\t\n",
      "your\t0.75\t0.52\t0.58\t0.37\t1.00\t0.63\t\n",
      "order\t0.64\t0.67\t0.69\t0.52\t0.63\t1.00\t\n"
     ]
    }
   ],
   "source": [
    "print_cos_weights(words_a, embeddings_dict)\n"
   ]
  },
  {
   "attachments": {},
   "cell_type": "markdown",
   "id": "591c498b-1650-403a-9ba1-780ba3ef4dd5",
   "metadata": {},
   "source": [
    "## Contextual embeddings"
   ]
  },
  {
   "attachments": {},
   "cell_type": "markdown",
   "id": "958548e0-5560-4c09-bb13-9731cccf72fa",
   "metadata": {},
   "source": [
    "We design a new vector representation for _ship_ so that it receives an influence from _crew_ and the other words of its context. This influence will depend on the embeddings from te context. Let us use the cosine similarities as attention weights"
   ]
  },
  {
   "cell_type": "code",
   "execution_count": 16,
   "id": "9cedf865",
   "metadata": {},
   "outputs": [
    {
     "data": {
      "text/plain": [
       "tensor([0.3466, 0.4178, 0.4068, 0.4853, 0.5401, 0.3791, 1.0000, 0.4586, 0.5401,\n",
       "        0.3791, 0.7848])"
      ]
     },
     "execution_count": 16,
     "metadata": {},
     "output_type": "execute_result"
    }
   ],
   "source": [
    "attn_cos_weights(embeddings_mat_o)[6]\n"
   ]
  },
  {
   "attachments": {},
   "cell_type": "markdown",
   "id": "dca41244-cf33-4d0c-9bd9-d1b705f45b1f",
   "metadata": {},
   "source": [
    "We compute the new embeddings as the sum of the noncontextual embeddings weighted by the cosine similarity. We have contextual embeddings."
   ]
  },
  {
   "cell_type": "code",
   "execution_count": 17,
   "id": "2a2700f2-3bbe-4911-9e73-bc32ad1cf082",
   "metadata": {},
   "outputs": [
    {
     "data": {
      "text/plain": [
       "tensor([  3.2289,   0.6422,   1.4712,  -2.3538,   2.2414,  -0.4237,  -4.1052,\n",
       "          2.6216,   0.1719,  -2.4324,   1.3882,   3.7241,  -1.9721,   1.1893,\n",
       "          2.2511,   0.9502,  -0.7646,   1.0289,  -3.0553,  -3.6306,   0.8305,\n",
       "          2.9299,   1.3221,  -0.7092,   2.9745, -10.5959,  -1.3168,   0.2059,\n",
       "          3.5457,  -2.7711,  18.2672,   2.4817,  -3.5887,   0.3297,   1.2718,\n",
       "          0.6539,   1.5873,   0.0195,   0.7724,  -1.4620,  -0.2067,  -1.2464,\n",
       "          2.1504,  -0.1811,  -0.5026,  -0.2888,  -0.5060,  -1.9676,  -0.0605,\n",
       "         -0.6725])"
      ]
     },
     "execution_count": 17,
     "metadata": {},
     "output_type": "execute_result"
    }
   ],
   "source": [
    "new_embeddings_ship = (0.35 * embeddings_dict['i'] +\n",
    "                       0.42 * embeddings_dict['must'] +\n",
    "                       0.41 * embeddings_dict['go'] +\n",
    "                       0.49 * embeddings_dict['back'] +\n",
    "                       0.54 * embeddings_dict['to'] +\n",
    "                       0.38 * embeddings_dict['my'] +\n",
    "                       1.00 * embeddings_dict['ship'] +\n",
    "                       0.46 * embeddings_dict['and'] +\n",
    "                       0.54 * embeddings_dict['to'] +\n",
    "                       0.38 * embeddings_dict['my'] +\n",
    "                       0.78 * embeddings_dict['crew'])\n",
    "new_embeddings_ship\n"
   ]
  },
  {
   "attachments": {},
   "cell_type": "markdown",
   "id": "135c0613-cac0-4fbc-abc0-30f0727a79a1",
   "metadata": {},
   "source": [
    "Exact computation with torch"
   ]
  },
  {
   "cell_type": "code",
   "execution_count": 18,
   "id": "82630b84",
   "metadata": {},
   "outputs": [
    {
     "data": {
      "text/plain": [
       "tensor([ 3.2319e+00,  6.4082e-01,  1.4718e+00, -2.3434e+00,  2.2358e+00,\n",
       "        -4.1877e-01, -4.1002e+00,  2.6211e+00,  1.8010e-01, -2.4360e+00,\n",
       "         1.3923e+00,  3.7188e+00, -1.9603e+00,  1.1980e+00,  2.2394e+00,\n",
       "         9.3763e-01, -7.7049e-01,  1.0349e+00, -3.0615e+00, -3.6259e+00,\n",
       "         8.3401e-01,  2.9281e+00,  1.3165e+00, -7.1303e-01,  2.9667e+00,\n",
       "        -1.0567e+01, -1.3099e+00,  2.0283e-01,  3.5362e+00, -2.7571e+00,\n",
       "         1.8220e+01,  2.4698e+00, -3.5804e+00,  3.2604e-01,  1.2760e+00,\n",
       "         6.5701e-01,  1.5889e+00,  1.1571e-02,  7.6620e-01, -1.4560e+00,\n",
       "        -2.0362e-01, -1.2484e+00,  2.1550e+00, -1.8767e-01, -5.0253e-01,\n",
       "        -2.9128e-01, -5.1006e-01, -1.9596e+00, -5.8853e-02, -6.7380e-01])"
      ]
     },
     "execution_count": 18,
     "metadata": {},
     "output_type": "execute_result"
    }
   ],
   "source": [
    "(attn_cos_weights(embeddings_mat_o) @ embeddings_mat_o)[6]\n"
   ]
  },
  {
   "attachments": {},
   "cell_type": "markdown",
   "id": "61f8b7cf-0ef8-46dd-96d2-e94601dcdf45",
   "metadata": {
    "tags": []
   },
   "source": [
    "## Self-attention"
   ]
  },
  {
   "attachments": {},
   "cell_type": "markdown",
   "id": "7fe38dcb-887e-4b92-871e-011918b76140",
   "metadata": {},
   "source": [
    "Vaswani et al. (2017) defined attention as:\n",
    "$$\n",
    "\\text{Attention}({Q}, {K}, {Q}) = \\text{softmax}(\\frac{{Q}  {K}^\\intercal}{\\sqrt{d_k}})  {V},\n",
    "$$\n",
    "where\n",
    "$$\n",
    "\\begin{array}{lcl}\n",
    "{Q} &=& {X} {W}_Q,   \\\\\n",
    "{K} &=& {X} {W}_K , \\\\\n",
    "{V} &=& {X} {W}_V.\\\\\n",
    "\\end{array}\n",
    "$$\n",
    "and ${X}$ represents complete input sequence (all the tokens).\n",
    "\n",
    "$d_k$ is the dimension of the input and $\\sqrt{d_k}$ a scaling factor. The $\\text{softmax}$ function is defined as:\n",
    "$$\n",
    "\\text{softmax}(x_1, x_2, ..., x_j, ..., x_n) = (\\frac{e^{x_1}}{\\sum_{i=1}^n e^{x_i}}, \\frac{e^{x_2}}{\\sum_{i=1}^n e^{x_i}}, ..., \\frac{e^{x_j}}{\\sum_{i=1}^n e^{x_i}}, ..., \\frac{e^{x_n}}{\\sum_{i=1}^n e^{x_i}})\n",
    "$$\n",
    "\n",
    "We omit the weight matrices and we use the same embeddings for ${Q}$, ${K}$, and ${Q}$: GloVe embeddings"
   ]
  },
  {
   "attachments": {},
   "cell_type": "markdown",
   "id": "77bac5b7-2636-405a-ad9d-5ce0aec3f541",
   "metadata": {},
   "source": [
    "For the matrix above, self attention, $\\text{softmax}(\\frac{{Q}  {K}^\\intercal}{\\sqrt{d_k}})$,  for _ship_ yields:"
   ]
  },
  {
   "cell_type": "code",
   "execution_count": 19,
   "id": "edc144c8",
   "metadata": {},
   "outputs": [
    {
     "data": {
      "text/plain": [
       "tensor(50)"
      ]
     },
     "execution_count": 19,
     "metadata": {},
     "output_type": "execute_result"
    }
   ],
   "source": [
    "dk = embeddings_dict['i'].size()[0]\n",
    "dk = torch.tensor(dk)\n",
    "dk\n"
   ]
  },
  {
   "cell_type": "code",
   "execution_count": 20,
   "id": "cd81a119-112f-4eb1-9f36-7fa0514ac14c",
   "metadata": {},
   "outputs": [
    {
     "data": {
      "text/plain": [
       "tensor([0.0303, 0.0302, 0.0276, 0.0407, 0.0459, 0.0343, 0.5530, 0.0297, 0.0459,\n",
       "        0.0343, 0.1281])"
      ]
     },
     "execution_count": 20,
     "metadata": {},
     "output_type": "execute_result"
    }
   ],
   "source": [
    "attn_weights_o = F.softmax(\n",
    "    embeddings_mat_o @ embeddings_mat_o.T/torch.sqrt(dk), dim=-1)\n",
    "attn_weights_o[6]\n"
   ]
  },
  {
   "attachments": {},
   "cell_type": "markdown",
   "id": "f9658c8f-2804-4f0b-8c6d-c0cd5e10e0c2",
   "metadata": {},
   "source": [
    "The scaled and normalized attention weights"
   ]
  },
  {
   "cell_type": "code",
   "execution_count": 21,
   "id": "cf831af2-f40f-4512-a661-e300c467b897",
   "metadata": {},
   "outputs": [],
   "source": [
    "def print_attn_weights(words, embeddings_dict):\n",
    "    embeddings = embedding_matrix(words, embeddings_dict)\n",
    "    sent_length, dk = embeddings.size()\n",
    "    attn_weights = F.softmax(embeddings @ embeddings.T /\n",
    "                            torch.sqrt(torch.tensor(dk)), dim=-1)\n",
    "    print('\\t', end='')\n",
    "    for i in range(sent_length):\n",
    "        print(words[i], end='\\t')\n",
    "    print()\n",
    "    for i in range(sent_length):\n",
    "        print(words[i], end='\\t')\n",
    "        for j in range(sent_length):\n",
    "            print(f\"{attn_weights[i,j]:.2f}\", end='\\t')\n",
    "        print()\n"
   ]
  },
  {
   "cell_type": "code",
   "execution_count": 22,
   "id": "5f977f85",
   "metadata": {},
   "outputs": [
    {
     "name": "stdout",
     "output_type": "stream",
     "text": [
      "\ti\tmust\tgo\tback\tto\tmy\tship\tand\tto\tmy\tcrew\t\n",
      "i\t0.36\t0.05\t0.07\t0.05\t0.04\t0.19\t0.01\t0.02\t0.04\t0.19\t0.01\t\n",
      "must\t0.14\t0.20\t0.10\t0.06\t0.11\t0.10\t0.03\t0.05\t0.11\t0.10\t0.02\t\n",
      "go\t0.18\t0.09\t0.14\t0.09\t0.08\t0.13\t0.02\t0.04\t0.08\t0.13\t0.02\t\n",
      "back\t0.14\t0.05\t0.09\t0.19\t0.08\t0.12\t0.03\t0.06\t0.08\t0.12\t0.03\t\n",
      "to\t0.11\t0.11\t0.09\t0.09\t0.15\t0.08\t0.04\t0.07\t0.15\t0.08\t0.03\t\n",
      "my\t0.19\t0.03\t0.05\t0.04\t0.03\t0.29\t0.01\t0.02\t0.03\t0.29\t0.01\t\n",
      "ship\t0.03\t0.03\t0.03\t0.04\t0.05\t0.03\t0.55\t0.03\t0.05\t0.03\t0.13\t\n",
      "and\t0.10\t0.08\t0.07\t0.10\t0.12\t0.09\t0.04\t0.15\t0.12\t0.09\t0.04\t\n",
      "to\t0.11\t0.11\t0.09\t0.09\t0.15\t0.08\t0.04\t0.07\t0.15\t0.08\t0.03\t\n",
      "my\t0.19\t0.03\t0.05\t0.04\t0.03\t0.29\t0.01\t0.02\t0.03\t0.29\t0.01\t\n",
      "crew\t0.06\t0.05\t0.05\t0.06\t0.05\t0.06\t0.21\t0.04\t0.05\t0.06\t0.31\t\n"
     ]
    }
   ],
   "source": [
    "print_attn_weights(words_o, embeddings_dict)\n"
   ]
  },
  {
   "attachments": {},
   "cell_type": "markdown",
   "id": "7894ff99-35da-460d-8121-b69492a26e21",
   "metadata": {},
   "source": [
    "For _ship:_"
   ]
  },
  {
   "cell_type": "code",
   "execution_count": 23,
   "id": "e556eebb-36bd-4046-90a2-bdc0df48523b",
   "metadata": {},
   "outputs": [
    {
     "data": {
      "text/plain": [
       "tensor([0.0303, 0.0302, 0.0276, 0.0407, 0.0459, 0.0343, 0.5530, 0.0297, 0.0459,\n",
       "        0.0343, 0.1281])"
      ]
     },
     "execution_count": 23,
     "metadata": {},
     "output_type": "execute_result"
    }
   ],
   "source": [
    "attn_weights_o[6]\n"
   ]
  },
  {
   "attachments": {},
   "cell_type": "markdown",
   "id": "8ecb44a4-ba75-400e-96da-da4f197b51c8",
   "metadata": {},
   "source": [
    "We have the weights of 55% for _ship_ and 13% for _crew_, the rest from the other words."
   ]
  },
  {
   "attachments": {},
   "cell_type": "markdown",
   "id": "5624ca6b-c824-4e1c-a23e-2e05222d3d26",
   "metadata": {},
   "source": [
    "And the new contextual embedding is for _ship_ is a linear combination:"
   ]
  },
  {
   "cell_type": "code",
   "execution_count": 24,
   "id": "eb9d28fa-a98a-4579-9ff6-4ceba203dcb1",
   "metadata": {},
   "outputs": [
    {
     "data": {
      "text/plain": [
       "tensor([ 1.0442,  0.0966,  0.3467, -0.4238,  0.2203, -0.0956, -0.9915,  0.6637,\n",
       "         0.4368, -0.7943,  0.5639,  0.9838,  0.0240,  0.5066,  0.0732, -0.1740,\n",
       "        -0.3322,  0.5614, -1.1613, -0.5717,  0.4356,  0.4120, -0.0659, -0.3336,\n",
       "         0.6579, -1.7421, -0.0344,  0.1440,  0.8547, -0.1430,  2.6614, -0.0553,\n",
       "        -0.5376,  0.3057,  0.4068,  0.2231,  0.3959, -0.2940, -0.1163, -0.1340,\n",
       "         0.1709, -0.5332,  0.9552, -0.4178, -0.1058, -0.1715, -0.2251, -0.3923,\n",
       "         0.2098, -0.3625])"
      ]
     },
     "execution_count": 24,
     "metadata": {},
     "output_type": "execute_result"
    }
   ],
   "source": [
    "self_attention_ship = (0.03 * embeddings_dict['i'] +\n",
    "                       0.03 * embeddings_dict['must'] +\n",
    "                       0.03 * embeddings_dict['go'] +\n",
    "                       0.04 * embeddings_dict['back'] +\n",
    "                       0.05 * embeddings_dict['to'] +\n",
    "                       0.03 * embeddings_dict['my'] +\n",
    "                       0.55 * embeddings_dict['ship'] +\n",
    "                       0.03 * embeddings_dict['and'] +\n",
    "                       0.05 * embeddings_dict['to'] +\n",
    "                       0.03 * embeddings_dict['my'] +\n",
    "                       0.13 * embeddings_dict['crew'])\n",
    "self_attention_ship\n"
   ]
  },
  {
   "attachments": {},
   "cell_type": "markdown",
   "id": "cc714db7-aa8d-41de-b844-0e2299ae829d",
   "metadata": {},
   "source": [
    "Exact and complete computation of the whole matrix with torch of \n",
    "$$\n",
    "\\text{softmax}(\\frac{{Q}  {K}^\\intercal}{\\sqrt{d_k}})  {V} :\n",
    "$$"
   ]
  },
  {
   "cell_type": "code",
   "execution_count": 25,
   "id": "6ea8976f-3ee2-406d-9318-2ca0eecb5616",
   "metadata": {
    "tags": []
   },
   "outputs": [],
   "source": [
    "self_attention_output_o = attn_weights_o @ embeddings_mat_o\n"
   ]
  },
  {
   "attachments": {},
   "cell_type": "markdown",
   "id": "1afaa573-f2bd-49d2-9cb5-dced32b4c5a3",
   "metadata": {},
   "source": [
    "The contextual embeddings for _ship:_"
   ]
  },
  {
   "cell_type": "code",
   "execution_count": 26,
   "id": "069655f9-bd3a-4b04-903a-c65ae881baec",
   "metadata": {},
   "outputs": [
    {
     "data": {
      "text/plain": [
       "tensor([ 1.0387,  0.1033,  0.3426, -0.4320,  0.2237, -0.0958, -0.9926,  0.6662,\n",
       "         0.4424, -0.7942,  0.5638,  0.9921,  0.0205,  0.5082,  0.0743, -0.1773,\n",
       "        -0.3408,  0.5675, -1.1545, -0.5718,  0.4288,  0.4191, -0.0658, -0.3339,\n",
       "         0.6682, -1.7473, -0.0485,  0.1531,  0.8642, -0.1447,  2.6571, -0.0545,\n",
       "        -0.5343,  0.3160,  0.4041,  0.2277,  0.3958, -0.2916, -0.1126, -0.1385,\n",
       "         0.1744, -0.5375,  0.9499, -0.4145, -0.1039, -0.1755, -0.2213, -0.3995,\n",
       "         0.2119, -0.3610])"
      ]
     },
     "execution_count": 26,
     "metadata": {},
     "output_type": "execute_result"
    }
   ],
   "source": [
    "self_attention_output_o[6]\n"
   ]
  },
  {
   "attachments": {},
   "cell_type": "markdown",
   "id": "3011b9ef",
   "metadata": {},
   "source": [
    "We can now write a `self_attention` function "
   ]
  },
  {
   "cell_type": "code",
   "execution_count": 27,
   "id": "a27b7ef2",
   "metadata": {},
   "outputs": [],
   "source": [
    "def self_attention(embeddings_mat):\n",
    "    sent_len, dk = embeddings_mat.size()\n",
    "    dk = torch.tensor(dk)\n",
    "    attn_weights = F.softmax(\n",
    "        embeddings_mat @ embeddings_mat.T/torch.sqrt(dk), dim=-1)\n",
    "    attn_output = attn_weights @ embeddings_mat\n",
    "    return attn_output, attn_weights\n"
   ]
  },
  {
   "attachments": {},
   "cell_type": "markdown",
   "id": "9fc9eaba",
   "metadata": {},
   "source": [
    "The word _ship_ in another context: _We process and ship your order_"
   ]
  },
  {
   "cell_type": "code",
   "execution_count": 28,
   "id": "70859d60",
   "metadata": {},
   "outputs": [],
   "source": [
    "attention_output_a, attn_weights_a = self_attention(embeddings_mat_a)\n"
   ]
  },
  {
   "attachments": {},
   "cell_type": "markdown",
   "id": "4cbaaf4a",
   "metadata": {},
   "source": [
    "Attention weights for _ship:_"
   ]
  },
  {
   "cell_type": "code",
   "execution_count": 29,
   "id": "a8bfb2ca",
   "metadata": {},
   "outputs": [
    {
     "data": {
      "text/plain": [
       "tensor([0.0431, 0.0258, 0.0419, 0.7811, 0.0490, 0.0590])"
      ]
     },
     "execution_count": 29,
     "metadata": {},
     "output_type": "execute_result"
    }
   ],
   "source": [
    "attn_weights_a[3]\n"
   ]
  },
  {
   "cell_type": "code",
   "execution_count": 30,
   "id": "a45d66fc",
   "metadata": {},
   "outputs": [
    {
     "name": "stdout",
     "output_type": "stream",
     "text": [
      "\twe\tprocess\tand\tship\tyour\torder\t\n",
      "we\t0.61\t0.06\t0.06\t0.02\t0.20\t0.05\t\n",
      "process\t0.17\t0.50\t0.08\t0.03\t0.11\t0.11\t\n",
      "and\t0.22\t0.12\t0.30\t0.08\t0.15\t0.13\t\n",
      "ship\t0.04\t0.03\t0.04\t0.78\t0.05\t0.06\t\n",
      "your\t0.14\t0.03\t0.03\t0.02\t0.74\t0.04\t\n",
      "order\t0.16\t0.13\t0.10\t0.09\t0.18\t0.34\t\n"
     ]
    }
   ],
   "source": [
    "print_attn_weights(words_a, embeddings_dict)\n"
   ]
  },
  {
   "attachments": {},
   "cell_type": "markdown",
   "id": "1963dec4",
   "metadata": {},
   "source": [
    "The new contextual embeddings for _ship:_"
   ]
  },
  {
   "cell_type": "code",
   "execution_count": 31,
   "id": "37a2b793",
   "metadata": {},
   "outputs": [
    {
     "data": {
      "text/plain": [
       "tensor([ 1.2758,  0.1034,  0.2720, -0.4776,  0.1746, -0.1060, -0.9901,  0.6328,\n",
       "         0.6967, -0.8847,  0.7106,  1.2264,  0.2491,  0.5023, -0.1277, -0.2361,\n",
       "        -0.3709,  0.6545, -1.2587, -0.5332,  0.6681,  0.1687, -0.2567, -0.4218,\n",
       "         0.6960, -1.7077, -0.0052,  0.1572,  1.0763,  0.0410,  2.5467, -0.3418,\n",
       "        -0.5414,  0.4175,  0.4147,  0.2666,  0.3770, -0.4228, -0.2462, -0.0377,\n",
       "         0.3202, -0.7298,  1.2020, -0.5636, -0.0899, -0.1845, -0.2390, -0.4307,\n",
       "         0.3828, -0.4905])"
      ]
     },
     "execution_count": 31,
     "metadata": {},
     "output_type": "execute_result"
    }
   ],
   "source": [
    "attention_output_a[3]\n"
   ]
  },
  {
   "attachments": {},
   "cell_type": "markdown",
   "id": "86dd9e67-74f1-4188-b5cc-8fee780a2a1d",
   "metadata": {},
   "source": [
    "## PyTorch implementation\n",
    " \n",
    "PyTorch has an implementation of self-attention encapsulated in the `MultiheadAttention` class. Before going to the attention module, the query, key value, goes through a linear layer. The output also goes through a linear layer. These three layers are initialized with Xavier's algorithm."
   ]
  },
  {
   "cell_type": "code",
   "execution_count": 32,
   "id": "69c3124e-0197-4713-a837-c880734509bd",
   "metadata": {},
   "outputs": [],
   "source": [
    "from torch.nn import MultiheadAttention\n",
    "\n",
    "att_layer = MultiheadAttention(50,\n",
    "                               1,\n",
    "                               bias=False,\n",
    "                               batch_first=True)\n"
   ]
  },
  {
   "cell_type": "code",
   "execution_count": 33,
   "id": "396c1d82-c5a2-4fee-be93-54229835eea1",
   "metadata": {},
   "outputs": [],
   "source": [
    "(attn_output, attn_weights) = att_layer(\n",
    "    embeddings_mat_o, embeddings_mat_o, embeddings_mat_o)\n"
   ]
  },
  {
   "attachments": {},
   "cell_type": "markdown",
   "id": "50c42892-b9cb-4e06-a63f-b1b9f79506db",
   "metadata": {},
   "source": [
    "The attention weights for _ship:_"
   ]
  },
  {
   "cell_type": "code",
   "execution_count": 34,
   "id": "a6164627-82f0-4f9d-8c55-e48d05a6f155",
   "metadata": {},
   "outputs": [
    {
     "data": {
      "text/plain": [
       "tensor([0.0780, 0.0801, 0.0851, 0.0922, 0.0957, 0.0761, 0.1295, 0.0929, 0.0957,\n",
       "        0.0761, 0.0985], grad_fn=<SelectBackward0>)"
      ]
     },
     "execution_count": 34,
     "metadata": {},
     "output_type": "execute_result"
    }
   ],
   "source": [
    "attn_weights[6]\n"
   ]
  },
  {
   "cell_type": "code",
   "execution_count": 35,
   "id": "cf8e1e4b",
   "metadata": {},
   "outputs": [
    {
     "data": {
      "text/plain": [
       "tensor([[-4.6826e-01, -2.1499e-01,  2.1657e-01,  5.8600e-02,  2.0261e-01,\n",
       "          1.2974e-01, -3.7535e-01, -3.0308e-01, -4.7069e-02,  2.2418e-01,\n",
       "         -5.4904e-04, -5.0533e-02, -3.4317e-01, -2.1501e-01,  1.0109e-01,\n",
       "          2.2577e-01, -7.3280e-02,  3.8556e-01, -4.2677e-01, -1.6214e-01,\n",
       "         -9.7994e-02, -2.6659e-02, -3.0552e-01, -7.2621e-02, -2.6497e-01,\n",
       "         -1.2757e-02, -6.1874e-01, -1.4302e-01,  2.1989e-01,  4.5054e-01,\n",
       "         -1.0840e-01, -1.1712e-01, -4.3860e-02,  3.4409e-02,  1.4586e-02,\n",
       "          3.4393e-01, -4.3443e-02,  1.3277e-01,  6.6110e-02,  8.9199e-02,\n",
       "          5.0547e-02, -6.1725e-02,  5.0861e-02, -2.0772e-01,  3.7283e-01,\n",
       "         -7.8241e-02,  3.7486e-01,  3.1713e-02,  9.0694e-02,  1.7461e-02],\n",
       "        [-4.8627e-01, -1.9671e-01,  2.2992e-01,  5.6741e-02,  1.9986e-01,\n",
       "          1.2246e-01, -3.8601e-01, -2.9922e-01, -4.7199e-02,  2.3012e-01,\n",
       "         -7.6743e-03, -6.8458e-02, -3.5774e-01, -2.1314e-01,  1.1120e-01,\n",
       "          2.5173e-01, -8.7428e-02,  4.3812e-01, -4.4160e-01, -1.5867e-01,\n",
       "         -8.6591e-02, -6.4116e-02, -2.9461e-01, -5.5852e-02, -2.6523e-01,\n",
       "         -1.7471e-02, -6.3510e-01, -1.5165e-01,  2.3470e-01,  4.7076e-01,\n",
       "         -1.3290e-01, -1.2630e-01, -3.5442e-02,  2.7269e-02, -6.8078e-03,\n",
       "          3.4868e-01, -4.1140e-02,  1.4318e-01,  6.7423e-02,  8.9383e-02,\n",
       "          4.8983e-02, -4.9592e-02,  3.5317e-02, -2.0715e-01,  3.8526e-01,\n",
       "         -9.6567e-02,  3.8204e-01,  4.2579e-02,  1.0004e-01,  4.2810e-02],\n",
       "        [-4.7680e-01, -2.0355e-01,  2.2972e-01,  6.1128e-02,  2.0725e-01,\n",
       "          1.2017e-01, -3.7979e-01, -2.9924e-01, -5.7409e-02,  2.2153e-01,\n",
       "         -8.0551e-03, -6.3982e-02, -3.5456e-01, -2.0053e-01,  1.0901e-01,\n",
       "          2.4468e-01, -7.3896e-02,  4.2020e-01, -4.3860e-01, -1.6062e-01,\n",
       "         -9.8602e-02, -4.7860e-02, -2.8830e-01, -5.4390e-02, -2.6107e-01,\n",
       "         -2.4566e-02, -6.2556e-01, -1.5337e-01,  2.3416e-01,  4.6110e-01,\n",
       "         -1.2708e-01, -1.1955e-01, -3.4350e-02,  3.1630e-02,  5.6657e-03,\n",
       "          3.4719e-01, -3.1319e-02,  1.4499e-01,  6.6474e-02,  8.4590e-02,\n",
       "          5.5121e-02, -5.7096e-02,  3.7766e-02, -2.0746e-01,  3.7890e-01,\n",
       "         -9.3866e-02,  3.8103e-01,  4.0372e-02,  1.0304e-01,  2.9687e-02],\n",
       "        [-4.6791e-01, -2.1357e-01,  2.1710e-01,  6.3076e-02,  2.0521e-01,\n",
       "          1.2407e-01, -3.7331e-01, -3.0007e-01, -5.2036e-02,  2.1932e-01,\n",
       "         -2.4563e-03, -5.1972e-02, -3.4795e-01, -2.0461e-01,  1.0487e-01,\n",
       "          2.2975e-01, -6.7938e-02,  3.9125e-01, -4.3098e-01, -1.6065e-01,\n",
       "         -1.0365e-01, -3.0349e-02, -2.9515e-01, -6.6045e-02, -2.6419e-01,\n",
       "         -2.0610e-02, -6.2007e-01, -1.4690e-01,  2.2594e-01,  4.5139e-01,\n",
       "         -1.1405e-01, -1.1686e-01, -3.7388e-02,  3.4314e-02,  1.7844e-02,\n",
       "          3.4791e-01, -3.5456e-02,  1.3914e-01,  6.7474e-02,  8.5318e-02,\n",
       "          5.5479e-02, -6.3840e-02,  4.9169e-02, -2.0507e-01,  3.7530e-01,\n",
       "         -8.5701e-02,  3.7821e-01,  3.5877e-02,  9.5497e-02,  1.6124e-02],\n",
       "        [-4.8185e-01, -2.0175e-01,  2.2500e-01,  5.8692e-02,  1.9931e-01,\n",
       "          1.2440e-01, -3.8264e-01, -2.9851e-01, -4.9810e-02,  2.2785e-01,\n",
       "         -7.6598e-03, -6.3140e-02, -3.5415e-01, -2.1075e-01,  1.1094e-01,\n",
       "          2.4753e-01, -8.0388e-02,  4.2535e-01, -4.3994e-01, -1.5750e-01,\n",
       "         -9.0147e-02, -5.2511e-02, -2.9391e-01, -5.9986e-02, -2.6590e-01,\n",
       "         -1.7133e-02, -6.3236e-01, -1.4902e-01,  2.3341e-01,  4.6494e-01,\n",
       "         -1.2617e-01, -1.2305e-01, -3.5582e-02,  2.7728e-02,  1.2777e-04,\n",
       "          3.4814e-01, -4.1127e-02,  1.4228e-01,  6.8593e-02,  8.7844e-02,\n",
       "          5.2391e-02, -5.4153e-02,  3.9669e-02, -2.0511e-01,  3.8355e-01,\n",
       "         -9.3575e-02,  3.7991e-01,  3.9018e-02,  9.9575e-02,  3.5894e-02],\n",
       "        [-4.8152e-01, -2.0218e-01,  2.2358e-01,  5.4920e-02,  1.9825e-01,\n",
       "          1.3245e-01, -3.8681e-01, -2.9869e-01, -4.5656e-02,  2.2867e-01,\n",
       "         -2.5008e-03, -6.2025e-02, -3.4388e-01, -2.2346e-01,  1.0758e-01,\n",
       "          2.4035e-01, -8.3434e-02,  4.1411e-01, -4.3292e-01, -1.6179e-01,\n",
       "         -8.9452e-02, -4.7227e-02, -3.0880e-01, -6.9131e-02, -2.6634e-01,\n",
       "         -1.2269e-02, -6.2759e-01, -1.4536e-01,  2.2543e-01,  4.6466e-01,\n",
       "         -1.1900e-01, -1.2084e-01, -4.1903e-02,  3.2118e-02,  7.2800e-04,\n",
       "          3.4546e-01, -5.1341e-02,  1.3597e-01,  6.8634e-02,  9.0688e-02,\n",
       "          4.5745e-02, -5.0195e-02,  4.2383e-02, -2.0986e-01,  3.7742e-01,\n",
       "         -8.4850e-02,  3.7846e-01,  3.2851e-02,  9.0412e-02,  3.4061e-02],\n",
       "        [-4.7779e-01, -2.0713e-01,  2.1079e-01,  5.9505e-02,  1.9327e-01,\n",
       "          1.3122e-01, -3.7418e-01, -2.9823e-01, -4.6043e-02,  2.2944e-01,\n",
       "         -5.3052e-03, -5.2232e-02, -3.4436e-01, -2.1502e-01,  1.1074e-01,\n",
       "          2.3826e-01, -7.4055e-02,  4.0112e-01, -4.3417e-01, -1.5681e-01,\n",
       "         -9.3442e-02, -3.3866e-02, -3.0043e-01, -7.4589e-02, -2.6963e-01,\n",
       "         -1.0490e-02, -6.2555e-01, -1.4120e-01,  2.2509e-01,  4.5799e-01,\n",
       "         -1.1171e-01, -1.2121e-01, -3.8951e-02,  2.6959e-02,  1.3013e-02,\n",
       "          3.4521e-01, -5.0241e-02,  1.3502e-01,  7.1552e-02,  8.5531e-02,\n",
       "          5.4294e-02, -6.3222e-02,  5.0237e-02, -2.0369e-01,  3.8230e-01,\n",
       "         -8.4558e-02,  3.7758e-01,  3.2535e-02,  9.2100e-02,  2.7631e-02],\n",
       "        [-4.7401e-01, -2.1597e-01,  2.0805e-01,  5.7085e-02,  1.9104e-01,\n",
       "          1.3393e-01, -3.7168e-01, -3.0492e-01, -4.0563e-02,  2.3481e-01,\n",
       "         -4.6255e-03, -4.5957e-02, -3.4486e-01, -2.2042e-01,  1.0371e-01,\n",
       "          2.3080e-01, -7.6652e-02,  3.8826e-01, -4.3089e-01, -1.5469e-01,\n",
       "         -8.6616e-02, -2.3579e-02, -3.0452e-01, -8.1028e-02, -2.7154e-01,\n",
       "         -3.5844e-04, -6.2571e-01, -1.3579e-01,  2.2008e-01,  4.5039e-01,\n",
       "         -1.0308e-01, -1.2155e-01, -4.5281e-02,  2.5181e-02,  1.0596e-02,\n",
       "          3.4263e-01, -5.2779e-02,  1.2899e-01,  6.8320e-02,  9.0990e-02,\n",
       "          5.2742e-02, -6.5428e-02,  5.3670e-02, -2.0185e-01,  3.8052e-01,\n",
       "         -7.7668e-02,  3.7113e-01,  2.9534e-02,  9.1257e-02,  2.4163e-02],\n",
       "        [-4.8185e-01, -2.0175e-01,  2.2500e-01,  5.8692e-02,  1.9931e-01,\n",
       "          1.2440e-01, -3.8264e-01, -2.9851e-01, -4.9810e-02,  2.2785e-01,\n",
       "         -7.6598e-03, -6.3140e-02, -3.5415e-01, -2.1075e-01,  1.1094e-01,\n",
       "          2.4753e-01, -8.0388e-02,  4.2535e-01, -4.3994e-01, -1.5750e-01,\n",
       "         -9.0147e-02, -5.2511e-02, -2.9391e-01, -5.9986e-02, -2.6590e-01,\n",
       "         -1.7133e-02, -6.3236e-01, -1.4902e-01,  2.3341e-01,  4.6494e-01,\n",
       "         -1.2617e-01, -1.2305e-01, -3.5582e-02,  2.7728e-02,  1.2777e-04,\n",
       "          3.4814e-01, -4.1127e-02,  1.4228e-01,  6.8593e-02,  8.7844e-02,\n",
       "          5.2391e-02, -5.4153e-02,  3.9669e-02, -2.0511e-01,  3.8355e-01,\n",
       "         -9.3575e-02,  3.7991e-01,  3.9018e-02,  9.9575e-02,  3.5894e-02],\n",
       "        [-4.8152e-01, -2.0218e-01,  2.2358e-01,  5.4920e-02,  1.9825e-01,\n",
       "          1.3245e-01, -3.8681e-01, -2.9869e-01, -4.5656e-02,  2.2867e-01,\n",
       "         -2.5008e-03, -6.2025e-02, -3.4388e-01, -2.2346e-01,  1.0758e-01,\n",
       "          2.4035e-01, -8.3434e-02,  4.1411e-01, -4.3292e-01, -1.6179e-01,\n",
       "         -8.9452e-02, -4.7227e-02, -3.0880e-01, -6.9131e-02, -2.6634e-01,\n",
       "         -1.2269e-02, -6.2759e-01, -1.4536e-01,  2.2543e-01,  4.6466e-01,\n",
       "         -1.1900e-01, -1.2084e-01, -4.1903e-02,  3.2118e-02,  7.2800e-04,\n",
       "          3.4546e-01, -5.1341e-02,  1.3597e-01,  6.8634e-02,  9.0688e-02,\n",
       "          4.5745e-02, -5.0195e-02,  4.2383e-02, -2.0986e-01,  3.7742e-01,\n",
       "         -8.4850e-02,  3.7846e-01,  3.2851e-02,  9.0412e-02,  3.4061e-02],\n",
       "        [-4.8566e-01, -1.9570e-01,  2.2539e-01,  5.8161e-02,  1.9732e-01,\n",
       "          1.2692e-01, -3.8590e-01, -2.9370e-01, -5.2857e-02,  2.2720e-01,\n",
       "         -8.8986e-03, -6.6540e-02, -3.5021e-01, -2.1228e-01,  1.1637e-01,\n",
       "          2.5367e-01, -7.9705e-02,  4.3321e-01, -4.4167e-01, -1.5824e-01,\n",
       "         -9.1047e-02, -5.6576e-02, -2.9553e-01, -5.9500e-02, -2.6572e-01,\n",
       "         -1.9662e-02, -6.3325e-01, -1.4981e-01,  2.3529e-01,  4.7022e-01,\n",
       "         -1.2858e-01, -1.2237e-01, -3.3673e-02,  2.7301e-02,  3.1298e-04,\n",
       "          3.4725e-01, -4.5227e-02,  1.4372e-01,  7.1766e-02,  8.5183e-02,\n",
       "          5.2712e-02, -5.2033e-02,  3.8676e-02, -2.0651e-01,  3.8516e-01,\n",
       "         -9.4817e-02,  3.8194e-01,  3.7333e-02,  9.8597e-02,  4.0168e-02]],\n",
       "       grad_fn=<SqueezeBackward1>)"
      ]
     },
     "execution_count": 35,
     "metadata": {},
     "output_type": "execute_result"
    }
   ],
   "source": [
    "attn_output\n"
   ]
  },
  {
   "attachments": {},
   "cell_type": "markdown",
   "id": "0c724425-8380-4eb3-8610-a8942e0cad6a",
   "metadata": {},
   "source": [
    "### The initial dense layers"
   ]
  },
  {
   "attachments": {},
   "cell_type": "markdown",
   "id": "223bbf4b-0deb-4337-843a-d5a35452fed4",
   "metadata": {},
   "source": [
    "The weight initial values with the 4 matrices"
   ]
  },
  {
   "cell_type": "code",
   "execution_count": 36,
   "id": "d6b39896",
   "metadata": {},
   "outputs": [
    {
     "data": {
      "text/plain": [
       "OrderedDict([('in_proj_weight',\n",
       "              tensor([[ 0.1166, -0.1155,  0.1705,  ...,  0.0588, -0.0400, -0.1388],\n",
       "                      [ 0.0843,  0.0309,  0.0920,  ..., -0.1133,  0.1074, -0.1378],\n",
       "                      [ 0.0202, -0.0899,  0.1189,  ...,  0.1307, -0.1418,  0.0303],\n",
       "                      ...,\n",
       "                      [ 0.0987, -0.1202,  0.1206,  ...,  0.0667, -0.1011,  0.1717],\n",
       "                      [-0.1227, -0.1660,  0.1384,  ..., -0.0425, -0.1331,  0.0680],\n",
       "                      [ 0.0056, -0.0293, -0.0877,  ..., -0.1334, -0.1293, -0.0270]])),\n",
       "             ('out_proj.weight',\n",
       "              tensor([[-0.0418, -0.0286,  0.1178,  ...,  0.1233,  0.0926,  0.0739],\n",
       "                      [ 0.0798, -0.0880,  0.0921,  ...,  0.1189,  0.0978, -0.0611],\n",
       "                      [-0.0796,  0.0180, -0.0338,  ..., -0.1319,  0.1072,  0.0013],\n",
       "                      ...,\n",
       "                      [-0.0779, -0.0267, -0.0365,  ..., -0.0826,  0.0795,  0.0998],\n",
       "                      [-0.1384,  0.0122, -0.0081,  ..., -0.1200,  0.0839,  0.0522],\n",
       "                      [-0.0400,  0.1330, -0.0665,  ...,  0.1317,  0.1210, -0.0794]]))])"
      ]
     },
     "execution_count": 36,
     "metadata": {},
     "output_type": "execute_result"
    }
   ],
   "source": [
    "att_layer.state_dict()\n"
   ]
  },
  {
   "attachments": {},
   "cell_type": "markdown",
   "id": "6c3639ae",
   "metadata": {},
   "source": [
    "The three input matrices are concatenated"
   ]
  },
  {
   "cell_type": "code",
   "execution_count": 37,
   "id": "8435791e",
   "metadata": {},
   "outputs": [
    {
     "data": {
      "text/plain": [
       "torch.Size([150, 50])"
      ]
     },
     "execution_count": 37,
     "metadata": {},
     "output_type": "execute_result"
    }
   ],
   "source": [
    "att_layer.state_dict()['in_proj_weight'].size()\n"
   ]
  },
  {
   "attachments": {},
   "cell_type": "markdown",
   "id": "c71e7253",
   "metadata": {},
   "source": [
    "The output matrix"
   ]
  },
  {
   "cell_type": "code",
   "execution_count": 38,
   "id": "e8b77b71",
   "metadata": {},
   "outputs": [
    {
     "data": {
      "text/plain": [
       "torch.Size([50, 50])"
      ]
     },
     "execution_count": 38,
     "metadata": {},
     "output_type": "execute_result"
    }
   ],
   "source": [
    "att_layer.state_dict()['out_proj.weight'].size()\n"
   ]
  },
  {
   "attachments": {},
   "cell_type": "markdown",
   "id": "ce5b4492",
   "metadata": {},
   "source": [
    "### By-passing the dense layers"
   ]
  },
  {
   "attachments": {},
   "cell_type": "markdown",
   "id": "e8a3cb2d",
   "metadata": {},
   "source": [
    "We create identity matrices to pass through the dense layers and recover the attention output values and weights"
   ]
  },
  {
   "cell_type": "code",
   "execution_count": 39,
   "id": "64bd80d1",
   "metadata": {},
   "outputs": [
    {
     "data": {
      "text/plain": [
       "tensor([[1., 0., 0.,  ..., 0., 0., 0.],\n",
       "        [0., 1., 0.,  ..., 0., 0., 0.],\n",
       "        [0., 0., 1.,  ..., 0., 0., 0.],\n",
       "        ...,\n",
       "        [0., 0., 0.,  ..., 1., 0., 0.],\n",
       "        [0., 0., 0.,  ..., 0., 1., 0.],\n",
       "        [0., 0., 0.,  ..., 0., 0., 1.]])"
      ]
     },
     "execution_count": 39,
     "metadata": {},
     "output_type": "execute_result"
    }
   ],
   "source": [
    "i_50 = torch.eye(50)\n",
    "i_50\n"
   ]
  },
  {
   "cell_type": "code",
   "execution_count": 40,
   "id": "37832b84",
   "metadata": {},
   "outputs": [],
   "source": [
    "att_layer.state_dict()['out_proj.weight'][:] = i_50\n"
   ]
  },
  {
   "cell_type": "code",
   "execution_count": 41,
   "id": "169efcfa",
   "metadata": {},
   "outputs": [
    {
     "data": {
      "text/plain": [
       "torch.Size([150, 50])"
      ]
     },
     "execution_count": 41,
     "metadata": {},
     "output_type": "execute_result"
    }
   ],
   "source": [
    "att_layer.state_dict()['in_proj_weight'].size()\n"
   ]
  },
  {
   "cell_type": "code",
   "execution_count": 42,
   "id": "b863032a",
   "metadata": {},
   "outputs": [
    {
     "data": {
      "text/plain": [
       "torch.Size([150, 50])"
      ]
     },
     "execution_count": 42,
     "metadata": {},
     "output_type": "execute_result"
    }
   ],
   "source": [
    "i_3_50 = torch.vstack((i_50, i_50, i_50))\n",
    "i_3_50.size()\n"
   ]
  },
  {
   "cell_type": "code",
   "execution_count": 43,
   "id": "ea234af2",
   "metadata": {},
   "outputs": [],
   "source": [
    "att_layer.state_dict()['in_proj_weight'][:] = i_3_50\n"
   ]
  },
  {
   "cell_type": "code",
   "execution_count": 44,
   "id": "b879275e",
   "metadata": {},
   "outputs": [
    {
     "data": {
      "text/plain": [
       "OrderedDict([('in_proj_weight',\n",
       "              tensor([[1., 0., 0.,  ..., 0., 0., 0.],\n",
       "                      [0., 1., 0.,  ..., 0., 0., 0.],\n",
       "                      [0., 0., 1.,  ..., 0., 0., 0.],\n",
       "                      ...,\n",
       "                      [0., 0., 0.,  ..., 1., 0., 0.],\n",
       "                      [0., 0., 0.,  ..., 0., 1., 0.],\n",
       "                      [0., 0., 0.,  ..., 0., 0., 1.]])),\n",
       "             ('out_proj.weight',\n",
       "              tensor([[1., 0., 0.,  ..., 0., 0., 0.],\n",
       "                      [0., 1., 0.,  ..., 0., 0., 0.],\n",
       "                      [0., 0., 1.,  ..., 0., 0., 0.],\n",
       "                      ...,\n",
       "                      [0., 0., 0.,  ..., 1., 0., 0.],\n",
       "                      [0., 0., 0.,  ..., 0., 1., 0.],\n",
       "                      [0., 0., 0.,  ..., 0., 0., 1.]]))])"
      ]
     },
     "execution_count": 44,
     "metadata": {},
     "output_type": "execute_result"
    }
   ],
   "source": [
    "att_layer.state_dict()\n"
   ]
  },
  {
   "attachments": {},
   "cell_type": "markdown",
   "id": "a3f34906-38db-488d-b127-c76fc070e7b1",
   "metadata": {},
   "source": [
    "### Multihead attention without the dense layers"
   ]
  },
  {
   "attachments": {},
   "cell_type": "markdown",
   "id": "26b083c3-77b0-4115-a3aa-7041a9f8be15",
   "metadata": {},
   "source": [
    "We obtain now the same results as the `self_attention()` function for _ship:_"
   ]
  },
  {
   "attachments": {},
   "cell_type": "markdown",
   "id": "4de86e9c-c982-4eb0-a725-595ee7bd9782",
   "metadata": {},
   "source": [
    "The attention weights for _ship:_"
   ]
  },
  {
   "cell_type": "code",
   "execution_count": 45,
   "id": "9f5c93cd-f8dd-4611-bee7-98eec7e69438",
   "metadata": {},
   "outputs": [],
   "source": [
    "(attn_output, attn_weights) = att_layer(\n",
    "    embeddings_mat_o, embeddings_mat_o, embeddings_mat_o)\n"
   ]
  },
  {
   "attachments": {},
   "cell_type": "markdown",
   "id": "e926183c-0734-49c7-9480-190f6c892adf",
   "metadata": {},
   "source": [
    "The attention vector for _ship:_"
   ]
  },
  {
   "cell_type": "code",
   "execution_count": 46,
   "id": "197dc6c5",
   "metadata": {},
   "outputs": [
    {
     "data": {
      "text/plain": [
       "tensor([0.0303, 0.0302, 0.0276, 0.0407, 0.0459, 0.0343, 0.5530, 0.0297, 0.0459,\n",
       "        0.0343, 0.1281], grad_fn=<SelectBackward0>)"
      ]
     },
     "execution_count": 46,
     "metadata": {},
     "output_type": "execute_result"
    }
   ],
   "source": [
    "attn_weights[6]\n"
   ]
  },
  {
   "attachments": {},
   "cell_type": "markdown",
   "id": "cb4e0315",
   "metadata": {},
   "source": [
    "The embedding vector for _ship_"
   ]
  },
  {
   "cell_type": "code",
   "execution_count": 47,
   "id": "1be2d12f-9e76-4f53-baea-8178dd5a7e4a",
   "metadata": {},
   "outputs": [
    {
     "data": {
      "text/plain": [
       "tensor([ 1.0387,  0.1033,  0.3426, -0.4320,  0.2237, -0.0958, -0.9926,  0.6662,\n",
       "         0.4424, -0.7942,  0.5638,  0.9921,  0.0205,  0.5082,  0.0743, -0.1773,\n",
       "        -0.3408,  0.5674, -1.1545, -0.5718,  0.4288,  0.4191, -0.0658, -0.3339,\n",
       "         0.6682, -1.7473, -0.0485,  0.1531,  0.8642, -0.1447,  2.6571, -0.0545,\n",
       "        -0.5343,  0.3160,  0.4041,  0.2277,  0.3958, -0.2916, -0.1126, -0.1385,\n",
       "         0.1744, -0.5375,  0.9499, -0.4145, -0.1039, -0.1755, -0.2213, -0.3995,\n",
       "         0.2119, -0.3610], grad_fn=<SelectBackward0>)"
      ]
     },
     "execution_count": 47,
     "metadata": {},
     "output_type": "execute_result"
    }
   ],
   "source": [
    "attn_output[6]\n"
   ]
  },
  {
   "cell_type": "markdown",
   "id": "f6e05c3b",
   "metadata": {},
   "source": [
    "## Multihead"
   ]
  },
  {
   "cell_type": "code",
   "execution_count": 105,
   "id": "1e64fba1",
   "metadata": {},
   "outputs": [],
   "source": [
    "att_layer_5 = MultiheadAttention(50,\n",
    "                               5,\n",
    "                               #bias=False,\n",
    "                               batch_first=True)"
   ]
  },
  {
   "cell_type": "code",
   "execution_count": 100,
   "id": "b5d364e3",
   "metadata": {},
   "outputs": [],
   "source": [
    "attn_output, attn_weights = att_layer_5(embeddings_mat_o, \n",
    "                                        embeddings_mat_o, \n",
    "                                        embeddings_mat_o)"
   ]
  },
  {
   "cell_type": "code",
   "execution_count": 101,
   "id": "ef1b2875",
   "metadata": {},
   "outputs": [
    {
     "data": {
      "text/plain": [
       "torch.Size([11, 50])"
      ]
     },
     "execution_count": 101,
     "metadata": {},
     "output_type": "execute_result"
    }
   ],
   "source": [
    "attn_output.size()"
   ]
  },
  {
   "cell_type": "code",
   "execution_count": 102,
   "id": "0ca7e566",
   "metadata": {},
   "outputs": [
    {
     "data": {
      "text/plain": [
       "torch.Size([11, 11])"
      ]
     },
     "execution_count": 102,
     "metadata": {},
     "output_type": "execute_result"
    }
   ],
   "source": [
    "attn_weights.size()"
   ]
  },
  {
   "cell_type": "code",
   "execution_count": 106,
   "id": "464ec533",
   "metadata": {},
   "outputs": [
    {
     "data": {
      "text/plain": [
       "OrderedDict([('in_proj_weight',\n",
       "              tensor([[-0.1547,  0.0469,  0.0085,  ...,  0.0003,  0.0072, -0.1290],\n",
       "                      [ 0.1376, -0.1614,  0.1675,  ...,  0.0844,  0.0071, -0.0405],\n",
       "                      [ 0.1194,  0.1353, -0.1417,  ...,  0.0411,  0.0384,  0.1416],\n",
       "                      ...,\n",
       "                      [-0.0847, -0.0924, -0.1374,  ..., -0.1119,  0.0628,  0.1710],\n",
       "                      [-0.0087,  0.0895, -0.1642,  ...,  0.1585,  0.0802,  0.0207],\n",
       "                      [ 0.0314, -0.0630,  0.0014,  ..., -0.0353,  0.1654, -0.1638]])),\n",
       "             ('in_proj_bias',\n",
       "              tensor([0., 0., 0., 0., 0., 0., 0., 0., 0., 0., 0., 0., 0., 0., 0., 0., 0., 0., 0., 0., 0., 0., 0., 0.,\n",
       "                      0., 0., 0., 0., 0., 0., 0., 0., 0., 0., 0., 0., 0., 0., 0., 0., 0., 0., 0., 0., 0., 0., 0., 0.,\n",
       "                      0., 0., 0., 0., 0., 0., 0., 0., 0., 0., 0., 0., 0., 0., 0., 0., 0., 0., 0., 0., 0., 0., 0., 0.,\n",
       "                      0., 0., 0., 0., 0., 0., 0., 0., 0., 0., 0., 0., 0., 0., 0., 0., 0., 0., 0., 0., 0., 0., 0., 0.,\n",
       "                      0., 0., 0., 0., 0., 0., 0., 0., 0., 0., 0., 0., 0., 0., 0., 0., 0., 0., 0., 0., 0., 0., 0., 0.,\n",
       "                      0., 0., 0., 0., 0., 0., 0., 0., 0., 0., 0., 0., 0., 0., 0., 0., 0., 0., 0., 0., 0., 0., 0., 0.,\n",
       "                      0., 0., 0., 0., 0., 0.])),\n",
       "             ('out_proj.weight',\n",
       "              tensor([[ 0.1015,  0.1187,  0.0334,  ..., -0.1007,  0.0231,  0.0518],\n",
       "                      [-0.0092, -0.0687, -0.0274,  ..., -0.0343,  0.0683,  0.0778],\n",
       "                      [-0.0962,  0.1051,  0.0436,  ...,  0.0555, -0.0324, -0.0246],\n",
       "                      ...,\n",
       "                      [ 0.1353, -0.0250,  0.0115,  ...,  0.0832,  0.0570,  0.0659],\n",
       "                      [ 0.1301, -0.0640, -0.0060,  ..., -0.0435, -0.0211, -0.0108],\n",
       "                      [ 0.1404,  0.0617,  0.0057,  ..., -0.0565, -0.0025,  0.0590]])),\n",
       "             ('out_proj.bias',\n",
       "              tensor([0., 0., 0., 0., 0., 0., 0., 0., 0., 0., 0., 0., 0., 0., 0., 0., 0., 0., 0., 0., 0., 0., 0., 0.,\n",
       "                      0., 0., 0., 0., 0., 0., 0., 0., 0., 0., 0., 0., 0., 0., 0., 0., 0., 0., 0., 0., 0., 0., 0., 0.,\n",
       "                      0., 0.]))])"
      ]
     },
     "execution_count": 106,
     "metadata": {},
     "output_type": "execute_result"
    }
   ],
   "source": [
    "att_layer_5.state_dict()"
   ]
  },
  {
   "cell_type": "code",
   "execution_count": 94,
   "id": "62cf8371",
   "metadata": {},
   "outputs": [
    {
     "data": {
      "text/plain": [
       "torch.Size([150, 50])"
      ]
     },
     "execution_count": 94,
     "metadata": {},
     "output_type": "execute_result"
    }
   ],
   "source": [
    "att_layer_5.state_dict()['in_proj_weight'].size()"
   ]
  },
  {
   "cell_type": "code",
   "execution_count": 95,
   "id": "49d1ab5b",
   "metadata": {},
   "outputs": [
    {
     "data": {
      "text/plain": [
       "torch.Size([50, 50])"
      ]
     },
     "execution_count": 95,
     "metadata": {},
     "output_type": "execute_result"
    }
   ],
   "source": [
    "att_layer_5.state_dict()['out_proj.weight'].size()"
   ]
  },
  {
   "attachments": {},
   "cell_type": "markdown",
   "id": "34ad8d94-0a2d-4e16-ad54-151f2e9facad",
   "metadata": {},
   "source": [
    "## Test with a simple matrix"
   ]
  },
  {
   "attachments": {},
   "cell_type": "markdown",
   "id": "25eda3f0-52b7-4c03-9167-7e331a018853",
   "metadata": {},
   "source": [
    "Three words, dimension of embeddings: 4"
   ]
  },
  {
   "cell_type": "code",
   "execution_count": 48,
   "id": "2663ebcb-8e4b-4720-9ed3-c88a950dc214",
   "metadata": {},
   "outputs": [],
   "source": [
    "test_input_sequence = torch.tensor([[1.0, 0.0, 0.0, 1.0],\n",
    "                                    [0.0, 1.5, 1.0, 1.0],\n",
    "                                    [0.0, 1.0, 1.0, 1.0]])\n"
   ]
  },
  {
   "cell_type": "code",
   "execution_count": 49,
   "id": "946d88eb-7522-476b-80d4-ceac7af6a2e4",
   "metadata": {},
   "outputs": [
    {
     "data": {
      "text/plain": [
       "torch.Size([3, 4])"
      ]
     },
     "execution_count": 49,
     "metadata": {},
     "output_type": "execute_result"
    }
   ],
   "source": [
    "test_input_sequence.size()\n"
   ]
  },
  {
   "attachments": {},
   "cell_type": "markdown",
   "id": "cab40159-3c6a-45b7-87c4-3fa6f52186a3",
   "metadata": {},
   "source": [
    "### Self-attention from the book"
   ]
  },
  {
   "cell_type": "code",
   "execution_count": 50,
   "id": "5bca6930-4deb-456b-8ac7-7bc92d77f51b",
   "metadata": {},
   "outputs": [
    {
     "data": {
      "text/plain": [
       "(tensor([[0.4519, 0.6852, 0.5481, 1.0000],\n",
       "         [0.1045, 1.1609, 0.8955, 1.0000],\n",
       "         [0.1387, 1.1034, 0.8613, 1.0000]]),\n",
       " tensor([[0.4519, 0.2741, 0.2741],\n",
       "         [0.1045, 0.5307, 0.3648],\n",
       "         [0.1387, 0.4842, 0.3771]]))"
      ]
     },
     "execution_count": 50,
     "metadata": {},
     "output_type": "execute_result"
    }
   ],
   "source": [
    "self_attention(test_input_sequence)\n"
   ]
  },
  {
   "attachments": {},
   "cell_type": "markdown",
   "id": "e1cdbf2f-dc0a-4354-bf96-30b99cddee20",
   "metadata": {},
   "source": [
    "### Multihead attention from PyTorch"
   ]
  },
  {
   "cell_type": "code",
   "execution_count": 51,
   "id": "527fc0db-4fd9-413e-9634-a54469adb4ad",
   "metadata": {},
   "outputs": [],
   "source": [
    "att_layer = MultiheadAttention(4,\n",
    "                               1,\n",
    "                               bias=False)\n"
   ]
  },
  {
   "attachments": {},
   "cell_type": "markdown",
   "id": "0909144a-4c17-45de-82f1-3cb8547eb985",
   "metadata": {},
   "source": [
    "The multihead attention uses a Xavier initialization of the dense layers. The results will be different for those of `self_attention()`"
   ]
  },
  {
   "cell_type": "code",
   "execution_count": 52,
   "id": "ffd9a3b5-4645-4fa5-8d84-06cc6dd72822",
   "metadata": {},
   "outputs": [
    {
     "data": {
      "text/plain": [
       "(tensor([[-0.1564, -0.2048, -0.3103, -0.0635],\n",
       "         [-0.1507, -0.1998, -0.3017, -0.0638],\n",
       "         [-0.1522, -0.2012, -0.3040, -0.0637]], grad_fn=<SqueezeBackward1>),\n",
       " tensor([[0.2791, 0.3755, 0.3453],\n",
       "         [0.2931, 0.3663, 0.3406],\n",
       "         [0.2895, 0.3691, 0.3414]], grad_fn=<SqueezeBackward1>))"
      ]
     },
     "execution_count": 52,
     "metadata": {},
     "output_type": "execute_result"
    }
   ],
   "source": [
    "att_layer(test_input_sequence,\n",
    "          test_input_sequence,\n",
    "          test_input_sequence)\n"
   ]
  },
  {
   "attachments": {},
   "cell_type": "markdown",
   "id": "901e889b-a828-40cc-b208-c6688be25c14",
   "metadata": {},
   "source": [
    "Weights of the dense layers"
   ]
  },
  {
   "cell_type": "code",
   "execution_count": 53,
   "id": "8b597eee-fee4-4a15-9aaf-d62e7e9c1b1e",
   "metadata": {},
   "outputs": [
    {
     "data": {
      "text/plain": [
       "OrderedDict([('in_proj_weight',\n",
       "              tensor([[ 0.4338, -0.1751,  0.3666,  0.4250],\n",
       "                      [ 0.5379, -0.2714,  0.0357,  0.4922],\n",
       "                      [ 0.1468, -0.1328,  0.0231,  0.3700],\n",
       "                      [-0.0839, -0.1653, -0.5226, -0.1443],\n",
       "                      [ 0.5546,  0.1980,  0.5521,  0.2782],\n",
       "                      [ 0.0432,  0.0151,  0.2500,  0.5516],\n",
       "                      [ 0.3102,  0.2209,  0.0617, -0.3252],\n",
       "                      [-0.5573, -0.1553, -0.5935,  0.1095],\n",
       "                      [ 0.5032, -0.2073, -0.4933,  0.4358],\n",
       "                      [-0.1982, -0.2822, -0.2332, -0.3275],\n",
       "                      [ 0.3820,  0.5708,  0.2153, -0.1596],\n",
       "                      [ 0.5904,  0.5305,  0.4842, -0.4498]])),\n",
       "             ('out_proj.weight',\n",
       "              tensor([[ 0.1102, -0.2755, -0.4689, -0.1669],\n",
       "                      [ 0.1113, -0.0404, -0.4188,  0.0349],\n",
       "                      [ 0.3024,  0.2077, -0.2820,  0.0415],\n",
       "                      [-0.0382,  0.0393, -0.2219,  0.1963]]))])"
      ]
     },
     "execution_count": 53,
     "metadata": {},
     "output_type": "execute_result"
    }
   ],
   "source": [
    "att_layer.state_dict()\n"
   ]
  },
  {
   "attachments": {},
   "cell_type": "markdown",
   "id": "ed433e0c-ebad-4319-926c-8d67af07af67",
   "metadata": {},
   "source": [
    "### By-passing the dense layers"
   ]
  },
  {
   "attachments": {},
   "cell_type": "markdown",
   "id": "83941332-2d50-431f-ad4a-3e5e9b0722e7",
   "metadata": {},
   "source": [
    "We use weights of identity matrices"
   ]
  },
  {
   "cell_type": "code",
   "execution_count": 54,
   "id": "ad812cee",
   "metadata": {},
   "outputs": [],
   "source": [
    "i_4 = torch.eye(4)\n"
   ]
  },
  {
   "cell_type": "code",
   "execution_count": 55,
   "id": "2ebcab2b-c158-41e9-9d5e-4aed62d74416",
   "metadata": {},
   "outputs": [],
   "source": [
    "att_layer.state_dict()['out_proj.weight'][:] = i_4\n"
   ]
  },
  {
   "cell_type": "code",
   "execution_count": 56,
   "id": "8bbcedb7",
   "metadata": {},
   "outputs": [
    {
     "data": {
      "text/plain": [
       "torch.Size([12, 4])"
      ]
     },
     "execution_count": 56,
     "metadata": {},
     "output_type": "execute_result"
    }
   ],
   "source": [
    "i_3_4 = torch.vstack((i_4, i_4, i_4))\n",
    "i_3_4.size()\n"
   ]
  },
  {
   "attachments": {},
   "cell_type": "markdown",
   "id": "efa12ec3-7044-4440-abdc-e6786dd078eb",
   "metadata": {},
   "source": [
    "We set these weights"
   ]
  },
  {
   "cell_type": "code",
   "execution_count": 57,
   "id": "42b0789a-e4c6-4198-ab99-b74fbbc3d39c",
   "metadata": {},
   "outputs": [],
   "source": [
    "att_layer.state_dict()['in_proj_weight'][:] = i_3_4\n"
   ]
  },
  {
   "cell_type": "code",
   "execution_count": 58,
   "id": "c8facb2d",
   "metadata": {},
   "outputs": [
    {
     "data": {
      "text/plain": [
       "OrderedDict([('in_proj_weight',\n",
       "              tensor([[1., 0., 0., 0.],\n",
       "                      [0., 1., 0., 0.],\n",
       "                      [0., 0., 1., 0.],\n",
       "                      [0., 0., 0., 1.],\n",
       "                      [1., 0., 0., 0.],\n",
       "                      [0., 1., 0., 0.],\n",
       "                      [0., 0., 1., 0.],\n",
       "                      [0., 0., 0., 1.],\n",
       "                      [1., 0., 0., 0.],\n",
       "                      [0., 1., 0., 0.],\n",
       "                      [0., 0., 1., 0.],\n",
       "                      [0., 0., 0., 1.]])),\n",
       "             ('out_proj.weight',\n",
       "              tensor([[1., 0., 0., 0.],\n",
       "                      [0., 1., 0., 0.],\n",
       "                      [0., 0., 1., 0.],\n",
       "                      [0., 0., 0., 1.]]))])"
      ]
     },
     "execution_count": 58,
     "metadata": {},
     "output_type": "execute_result"
    }
   ],
   "source": [
    "att_layer.state_dict()\n"
   ]
  },
  {
   "attachments": {},
   "cell_type": "markdown",
   "id": "d8892df4-4e1e-4c02-9d00-04be89fc41fd",
   "metadata": {},
   "source": [
    "Now we have the same results as with `self_attention()`"
   ]
  },
  {
   "cell_type": "code",
   "execution_count": 59,
   "id": "67d2d604-eb6e-43e4-b51a-2d645f5eb227",
   "metadata": {},
   "outputs": [
    {
     "data": {
      "text/plain": [
       "(tensor([[0.4519, 0.6852, 0.5481, 1.0000],\n",
       "         [0.1045, 1.1609, 0.8955, 1.0000],\n",
       "         [0.1387, 1.1034, 0.8613, 1.0000]], grad_fn=<SqueezeBackward1>),\n",
       " tensor([[0.4519, 0.2741, 0.2741],\n",
       "         [0.1045, 0.5307, 0.3648],\n",
       "         [0.1387, 0.4842, 0.3771]], grad_fn=<SqueezeBackward1>))"
      ]
     },
     "execution_count": 59,
     "metadata": {},
     "output_type": "execute_result"
    }
   ],
   "source": [
    "att_layer(test_input_sequence,\n",
    "          test_input_sequence,\n",
    "          test_input_sequence)\n"
   ]
  }
 ],
 "metadata": {
  "kernelspec": {
   "display_name": "Python 3.9.13 ('base')",
   "language": "python",
   "name": "python3"
  },
  "language_info": {
   "codemirror_mode": {
    "name": "ipython",
    "version": 3
   },
   "file_extension": ".py",
   "mimetype": "text/x-python",
   "name": "python",
   "nbconvert_exporter": "python",
   "pygments_lexer": "ipython3",
   "version": "3.10.11"
  },
  "vscode": {
   "interpreter": {
    "hash": "b97b11a820675205aae8f1d7f2a3f22bbd3a2c30189f44042310baf5b4cd1987"
   }
  }
 },
 "nbformat": 4,
 "nbformat_minor": 5
}
