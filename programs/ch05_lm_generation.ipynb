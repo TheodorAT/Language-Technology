{
 "cells": [
  {
   "attachments": {},
   "cell_type": "markdown",
   "metadata": {},
   "source": [
    "# Text Generation\n",
    "Generating text with an n-gram language model\n",
    "\n",
    "Author: Pierre Nugues"
   ]
  },
  {
   "cell_type": "markdown",
   "metadata": {},
   "source": [
    "## Reading a Corpus\n",
    "Utility function to read all the files in a folder"
   ]
  },
  {
   "cell_type": "code",
   "execution_count": 1,
   "metadata": {},
   "outputs": [],
   "source": [
    "import os\n",
    "\n",
    "\n",
    "def get_files(dir, suffix):\n",
    "    \"\"\"\n",
    "    Returns all the files in a folder ending with suffix\n",
    "    :param dir:\n",
    "    :param suffix:\n",
    "    :return: the list of file names\n",
    "    \"\"\"\n",
    "    files = []\n",
    "    for file in os.listdir(dir):\n",
    "        if file.endswith(suffix):\n",
    "            files.append(file)\n",
    "    return files\n"
   ]
  },
  {
   "cell_type": "markdown",
   "metadata": {},
   "source": [
    "## Tokenizer\n",
    "An elemetary tokenizer"
   ]
  },
  {
   "cell_type": "code",
   "execution_count": 2,
   "metadata": {},
   "outputs": [],
   "source": [
    "import regex as re\n",
    "\n",
    "\n",
    "def tokenize(text):\n",
    "    \"\"\"\n",
    "    Uses the letters to break the text into words.\n",
    "    Returns a list of match objects\n",
    "    \"\"\"\n",
    "    words = re.findall('\\p{L}+', text)\n",
    "    return words\n"
   ]
  },
  {
   "attachments": {},
   "cell_type": "markdown",
   "metadata": {},
   "source": [
    "## Reading the Files\n",
    "We read a corpus of novels from Dickens or Lagerlöf"
   ]
  },
  {
   "cell_type": "code",
   "execution_count": 3,
   "metadata": {},
   "outputs": [],
   "source": [
    "corpus = 'Iliad'\n"
   ]
  },
  {
   "cell_type": "code",
   "execution_count": 4,
   "metadata": {},
   "outputs": [
    {
     "data": {
      "text/plain": [
       "['iliad.mb.txt']"
      ]
     },
     "execution_count": 4,
     "metadata": {},
     "output_type": "execute_result"
    }
   ],
   "source": [
    "if corpus == 'Selma':\n",
    "    folder = '/Users/pierre/Documents/Cours/EDAN20/corpus/Selma/'\n",
    "elif corpus == 'Dickens':\n",
    "    folder = '/Users/pierre/Documents/Cours/EDAN20/corpus/Dickens/'\n",
    "elif corpus == 'Iliad':\n",
    "    folder = '/Users/pierre/Documents/Cours/EDAN20/programs/corpus/Classics/'\n",
    "\n",
    "if corpus == 'Selma' or corpus == 'Dickens':\n",
    "    files = get_files(folder, 'txt')\n",
    "else:\n",
    "    files = ['iliad.mb.txt']\n",
    "files\n"
   ]
  },
  {
   "cell_type": "markdown",
   "metadata": {},
   "source": [
    "We tokenize the texts"
   ]
  },
  {
   "cell_type": "code",
   "execution_count": 5,
   "metadata": {},
   "outputs": [
    {
     "data": {
      "text/plain": [
       "['book', 'i', 'sing', 'o', 'goddess', 'the', 'anger', 'of', 'achilles', 'son']"
      ]
     },
     "execution_count": 5,
     "metadata": {},
     "output_type": "execute_result"
    }
   ],
   "source": [
    "words = []\n",
    "for file in files:\n",
    "    text = open(folder + file).read().lower().strip()\n",
    "    if corpus == 'Iliad':  # We remove the copyright\n",
    "        text = re.search(r'^-+$(.+)^-+$',\n",
    "                         text, re.M | re.S).group(1).strip()\n",
    "    words += tokenize(text)\n",
    "\n",
    "words[:10]\n"
   ]
  },
  {
   "cell_type": "markdown",
   "metadata": {},
   "source": [
    "## N-gram functions"
   ]
  },
  {
   "cell_type": "code",
   "execution_count": 6,
   "metadata": {},
   "outputs": [],
   "source": [
    "def count_unigrams(words):\n",
    "    frequency = {}\n",
    "    for word in words:\n",
    "        if word in frequency:\n",
    "            frequency[word] += 1\n",
    "        else:\n",
    "            frequency[word] = 1\n",
    "    return frequency\n"
   ]
  },
  {
   "cell_type": "code",
   "execution_count": 7,
   "metadata": {},
   "outputs": [],
   "source": [
    "def count_bigrams(words):\n",
    "    bigrams = [tuple(words[idx:idx + 2])\n",
    "               for idx in range(len(words) - 1)]\n",
    "    frequencies = {}\n",
    "    for bigram in bigrams:\n",
    "        if bigram in frequencies:\n",
    "            frequencies[bigram] += 1\n",
    "        else:\n",
    "            frequencies[bigram] = 1\n",
    "    return frequencies\n"
   ]
  },
  {
   "cell_type": "markdown",
   "metadata": {},
   "source": [
    "### We count the unigrams and bigrams"
   ]
  },
  {
   "cell_type": "code",
   "execution_count": 8,
   "metadata": {},
   "outputs": [],
   "source": [
    "unigrams = count_unigrams(words)\n"
   ]
  },
  {
   "cell_type": "code",
   "execution_count": 9,
   "metadata": {},
   "outputs": [
    {
     "name": "stdout",
     "output_type": "stream",
     "text": [
      "480\n"
     ]
    }
   ],
   "source": [
    "if corpus == 'Selma':\n",
    "    print(unigrams['nils'])\n",
    "elif corpus == 'Dickens':\n",
    "    print(unigrams['oliver'])\n",
    "elif corpus == 'Iliad':\n",
    "    print(unigrams['hector'])\n"
   ]
  },
  {
   "cell_type": "code",
   "execution_count": 10,
   "metadata": {},
   "outputs": [],
   "source": [
    "bigrams = count_bigrams(words)\n"
   ]
  },
  {
   "cell_type": "markdown",
   "metadata": {},
   "source": [
    "## Conditional Probabilities"
   ]
  },
  {
   "cell_type": "markdown",
   "metadata": {},
   "source": [
    "Given a bigram, $w_n, w_{n+1}$, we compute $P(w_{n+1}|w_n)$. This is defined as $\\frac{count(w_n, w_{n+1})}{count(w_n)}$."
   ]
  },
  {
   "cell_type": "code",
   "execution_count": 11,
   "metadata": {},
   "outputs": [],
   "source": [
    "cond_probs = {k: v/unigrams[k[0]] for\n",
    "              k, v in bigrams.items()}\n"
   ]
  },
  {
   "cell_type": "markdown",
   "metadata": {},
   "source": [
    "### Extracting the conditional probabilities of a word"
   ]
  },
  {
   "cell_type": "code",
   "execution_count": 12,
   "metadata": {},
   "outputs": [],
   "source": [
    "def bigram_dist(word, cond_probs):\n",
    "    bigram_cprobs = sorted([(k, v)\n",
    "                            for k, v in cond_probs.items()\n",
    "                            if k[0] == word],\n",
    "                           key=lambda tup: tup[1], reverse=True)\n",
    "    return bigram_cprobs\n"
   ]
  },
  {
   "cell_type": "code",
   "execution_count": 13,
   "metadata": {},
   "outputs": [
    {
     "name": "stdout",
     "output_type": "stream",
     "text": [
      "[(('hector', 'and'), 0.11666666666666667), (('hector', 'son'), 0.052083333333333336), (('hector', 's'), 0.04791666666666667), (('hector', 'was'), 0.03125), (('hector', 'in'), 0.022916666666666665), (('hector', 'who'), 0.022916666666666665), (('hector', 'for'), 0.020833333333333332), (('hector', 'as'), 0.020833333333333332), (('hector', 'said'), 0.016666666666666666), (('hector', 'saw'), 0.016666666666666666), (('hector', 'you'), 0.014583333333333334), (('hector', 'had'), 0.014583333333333334), (('hector', 'to'), 0.014583333333333334), (('hector', 'then'), 0.014583333333333334), (('hector', 'when'), 0.014583333333333334), (('hector', 'with'), 0.014583333333333334), (('hector', 'is'), 0.014583333333333334), (('hector', 'answered'), 0.0125), (('hector', 'the'), 0.0125), (('hector', 'at'), 0.0125), (('hector', 'now'), 0.010416666666666666), (('hector', 'on'), 0.010416666666666666), (('hector', 'has'), 0.010416666666666666), (('hector', 'from'), 0.010416666666666666), (('hector', 'sprang'), 0.008333333333333333), (('hector', 'i'), 0.00625), (('hector', 'marked'), 0.00625), (('hector', 'made'), 0.00625), (('hector', 'they'), 0.00625), (('hector', 'did'), 0.00625), (('hector', 'took'), 0.00625), (('hector', 'thus'), 0.00625), (('hector', 'may'), 0.00625), (('hector', 'say'), 0.00625), (('hector', 'will'), 0.00625), (('hector', 'he'), 0.00625), (('hector', 'about'), 0.004166666666666667), (('hector', 'of'), 0.004166666666666667), (('hector', 'your'), 0.004166666666666667), (('hector', 'spoke'), 0.004166666666666667), (('hector', 'himself'), 0.004166666666666667), (('hector', 'killed'), 0.004166666666666667), (('hector', 'nor'), 0.004166666666666667), (('hector', 'go'), 0.004166666666666667), (('hector', 'shouted'), 0.004166666666666667), (('hector', 'left'), 0.004166666666666667), (('hector', 'many'), 0.004166666666666667), (('hector', 'also'), 0.004166666666666667), (('hector', 'thereon'), 0.004166666666666667), (('hector', 'so'), 0.004166666666666667), (('hector', 'let'), 0.004166666666666667), (('hector', 'held'), 0.004166666666666667), (('hector', 'takes'), 0.004166666666666667), (('hector', 'looked'), 0.004166666666666667), (('hector', 'would'), 0.004166666666666667), (('hector', 'why'), 0.004166666666666667), (('hector', 'fall'), 0.004166666666666667), (('hector', 'no'), 0.004166666666666667), (('hector', 'called'), 0.004166666666666667), (('hector', 'but'), 0.004166666666666667), (('hector', 'saying'), 0.004166666666666667), (('hector', 'still'), 0.004166666666666667), (('hector', 'already'), 0.004166666666666667), (('hector', 'she'), 0.004166666666666667), (('hector', 'my'), 0.004166666666666667), (('hector', 'fell'), 0.004166666666666667), (('hector', 'being'), 0.004166666666666667), (('hector', 'knew'), 0.0020833333333333333), (('hector', 'upbraided'), 0.0020833333333333333), (('hector', 'heard'), 0.0020833333333333333), (('hector', 'desires'), 0.0020833333333333333), (('hector', 'sent'), 0.0020833333333333333), (('hector', 'very'), 0.0020833333333333333), (('hector', 'smarted'), 0.0020833333333333333), (('hector', 'wields'), 0.0020833333333333333), (('hector', 'reached'), 0.0020833333333333333), (('hector', 'got'), 0.0020833333333333333), (('hector', 'went'), 0.0020833333333333333), (('hector', 'entered'), 0.0020833333333333333), (('hector', 'since'), 0.0020833333333333333), (('hector', 'hurried'), 0.0020833333333333333), (('hector', 'smiled'), 0.0020833333333333333), (('hector', 'passed'), 0.0020833333333333333), (('hector', 'threw'), 0.0020833333333333333), (('hector', 'fearless'), 0.0020833333333333333), (('hector', 'beat'), 0.0020833333333333333), (('hector', 'rained'), 0.0020833333333333333), (('hector', 'struck'), 0.0020833333333333333), (('hector', 'follow'), 0.0020833333333333333), (('hector', 'wheeled'), 0.0020833333333333333), (('hector', 'shall'), 0.0020833333333333333), (('hector', 'led'), 0.0020833333333333333), (('hector', 'suffered'), 0.0020833333333333333), (('hector', 'that'), 0.0020833333333333333), (('hector', 'thinks'), 0.0020833333333333333), (('hector', 'send'), 0.0020833333333333333), (('hector', 'noble'), 0.0020833333333333333), (('hector', 'away'), 0.0020833333333333333), (('hector', 'peer'), 0.0020833333333333333), (('hector', 'slay'), 0.0020833333333333333), (('hector', 'all'), 0.0020833333333333333), (('hector', 'soon'), 0.0020833333333333333), (('hector', 'recovered'), 0.0020833333333333333), (('hector', 'here'), 0.0020833333333333333), (('hector', 'tore'), 0.0020833333333333333), (('hector', 'lived'), 0.0020833333333333333), (('hector', 'meanwhile'), 0.0020833333333333333), (('hector', 'laid'), 0.0020833333333333333), (('hector', 'lifted'), 0.0020833333333333333), (('hector', 'lift'), 0.0020833333333333333), (('hector', 'strode'), 0.0020833333333333333), (('hector', 'leaped'), 0.0020833333333333333), (('hector', 'while'), 0.0020833333333333333), (('hector', 'hector'), 0.0020833333333333333), (('hector', 'there'), 0.0020833333333333333), (('hector', 'well'), 0.0020833333333333333), (('hector', 'kept'), 0.0020833333333333333), (('hector', 'waged'), 0.0020833333333333333), (('hector', 'first'), 0.0020833333333333333), (('hector', 'above'), 0.0020833333333333333), (('hector', 'leaving'), 0.0020833333333333333), (('hector', 'lying'), 0.0020833333333333333), (('hector', 'again'), 0.0020833333333333333), (('hector', 'o'), 0.0020833333333333333), (('hector', 'going'), 0.0020833333333333333), (('hector', 'come'), 0.0020833333333333333), (('hector', 'back'), 0.0020833333333333333), (('hector', 'striding'), 0.0020833333333333333), (('hector', 'could'), 0.0020833333333333333), (('hector', 'only'), 0.0020833333333333333), (('hector', 'a'), 0.0020833333333333333), (('hector', 'remain'), 0.0020833333333333333), (('hector', 'make'), 0.0020833333333333333), (('hector', 'seized'), 0.0020833333333333333), (('hector', 'rings'), 0.0020833333333333333), (('hector', 'came'), 0.0020833333333333333), (('hector', 'should'), 0.0020833333333333333), (('hector', 'turn'), 0.0020833333333333333), (('hector', 'bade'), 0.0020833333333333333), (('hector', 'hack'), 0.0020833333333333333), (('hector', 'nevertheless'), 0.0020833333333333333), (('hector', 'vaunt'), 0.0020833333333333333), (('hector', 'withdrew'), 0.0020833333333333333), (('hector', 'scowled'), 0.0020833333333333333), (('hector', 'standing'), 0.0020833333333333333), (('hector', 'fitted'), 0.0020833333333333333), (('hector', 'automedon'), 0.0020833333333333333), (('hector', 'plumes'), 0.0020833333333333333), (('hector', 'aeneas'), 0.0020833333333333333), (('hector', 'hit'), 0.0020833333333333333), (('hector', 'unmindful'), 0.0020833333333333333), (('hector', 'holds'), 0.0020833333333333333), (('hector', 'bears'), 0.0020833333333333333), (('hector', 'till'), 0.0020833333333333333), (('hector', 'seize'), 0.0020833333333333333), (('hector', 'we'), 0.0020833333333333333), (('hector', 'drew'), 0.0020833333333333333), (('hector', 'feared'), 0.0020833333333333333), (('hector', 'face'), 0.0020833333333333333), (('hector', 'stay'), 0.0020833333333333333), (('hector', 'his'), 0.0020833333333333333), (('hector', 'leaned'), 0.0020833333333333333), (('hector', 'fled'), 0.0020833333333333333), (('hector', 'break'), 0.0020833333333333333), (('hector', 'lest'), 0.0020833333333333333), (('hector', 'cannot'), 0.0020833333333333333), (('hector', 'brandish'), 0.0020833333333333333), (('hector', 'more'), 0.0020833333333333333), (('hector', 'woe'), 0.0020833333333333333), (('hector', 'were'), 0.0020833333333333333), (('hector', 'hither'), 0.0020833333333333333), (('hector', 'round'), 0.0020833333333333333), (('hector', 'lay'), 0.0020833333333333333), (('hector', 'behind'), 0.0020833333333333333), (('hector', 'burn'), 0.0020833333333333333), (('hector', 'drags'), 0.0020833333333333333), (('hector', 'miserable'), 0.0020833333333333333), (('hector', 'him'), 0.0020833333333333333), (('hector', 'tell'), 0.0020833333333333333), (('hector', 'if'), 0.0020833333333333333), (('hector', 'slew'), 0.0020833333333333333), (('hector', 'sorrow'), 0.0020833333333333333), (('hector', 'forth'), 0.0020833333333333333), (('hector', 'tamer'), 0.0020833333333333333)]\n"
     ]
    }
   ],
   "source": [
    "if corpus == 'Selma':\n",
    "    print(bigram_dist('nils', cond_probs))\n",
    "elif corpus == 'Dickens':\n",
    "    print(bigram_dist('oliver', cond_probs))\n",
    "elif corpus == 'Iliad':\n",
    "    print(bigram_dist('hector', cond_probs))\n"
   ]
  },
  {
   "cell_type": "markdown",
   "metadata": {},
   "source": [
    "### Drawing samples from a multinomial distribution. "
   ]
  },
  {
   "cell_type": "markdown",
   "metadata": {},
   "source": [
    "Understanding the `np.random.multinomial` function"
   ]
  },
  {
   "cell_type": "code",
   "execution_count": 14,
   "metadata": {},
   "outputs": [
    {
     "name": "stdout",
     "output_type": "stream",
     "text": [
      "[0 0 1]\n",
      "[0 1 0]\n",
      "[0 1 0]\n",
      "[0 0 1]\n",
      "[1 0 0]\n",
      "[0 0 1]\n",
      "[0 1 0]\n",
      "[1 0 0]\n",
      "[0 1 0]\n",
      "[0 0 1]\n"
     ]
    }
   ],
   "source": [
    "import numpy as np\n",
    "np.random.seed(0)\n",
    "for i in range(10):\n",
    "    print(np.random.multinomial(1, [0.3, 0.5, 0.2]))\n"
   ]
  },
  {
   "cell_type": "markdown",
   "metadata": {},
   "source": [
    "On a large number of draws"
   ]
  },
  {
   "cell_type": "code",
   "execution_count": 15,
   "metadata": {},
   "outputs": [
    {
     "data": {
      "text/plain": [
       "array([30330, 49807, 19863])"
      ]
     },
     "execution_count": 15,
     "metadata": {},
     "output_type": "execute_result"
    }
   ],
   "source": [
    "np.random.multinomial(100000, [0.3, 0.5, 0.2])\n"
   ]
  },
  {
   "cell_type": "markdown",
   "metadata": {},
   "source": [
    "### And finally, generating a sequence"
   ]
  },
  {
   "cell_type": "code",
   "execution_count": 16,
   "metadata": {},
   "outputs": [],
   "source": [
    "if corpus == 'Selma':\n",
    "    start_word = 'nils'\n",
    "elif corpus == 'Dickens':\n",
    "    start_word = 'oliver'\n",
    "elif corpus == 'Iliad':\n",
    "    start_word = 'hector'\n"
   ]
  },
  {
   "cell_type": "code",
   "execution_count": 17,
   "metadata": {},
   "outputs": [
    {
     "name": "stdout",
     "output_type": "stream",
     "text": [
      "hector they built round the company while iris left the roots of oileus commanded by the waves of fear and brave son of menoetius gave it but waves of hippasus and the hill and not wait then stripped the spear into the other for i slay him glaucus son of the "
     ]
    }
   ],
   "source": [
    "print(start_word, end=' ')\n",
    "current_word = start_word\n",
    "for i in range(50):\n",
    "    bigram_cprobs = bigram_dist(current_word, cond_probs)\n",
    "    dist = [bigram_cprob[1] for bigram_cprob in bigram_cprobs]\n",
    "    selected_idx = np.argmax(np.random.multinomial(1, dist))\n",
    "    next_bigram_cprob = bigram_cprobs[selected_idx]\n",
    "    current_word = next_bigram_cprob[0][1]\n",
    "    print(current_word, end=' ')\n"
   ]
  },
  {
   "attachments": {},
   "cell_type": "markdown",
   "metadata": {},
   "source": [
    "## Reweighting Distributions\n",
    "We will now reweight the distribution of the second word in the bigram to make the generation more reproducible or more random"
   ]
  },
  {
   "cell_type": "code",
   "execution_count": 18,
   "metadata": {},
   "outputs": [
    {
     "data": {
      "text/plain": [
       "[(('hector', 'and'), 0.11666666666666667),\n",
       " (('hector', 'son'), 0.052083333333333336),\n",
       " (('hector', 's'), 0.04791666666666667),\n",
       " (('hector', 'was'), 0.03125),\n",
       " (('hector', 'in'), 0.022916666666666665),\n",
       " (('hector', 'who'), 0.022916666666666665),\n",
       " (('hector', 'for'), 0.020833333333333332),\n",
       " (('hector', 'as'), 0.020833333333333332),\n",
       " (('hector', 'said'), 0.016666666666666666),\n",
       " (('hector', 'saw'), 0.016666666666666666),\n",
       " (('hector', 'you'), 0.014583333333333334),\n",
       " (('hector', 'had'), 0.014583333333333334),\n",
       " (('hector', 'to'), 0.014583333333333334),\n",
       " (('hector', 'then'), 0.014583333333333334),\n",
       " (('hector', 'when'), 0.014583333333333334),\n",
       " (('hector', 'with'), 0.014583333333333334),\n",
       " (('hector', 'is'), 0.014583333333333334),\n",
       " (('hector', 'answered'), 0.0125),\n",
       " (('hector', 'the'), 0.0125),\n",
       " (('hector', 'at'), 0.0125),\n",
       " (('hector', 'now'), 0.010416666666666666),\n",
       " (('hector', 'on'), 0.010416666666666666),\n",
       " (('hector', 'has'), 0.010416666666666666),\n",
       " (('hector', 'from'), 0.010416666666666666),\n",
       " (('hector', 'sprang'), 0.008333333333333333),\n",
       " (('hector', 'i'), 0.00625),\n",
       " (('hector', 'marked'), 0.00625),\n",
       " (('hector', 'made'), 0.00625),\n",
       " (('hector', 'they'), 0.00625),\n",
       " (('hector', 'did'), 0.00625),\n",
       " (('hector', 'took'), 0.00625),\n",
       " (('hector', 'thus'), 0.00625),\n",
       " (('hector', 'may'), 0.00625),\n",
       " (('hector', 'say'), 0.00625),\n",
       " (('hector', 'will'), 0.00625),\n",
       " (('hector', 'he'), 0.00625),\n",
       " (('hector', 'about'), 0.004166666666666667),\n",
       " (('hector', 'of'), 0.004166666666666667),\n",
       " (('hector', 'your'), 0.004166666666666667),\n",
       " (('hector', 'spoke'), 0.004166666666666667),\n",
       " (('hector', 'himself'), 0.004166666666666667),\n",
       " (('hector', 'killed'), 0.004166666666666667),\n",
       " (('hector', 'nor'), 0.004166666666666667),\n",
       " (('hector', 'go'), 0.004166666666666667),\n",
       " (('hector', 'shouted'), 0.004166666666666667),\n",
       " (('hector', 'left'), 0.004166666666666667),\n",
       " (('hector', 'many'), 0.004166666666666667),\n",
       " (('hector', 'also'), 0.004166666666666667),\n",
       " (('hector', 'thereon'), 0.004166666666666667),\n",
       " (('hector', 'so'), 0.004166666666666667),\n",
       " (('hector', 'let'), 0.004166666666666667),\n",
       " (('hector', 'held'), 0.004166666666666667),\n",
       " (('hector', 'takes'), 0.004166666666666667),\n",
       " (('hector', 'looked'), 0.004166666666666667),\n",
       " (('hector', 'would'), 0.004166666666666667),\n",
       " (('hector', 'why'), 0.004166666666666667),\n",
       " (('hector', 'fall'), 0.004166666666666667),\n",
       " (('hector', 'no'), 0.004166666666666667),\n",
       " (('hector', 'called'), 0.004166666666666667),\n",
       " (('hector', 'but'), 0.004166666666666667),\n",
       " (('hector', 'saying'), 0.004166666666666667),\n",
       " (('hector', 'still'), 0.004166666666666667),\n",
       " (('hector', 'already'), 0.004166666666666667),\n",
       " (('hector', 'she'), 0.004166666666666667),\n",
       " (('hector', 'my'), 0.004166666666666667),\n",
       " (('hector', 'fell'), 0.004166666666666667),\n",
       " (('hector', 'being'), 0.004166666666666667),\n",
       " (('hector', 'knew'), 0.0020833333333333333),\n",
       " (('hector', 'upbraided'), 0.0020833333333333333),\n",
       " (('hector', 'heard'), 0.0020833333333333333),\n",
       " (('hector', 'desires'), 0.0020833333333333333),\n",
       " (('hector', 'sent'), 0.0020833333333333333),\n",
       " (('hector', 'very'), 0.0020833333333333333),\n",
       " (('hector', 'smarted'), 0.0020833333333333333),\n",
       " (('hector', 'wields'), 0.0020833333333333333),\n",
       " (('hector', 'reached'), 0.0020833333333333333),\n",
       " (('hector', 'got'), 0.0020833333333333333),\n",
       " (('hector', 'went'), 0.0020833333333333333),\n",
       " (('hector', 'entered'), 0.0020833333333333333),\n",
       " (('hector', 'since'), 0.0020833333333333333),\n",
       " (('hector', 'hurried'), 0.0020833333333333333),\n",
       " (('hector', 'smiled'), 0.0020833333333333333),\n",
       " (('hector', 'passed'), 0.0020833333333333333),\n",
       " (('hector', 'threw'), 0.0020833333333333333),\n",
       " (('hector', 'fearless'), 0.0020833333333333333),\n",
       " (('hector', 'beat'), 0.0020833333333333333),\n",
       " (('hector', 'rained'), 0.0020833333333333333),\n",
       " (('hector', 'struck'), 0.0020833333333333333),\n",
       " (('hector', 'follow'), 0.0020833333333333333),\n",
       " (('hector', 'wheeled'), 0.0020833333333333333),\n",
       " (('hector', 'shall'), 0.0020833333333333333),\n",
       " (('hector', 'led'), 0.0020833333333333333),\n",
       " (('hector', 'suffered'), 0.0020833333333333333),\n",
       " (('hector', 'that'), 0.0020833333333333333),\n",
       " (('hector', 'thinks'), 0.0020833333333333333),\n",
       " (('hector', 'send'), 0.0020833333333333333),\n",
       " (('hector', 'noble'), 0.0020833333333333333),\n",
       " (('hector', 'away'), 0.0020833333333333333),\n",
       " (('hector', 'peer'), 0.0020833333333333333),\n",
       " (('hector', 'slay'), 0.0020833333333333333),\n",
       " (('hector', 'all'), 0.0020833333333333333),\n",
       " (('hector', 'soon'), 0.0020833333333333333),\n",
       " (('hector', 'recovered'), 0.0020833333333333333),\n",
       " (('hector', 'here'), 0.0020833333333333333),\n",
       " (('hector', 'tore'), 0.0020833333333333333),\n",
       " (('hector', 'lived'), 0.0020833333333333333),\n",
       " (('hector', 'meanwhile'), 0.0020833333333333333),\n",
       " (('hector', 'laid'), 0.0020833333333333333),\n",
       " (('hector', 'lifted'), 0.0020833333333333333),\n",
       " (('hector', 'lift'), 0.0020833333333333333),\n",
       " (('hector', 'strode'), 0.0020833333333333333),\n",
       " (('hector', 'leaped'), 0.0020833333333333333),\n",
       " (('hector', 'while'), 0.0020833333333333333),\n",
       " (('hector', 'hector'), 0.0020833333333333333),\n",
       " (('hector', 'there'), 0.0020833333333333333),\n",
       " (('hector', 'well'), 0.0020833333333333333),\n",
       " (('hector', 'kept'), 0.0020833333333333333),\n",
       " (('hector', 'waged'), 0.0020833333333333333),\n",
       " (('hector', 'first'), 0.0020833333333333333),\n",
       " (('hector', 'above'), 0.0020833333333333333),\n",
       " (('hector', 'leaving'), 0.0020833333333333333),\n",
       " (('hector', 'lying'), 0.0020833333333333333),\n",
       " (('hector', 'again'), 0.0020833333333333333),\n",
       " (('hector', 'o'), 0.0020833333333333333),\n",
       " (('hector', 'going'), 0.0020833333333333333),\n",
       " (('hector', 'come'), 0.0020833333333333333),\n",
       " (('hector', 'back'), 0.0020833333333333333),\n",
       " (('hector', 'striding'), 0.0020833333333333333),\n",
       " (('hector', 'could'), 0.0020833333333333333),\n",
       " (('hector', 'only'), 0.0020833333333333333),\n",
       " (('hector', 'a'), 0.0020833333333333333),\n",
       " (('hector', 'remain'), 0.0020833333333333333),\n",
       " (('hector', 'make'), 0.0020833333333333333),\n",
       " (('hector', 'seized'), 0.0020833333333333333),\n",
       " (('hector', 'rings'), 0.0020833333333333333),\n",
       " (('hector', 'came'), 0.0020833333333333333),\n",
       " (('hector', 'should'), 0.0020833333333333333),\n",
       " (('hector', 'turn'), 0.0020833333333333333),\n",
       " (('hector', 'bade'), 0.0020833333333333333),\n",
       " (('hector', 'hack'), 0.0020833333333333333),\n",
       " (('hector', 'nevertheless'), 0.0020833333333333333),\n",
       " (('hector', 'vaunt'), 0.0020833333333333333),\n",
       " (('hector', 'withdrew'), 0.0020833333333333333),\n",
       " (('hector', 'scowled'), 0.0020833333333333333),\n",
       " (('hector', 'standing'), 0.0020833333333333333),\n",
       " (('hector', 'fitted'), 0.0020833333333333333),\n",
       " (('hector', 'automedon'), 0.0020833333333333333),\n",
       " (('hector', 'plumes'), 0.0020833333333333333),\n",
       " (('hector', 'aeneas'), 0.0020833333333333333),\n",
       " (('hector', 'hit'), 0.0020833333333333333),\n",
       " (('hector', 'unmindful'), 0.0020833333333333333),\n",
       " (('hector', 'holds'), 0.0020833333333333333),\n",
       " (('hector', 'bears'), 0.0020833333333333333),\n",
       " (('hector', 'till'), 0.0020833333333333333),\n",
       " (('hector', 'seize'), 0.0020833333333333333),\n",
       " (('hector', 'we'), 0.0020833333333333333),\n",
       " (('hector', 'drew'), 0.0020833333333333333),\n",
       " (('hector', 'feared'), 0.0020833333333333333),\n",
       " (('hector', 'face'), 0.0020833333333333333),\n",
       " (('hector', 'stay'), 0.0020833333333333333),\n",
       " (('hector', 'his'), 0.0020833333333333333),\n",
       " (('hector', 'leaned'), 0.0020833333333333333),\n",
       " (('hector', 'fled'), 0.0020833333333333333),\n",
       " (('hector', 'break'), 0.0020833333333333333),\n",
       " (('hector', 'lest'), 0.0020833333333333333),\n",
       " (('hector', 'cannot'), 0.0020833333333333333),\n",
       " (('hector', 'brandish'), 0.0020833333333333333),\n",
       " (('hector', 'more'), 0.0020833333333333333),\n",
       " (('hector', 'woe'), 0.0020833333333333333),\n",
       " (('hector', 'were'), 0.0020833333333333333),\n",
       " (('hector', 'hither'), 0.0020833333333333333),\n",
       " (('hector', 'round'), 0.0020833333333333333),\n",
       " (('hector', 'lay'), 0.0020833333333333333),\n",
       " (('hector', 'behind'), 0.0020833333333333333),\n",
       " (('hector', 'burn'), 0.0020833333333333333),\n",
       " (('hector', 'drags'), 0.0020833333333333333),\n",
       " (('hector', 'miserable'), 0.0020833333333333333),\n",
       " (('hector', 'him'), 0.0020833333333333333),\n",
       " (('hector', 'tell'), 0.0020833333333333333),\n",
       " (('hector', 'if'), 0.0020833333333333333),\n",
       " (('hector', 'slew'), 0.0020833333333333333),\n",
       " (('hector', 'sorrow'), 0.0020833333333333333),\n",
       " (('hector', 'forth'), 0.0020833333333333333),\n",
       " (('hector', 'tamer'), 0.0020833333333333333)]"
      ]
     },
     "execution_count": 18,
     "metadata": {},
     "output_type": "execute_result"
    }
   ],
   "source": [
    "start_bigrams = bigram_dist(start_word, cond_probs)\n",
    "start_bigrams\n"
   ]
  },
  {
   "cell_type": "code",
   "execution_count": 19,
   "metadata": {},
   "outputs": [
    {
     "data": {
      "text/plain": [
       "184"
      ]
     },
     "execution_count": 19,
     "metadata": {},
     "output_type": "execute_result"
    }
   ],
   "source": [
    "len(start_bigrams)\n"
   ]
  },
  {
   "cell_type": "code",
   "execution_count": 20,
   "metadata": {},
   "outputs": [
    {
     "data": {
      "image/png": "[encoded data removed]",
      "text/plain": [
       "<Figure size 640x480 with 1 Axes>"
      ]
     },
     "metadata": {},
     "output_type": "display_data"
    }
   ],
   "source": [
    "import matplotlib.pyplot as plt\n",
    "\n",
    "freqs = [bigram[1] for bigram in start_bigrams]\n",
    "plt.bar(range(len(freqs)), freqs)\n",
    "plt.show()\n"
   ]
  },
  {
   "attachments": {},
   "cell_type": "markdown",
   "metadata": {},
   "source": [
    "### The Temperature\n",
    "We reweight the distribution over the next word with a temperature following Chollet (2021), _Deep Learning with Python_, 2nd ed., pp. 369 and 373.\n",
    "\n",
    "Chollet defines the temperature as\n",
    "$$\n",
    "    \\exp(\\frac{\\log(x)}{temp}) = x^{\\frac{1}{temp}}\n",
    "$$"
   ]
  },
  {
   "cell_type": "code",
   "execution_count": 21,
   "metadata": {},
   "outputs": [],
   "source": [
    "def power_transform(distribution, T=0.5):\n",
    "    new_dist = np.power(distribution, 1/T)\n",
    "    return new_dist / np.sum(new_dist)\n"
   ]
  },
  {
   "cell_type": "code",
   "execution_count": 22,
   "metadata": {},
   "outputs": [
    {
     "data": {
      "text/plain": [
       "'def reweight_distribution(original_distribution, temperature=0.5):\\n    distribution = np.log(original_distribution) / temperature\\n    distribution = np.exp(distribution)\\n    return distribution / np.sum(distribution)'"
      ]
     },
     "execution_count": 22,
     "metadata": {},
     "output_type": "execute_result"
    }
   ],
   "source": [
    "# Chollet original\n",
    "\"\"\"def reweight_distribution(original_distribution, temperature=0.5):\n",
    "    distribution = np.log(original_distribution) / temperature\n",
    "    distribution = np.exp(distribution)\n",
    "    return distribution / np.sum(distribution)\"\"\"\n"
   ]
  },
  {
   "cell_type": "code",
   "execution_count": 23,
   "metadata": {},
   "outputs": [
    {
     "data": {
      "text/plain": [
       "[0.11666666666666667,\n",
       " 0.052083333333333336,\n",
       " 0.04791666666666667,\n",
       " 0.03125,\n",
       " 0.022916666666666665,\n",
       " 0.022916666666666665,\n",
       " 0.020833333333333332,\n",
       " 0.020833333333333332,\n",
       " 0.016666666666666666,\n",
       " 0.016666666666666666,\n",
       " 0.014583333333333334,\n",
       " 0.014583333333333334,\n",
       " 0.014583333333333334,\n",
       " 0.014583333333333334,\n",
       " 0.014583333333333334,\n",
       " 0.014583333333333334,\n",
       " 0.014583333333333334,\n",
       " 0.0125,\n",
       " 0.0125,\n",
       " 0.0125,\n",
       " 0.010416666666666666,\n",
       " 0.010416666666666666,\n",
       " 0.010416666666666666,\n",
       " 0.010416666666666666,\n",
       " 0.008333333333333333,\n",
       " 0.00625,\n",
       " 0.00625,\n",
       " 0.00625,\n",
       " 0.00625,\n",
       " 0.00625,\n",
       " 0.00625,\n",
       " 0.00625,\n",
       " 0.00625,\n",
       " 0.00625,\n",
       " 0.00625,\n",
       " 0.00625,\n",
       " 0.004166666666666667,\n",
       " 0.004166666666666667,\n",
       " 0.004166666666666667,\n",
       " 0.004166666666666667,\n",
       " 0.004166666666666667,\n",
       " 0.004166666666666667,\n",
       " 0.004166666666666667,\n",
       " 0.004166666666666667,\n",
       " 0.004166666666666667,\n",
       " 0.004166666666666667,\n",
       " 0.004166666666666667,\n",
       " 0.004166666666666667,\n",
       " 0.004166666666666667,\n",
       " 0.004166666666666667,\n",
       " 0.004166666666666667,\n",
       " 0.004166666666666667,\n",
       " 0.004166666666666667,\n",
       " 0.004166666666666667,\n",
       " 0.004166666666666667,\n",
       " 0.004166666666666667,\n",
       " 0.004166666666666667,\n",
       " 0.004166666666666667,\n",
       " 0.004166666666666667,\n",
       " 0.004166666666666667,\n",
       " 0.004166666666666667,\n",
       " 0.004166666666666667,\n",
       " 0.004166666666666667,\n",
       " 0.004166666666666667,\n",
       " 0.004166666666666667,\n",
       " 0.004166666666666667,\n",
       " 0.004166666666666667,\n",
       " 0.0020833333333333333,\n",
       " 0.0020833333333333333,\n",
       " 0.0020833333333333333,\n",
       " 0.0020833333333333333,\n",
       " 0.0020833333333333333,\n",
       " 0.0020833333333333333,\n",
       " 0.0020833333333333333,\n",
       " 0.0020833333333333333,\n",
       " 0.0020833333333333333,\n",
       " 0.0020833333333333333,\n",
       " 0.0020833333333333333,\n",
       " 0.0020833333333333333,\n",
       " 0.0020833333333333333,\n",
       " 0.0020833333333333333,\n",
       " 0.0020833333333333333,\n",
       " 0.0020833333333333333,\n",
       " 0.0020833333333333333,\n",
       " 0.0020833333333333333,\n",
       " 0.0020833333333333333,\n",
       " 0.0020833333333333333,\n",
       " 0.0020833333333333333,\n",
       " 0.0020833333333333333,\n",
       " 0.0020833333333333333,\n",
       " 0.0020833333333333333,\n",
       " 0.0020833333333333333,\n",
       " 0.0020833333333333333,\n",
       " 0.0020833333333333333,\n",
       " 0.0020833333333333333,\n",
       " 0.0020833333333333333,\n",
       " 0.0020833333333333333,\n",
       " 0.0020833333333333333,\n",
       " 0.0020833333333333333,\n",
       " 0.0020833333333333333,\n",
       " 0.0020833333333333333,\n",
       " 0.0020833333333333333,\n",
       " 0.0020833333333333333,\n",
       " 0.0020833333333333333,\n",
       " 0.0020833333333333333,\n",
       " 0.0020833333333333333,\n",
       " 0.0020833333333333333,\n",
       " 0.0020833333333333333,\n",
       " 0.0020833333333333333,\n",
       " 0.0020833333333333333,\n",
       " 0.0020833333333333333,\n",
       " 0.0020833333333333333,\n",
       " 0.0020833333333333333,\n",
       " 0.0020833333333333333,\n",
       " 0.0020833333333333333,\n",
       " 0.0020833333333333333,\n",
       " 0.0020833333333333333,\n",
       " 0.0020833333333333333,\n",
       " 0.0020833333333333333,\n",
       " 0.0020833333333333333,\n",
       " 0.0020833333333333333,\n",
       " 0.0020833333333333333,\n",
       " 0.0020833333333333333,\n",
       " 0.0020833333333333333,\n",
       " 0.0020833333333333333,\n",
       " 0.0020833333333333333,\n",
       " 0.0020833333333333333,\n",
       " 0.0020833333333333333,\n",
       " 0.0020833333333333333,\n",
       " 0.0020833333333333333,\n",
       " 0.0020833333333333333,\n",
       " 0.0020833333333333333,\n",
       " 0.0020833333333333333,\n",
       " 0.0020833333333333333,\n",
       " 0.0020833333333333333,\n",
       " 0.0020833333333333333,\n",
       " 0.0020833333333333333,\n",
       " 0.0020833333333333333,\n",
       " 0.0020833333333333333,\n",
       " 0.0020833333333333333,\n",
       " 0.0020833333333333333,\n",
       " 0.0020833333333333333,\n",
       " 0.0020833333333333333,\n",
       " 0.0020833333333333333,\n",
       " 0.0020833333333333333,\n",
       " 0.0020833333333333333,\n",
       " 0.0020833333333333333,\n",
       " 0.0020833333333333333,\n",
       " 0.0020833333333333333,\n",
       " 0.0020833333333333333,\n",
       " 0.0020833333333333333,\n",
       " 0.0020833333333333333,\n",
       " 0.0020833333333333333,\n",
       " 0.0020833333333333333,\n",
       " 0.0020833333333333333,\n",
       " 0.0020833333333333333,\n",
       " 0.0020833333333333333,\n",
       " 0.0020833333333333333,\n",
       " 0.0020833333333333333,\n",
       " 0.0020833333333333333,\n",
       " 0.0020833333333333333,\n",
       " 0.0020833333333333333,\n",
       " 0.0020833333333333333,\n",
       " 0.0020833333333333333,\n",
       " 0.0020833333333333333,\n",
       " 0.0020833333333333333,\n",
       " 0.0020833333333333333,\n",
       " 0.0020833333333333333,\n",
       " 0.0020833333333333333,\n",
       " 0.0020833333333333333,\n",
       " 0.0020833333333333333,\n",
       " 0.0020833333333333333,\n",
       " 0.0020833333333333333,\n",
       " 0.0020833333333333333,\n",
       " 0.0020833333333333333,\n",
       " 0.0020833333333333333,\n",
       " 0.0020833333333333333,\n",
       " 0.0020833333333333333,\n",
       " 0.0020833333333333333,\n",
       " 0.0020833333333333333,\n",
       " 0.0020833333333333333,\n",
       " 0.0020833333333333333,\n",
       " 0.0020833333333333333,\n",
       " 0.0020833333333333333]"
      ]
     },
     "execution_count": 23,
     "metadata": {},
     "output_type": "execute_result"
    }
   ],
   "source": [
    "freqs\n"
   ]
  },
  {
   "cell_type": "markdown",
   "metadata": {},
   "source": [
    "Low temperatures: more deterministic. We freeze the generation"
   ]
  },
  {
   "cell_type": "code",
   "execution_count": 24,
   "metadata": {},
   "outputs": [
    {
     "data": {
      "text/plain": [
       "array([5.23364486e-01, 1.04305741e-01, 8.82843792e-02, 3.75500668e-02,\n",
       "       2.01935915e-02, 2.01935915e-02, 1.66889186e-02, 1.66889186e-02,\n",
       "       1.06809079e-02, 1.06809079e-02, 8.17757009e-03, 8.17757009e-03,\n",
       "       8.17757009e-03, 8.17757009e-03, 8.17757009e-03, 8.17757009e-03,\n",
       "       8.17757009e-03, 6.00801068e-03, 6.00801068e-03, 6.00801068e-03,\n",
       "       4.17222964e-03, 4.17222964e-03, 4.17222964e-03, 4.17222964e-03,\n",
       "       2.67022697e-03, 1.50200267e-03, 1.50200267e-03, 1.50200267e-03,\n",
       "       1.50200267e-03, 1.50200267e-03, 1.50200267e-03, 1.50200267e-03,\n",
       "       1.50200267e-03, 1.50200267e-03, 1.50200267e-03, 1.50200267e-03,\n",
       "       6.67556742e-04, 6.67556742e-04, 6.67556742e-04, 6.67556742e-04,\n",
       "       6.67556742e-04, 6.67556742e-04, 6.67556742e-04, 6.67556742e-04,\n",
       "       6.67556742e-04, 6.67556742e-04, 6.67556742e-04, 6.67556742e-04,\n",
       "       6.67556742e-04, 6.67556742e-04, 6.67556742e-04, 6.67556742e-04,\n",
       "       6.67556742e-04, 6.67556742e-04, 6.67556742e-04, 6.67556742e-04,\n",
       "       6.67556742e-04, 6.67556742e-04, 6.67556742e-04, 6.67556742e-04,\n",
       "       6.67556742e-04, 6.67556742e-04, 6.67556742e-04, 6.67556742e-04,\n",
       "       6.67556742e-04, 6.67556742e-04, 6.67556742e-04, 1.66889186e-04,\n",
       "       1.66889186e-04, 1.66889186e-04, 1.66889186e-04, 1.66889186e-04,\n",
       "       1.66889186e-04, 1.66889186e-04, 1.66889186e-04, 1.66889186e-04,\n",
       "       1.66889186e-04, 1.66889186e-04, 1.66889186e-04, 1.66889186e-04,\n",
       "       1.66889186e-04, 1.66889186e-04, 1.66889186e-04, 1.66889186e-04,\n",
       "       1.66889186e-04, 1.66889186e-04, 1.66889186e-04, 1.66889186e-04,\n",
       "       1.66889186e-04, 1.66889186e-04, 1.66889186e-04, 1.66889186e-04,\n",
       "       1.66889186e-04, 1.66889186e-04, 1.66889186e-04, 1.66889186e-04,\n",
       "       1.66889186e-04, 1.66889186e-04, 1.66889186e-04, 1.66889186e-04,\n",
       "       1.66889186e-04, 1.66889186e-04, 1.66889186e-04, 1.66889186e-04,\n",
       "       1.66889186e-04, 1.66889186e-04, 1.66889186e-04, 1.66889186e-04,\n",
       "       1.66889186e-04, 1.66889186e-04, 1.66889186e-04, 1.66889186e-04,\n",
       "       1.66889186e-04, 1.66889186e-04, 1.66889186e-04, 1.66889186e-04,\n",
       "       1.66889186e-04, 1.66889186e-04, 1.66889186e-04, 1.66889186e-04,\n",
       "       1.66889186e-04, 1.66889186e-04, 1.66889186e-04, 1.66889186e-04,\n",
       "       1.66889186e-04, 1.66889186e-04, 1.66889186e-04, 1.66889186e-04,\n",
       "       1.66889186e-04, 1.66889186e-04, 1.66889186e-04, 1.66889186e-04,\n",
       "       1.66889186e-04, 1.66889186e-04, 1.66889186e-04, 1.66889186e-04,\n",
       "       1.66889186e-04, 1.66889186e-04, 1.66889186e-04, 1.66889186e-04,\n",
       "       1.66889186e-04, 1.66889186e-04, 1.66889186e-04, 1.66889186e-04,\n",
       "       1.66889186e-04, 1.66889186e-04, 1.66889186e-04, 1.66889186e-04,\n",
       "       1.66889186e-04, 1.66889186e-04, 1.66889186e-04, 1.66889186e-04,\n",
       "       1.66889186e-04, 1.66889186e-04, 1.66889186e-04, 1.66889186e-04,\n",
       "       1.66889186e-04, 1.66889186e-04, 1.66889186e-04, 1.66889186e-04,\n",
       "       1.66889186e-04, 1.66889186e-04, 1.66889186e-04, 1.66889186e-04,\n",
       "       1.66889186e-04, 1.66889186e-04, 1.66889186e-04, 1.66889186e-04,\n",
       "       1.66889186e-04, 1.66889186e-04, 1.66889186e-04, 1.66889186e-04,\n",
       "       1.66889186e-04, 1.66889186e-04, 1.66889186e-04, 1.66889186e-04,\n",
       "       1.66889186e-04, 1.66889186e-04, 1.66889186e-04, 1.66889186e-04,\n",
       "       1.66889186e-04, 1.66889186e-04, 1.66889186e-04, 1.66889186e-04])"
      ]
     },
     "execution_count": 24,
     "metadata": {},
     "output_type": "execute_result"
    }
   ],
   "source": [
    "low_temp_freqs = power_transform(freqs, T=0.5)\n",
    "low_temp_freqs\n"
   ]
  },
  {
   "cell_type": "code",
   "execution_count": 25,
   "metadata": {},
   "outputs": [
    {
     "data": {
      "image/png": "[encoded data removed]",
      "text/plain": [
       "<Figure size 640x480 with 1 Axes>"
      ]
     },
     "metadata": {},
     "output_type": "display_data"
    }
   ],
   "source": [
    "plt.bar(range(len(low_temp_freqs)), low_temp_freqs)\n",
    "plt.show()\n"
   ]
  },
  {
   "cell_type": "markdown",
   "metadata": {},
   "source": [
    "High temperatures: More randomness"
   ]
  },
  {
   "cell_type": "code",
   "execution_count": 26,
   "metadata": {},
   "outputs": [],
   "source": [
    "high_temp_freqs = power_transform(freqs, T=3.0)\n"
   ]
  },
  {
   "cell_type": "code",
   "execution_count": 27,
   "metadata": {},
   "outputs": [
    {
     "data": {
      "image/png": "[encoded data removed]",
      "text/plain": [
       "<Figure size 640x480 with 1 Axes>"
      ]
     },
     "metadata": {},
     "output_type": "display_data"
    }
   ],
   "source": [
    "plt.bar(range(len(high_temp_freqs)), high_temp_freqs)\n",
    "plt.show()\n"
   ]
  },
  {
   "cell_type": "code",
   "execution_count": 28,
   "metadata": {},
   "outputs": [],
   "source": [
    "temperature = 3.0\n"
   ]
  },
  {
   "cell_type": "code",
   "execution_count": 29,
   "metadata": {},
   "outputs": [
    {
     "name": "stdout",
     "output_type": "stream",
     "text": [
      "hector spoke thus commands me go till they run rolling swiftly o muses dwellers on the carnage and now eleven cubits long setting foot she are driving the oak that somewhere among one therefore if we both those high into some braggart and hate even of omens when tlepolemus son taking "
     ]
    }
   ],
   "source": [
    "print(start_word, end=' ')\n",
    "current_word = start_word\n",
    "for i in range(50):\n",
    "    bigram_cprobs = bigram_dist(current_word, cond_probs)\n",
    "    dist = [bigram_cprob[1] for bigram_cprob in bigram_cprobs]\n",
    "    dist = power_transform(dist, temperature)\n",
    "    selected_idx = np.argmax(np.random.multinomial(1, dist))\n",
    "    next_bigram_cprob = bigram_cprobs[selected_idx]\n",
    "    current_word = next_bigram_cprob[0][1]\n",
    "    print(current_word, end=' ')\n"
   ]
  },
  {
   "cell_type": "code",
   "execution_count": null,
   "metadata": {},
   "outputs": [],
   "source": []
  }
 ],
 "metadata": {
  "kernelspec": {
   "display_name": "Python 3.9.13 ('base')",
   "language": "python",
   "name": "python3"
  },
  "language_info": {
   "codemirror_mode": {
    "name": "ipython",
    "version": 3
   },
   "file_extension": ".py",
   "mimetype": "text/x-python",
   "name": "python",
   "nbconvert_exporter": "python",
   "pygments_lexer": "ipython3",
   "version": "3.11.4"
  },
  "vscode": {
   "interpreter": {
    "hash": "b97b11a820675205aae8f1d7f2a3f22bbd3a2c30189f44042310baf5b4cd1987"
   }
  }
 },
 "nbformat": 4,
 "nbformat_minor": 4
}
