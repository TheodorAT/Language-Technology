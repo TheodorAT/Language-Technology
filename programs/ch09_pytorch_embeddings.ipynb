{
 "cells": [
  {
   "cell_type": "markdown",
   "metadata": {},
   "source": [
    "# Embeddings with PyTorch\n",
    "\n",
    "author: __Pierre Nugues__"
   ]
  },
  {
   "cell_type": "code",
   "execution_count": 1,
   "metadata": {},
   "outputs": [],
   "source": [
    "import torch\n",
    "import torch.nn as nn\n"
   ]
  },
  {
   "cell_type": "code",
   "execution_count": 2,
   "metadata": {},
   "outputs": [
    {
     "data": {
      "text/plain": [
       "Embedding(10, 3)"
      ]
     },
     "execution_count": 2,
     "metadata": {},
     "output_type": "execute_result"
    }
   ],
   "source": [
    "embedding = nn.Embedding(10, 3)\n",
    "embedding\n"
   ]
  },
  {
   "cell_type": "code",
   "execution_count": 3,
   "metadata": {},
   "outputs": [
    {
     "data": {
      "text/plain": [
       "Parameter containing:\n",
       "tensor([[ 1.5809,  0.2717,  0.4510],\n",
       "        [ 0.1151, -1.3741, -0.0754],\n",
       "        [-0.4393,  0.6695,  2.0121],\n",
       "        [ 0.5194,  0.1159,  0.6411],\n",
       "        [-0.6332, -0.4518, -0.2248],\n",
       "        [ 0.6434, -1.9522, -0.5846],\n",
       "        [ 0.8447, -0.7463, -0.9242],\n",
       "        [-0.7032,  0.8451, -0.5661],\n",
       "        [-0.4550,  0.6431, -1.3130],\n",
       "        [-1.0583,  0.3888, -1.8614]], requires_grad=True)"
      ]
     },
     "execution_count": 3,
     "metadata": {},
     "output_type": "execute_result"
    }
   ],
   "source": [
    "embedding.weight\n"
   ]
  },
  {
   "cell_type": "code",
   "execution_count": 4,
   "metadata": {},
   "outputs": [
    {
     "data": {
      "text/plain": [
       "tensor([[[ 0.1151, -1.3741, -0.0754],\n",
       "         [-0.4393,  0.6695,  2.0121],\n",
       "         [-0.6332, -0.4518, -0.2248],\n",
       "         [ 0.6434, -1.9522, -0.5846]],\n",
       "\n",
       "        [[-0.6332, -0.4518, -0.2248],\n",
       "         [ 0.5194,  0.1159,  0.6411],\n",
       "         [-0.4393,  0.6695,  2.0121],\n",
       "         [-1.0583,  0.3888, -1.8614]]], grad_fn=<EmbeddingBackward0>)"
      ]
     },
     "execution_count": 4,
     "metadata": {},
     "output_type": "execute_result"
    }
   ],
   "source": [
    "input = torch.LongTensor([[1, 2, 4, 5], [4, 3, 2, 9]])\n",
    "embedding(input)\n"
   ]
  },
  {
   "cell_type": "markdown",
   "metadata": {},
   "source": [
    "The vector at padding index will not be updated, initially set to 0"
   ]
  },
  {
   "cell_type": "code",
   "execution_count": 5,
   "metadata": {},
   "outputs": [
    {
     "data": {
      "text/plain": [
       "Parameter containing:\n",
       "tensor([[ 0.0000,  0.0000,  0.0000],\n",
       "        [ 0.8930, -0.7569,  0.2431],\n",
       "        [ 0.3045,  0.0473,  0.7610],\n",
       "        [ 2.0166,  0.5218, -0.9694],\n",
       "        [ 1.0133,  0.6082,  0.8131],\n",
       "        [-0.9300, -0.0680,  0.8860],\n",
       "        [-0.8734,  0.0278,  1.3139],\n",
       "        [ 0.0368,  1.2667,  1.1433],\n",
       "        [-0.6458,  0.4116,  2.0016],\n",
       "        [ 0.3347, -1.5406, -0.2118]], requires_grad=True)"
      ]
     },
     "execution_count": 5,
     "metadata": {},
     "output_type": "execute_result"
    }
   ],
   "source": [
    "embedding = nn.Embedding(10, 3, padding_idx=0)\n",
    "embedding.weight\n"
   ]
  },
  {
   "cell_type": "code",
   "execution_count": 6,
   "metadata": {},
   "outputs": [
    {
     "data": {
      "text/plain": [
       "tensor([[ 0.0000,  0.0000,  0.0000],\n",
       "        [ 0.3045,  0.0473,  0.7610],\n",
       "        [ 0.0000,  0.0000,  0.0000],\n",
       "        [-0.9300, -0.0680,  0.8860]], grad_fn=<EmbeddingBackward0>)"
      ]
     },
     "execution_count": 6,
     "metadata": {},
     "output_type": "execute_result"
    }
   ],
   "source": [
    "input = torch.LongTensor([0, 2, 0, 5])\n",
    "embedding(input)\n"
   ]
  },
  {
   "cell_type": "markdown",
   "metadata": {},
   "source": [
    "Loading pretrained embeddings:"
   ]
  },
  {
   "cell_type": "code",
   "execution_count": 7,
   "metadata": {},
   "outputs": [
    {
     "data": {
      "text/plain": [
       "tensor([[1., 2., 3.],\n",
       "        [4., 5., 6.],\n",
       "        [7., 9., 9.]])"
      ]
     },
     "execution_count": 7,
     "metadata": {},
     "output_type": "execute_result"
    }
   ],
   "source": [
    "embedding_matrix = torch.FloatTensor([[1, 2, 3],\n",
    "                                      [4, 5, 6],\n",
    "                                      [7, 9, 9]])\n",
    "embedding_matrix\n"
   ]
  },
  {
   "cell_type": "code",
   "execution_count": 8,
   "metadata": {},
   "outputs": [
    {
     "data": {
      "text/plain": [
       "Parameter containing:\n",
       "tensor([[1., 2., 3.],\n",
       "        [4., 5., 6.],\n",
       "        [7., 9., 9.]], requires_grad=True)"
      ]
     },
     "execution_count": 8,
     "metadata": {},
     "output_type": "execute_result"
    }
   ],
   "source": [
    "embeddings = nn.Embedding.from_pretrained(\n",
    "    embedding_matrix,\n",
    "    freeze=False,\n",
    "    padding_idx=0)\n",
    "embeddings.weight\n"
   ]
  },
  {
   "cell_type": "markdown",
   "metadata": {},
   "source": []
  }
 ],
 "metadata": {
  "kernelspec": {
   "display_name": "base",
   "language": "python",
   "name": "python3"
  },
  "language_info": {
   "codemirror_mode": {
    "name": "ipython",
    "version": 3
   },
   "file_extension": ".py",
   "mimetype": "text/x-python",
   "name": "python",
   "nbconvert_exporter": "python",
   "pygments_lexer": "ipython3",
   "version": "3.11.5"
  },
  "orig_nbformat": 4
 },
 "nbformat": 4,
 "nbformat_minor": 2
}
