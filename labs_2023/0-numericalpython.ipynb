{
 "cells": [
  {
   "cell_type": "markdown",
   "metadata": {},
   "source": [
    "# Introduction to Linear Algebra with NumPy and PyTorch\n",
    "by Pierre Nugues\n"
   ]
  },
  {
   "cell_type": "markdown",
   "metadata": {},
   "source": [
    "## The Corpus\n",
    "We create a dictionary with URLs"
   ]
  },
  {
   "cell_type": "code",
   "execution_count": 1,
   "metadata": {},
   "outputs": [],
   "source": [
    "classics_url = {'iliad': 'http://classics.mit.edu/Homer/iliad.mb.txt',\n",
    "                'odyssey': 'http://classics.mit.edu/Homer/odyssey.mb.txt',\n",
    "                'eclogue': 'http://classics.mit.edu/Virgil/eclogue.mb.txt',\n",
    "                'georgics': 'http://classics.mit.edu/Virgil/georgics.mb.txt',\n",
    "                'aeneid': 'http://classics.mit.edu/Virgil/aeneid.mb.txt'}\n"
   ]
  },
  {
   "cell_type": "markdown",
   "metadata": {},
   "source": [
    "We read the texts from the URLs"
   ]
  },
  {
   "cell_type": "code",
   "execution_count": 2,
   "metadata": {},
   "outputs": [],
   "source": [
    "import requests\n",
    "\n",
    "classics = {}\n",
    "for key in classics_url:\n",
    "    classics[key] = requests.get(classics_url[key]).text\n"
   ]
  },
  {
   "cell_type": "markdown",
   "metadata": {},
   "source": [
    "We remove the license information to keep only the text"
   ]
  },
  {
   "cell_type": "code",
   "execution_count": 3,
   "metadata": {},
   "outputs": [],
   "source": [
    "text_bounds = {'iliad': (136, -486), 'odyssey': (138, -486),\n",
    "               'eclogue': (139, -486), 'georgics': (140, -486), 'aeneid': (138, -486)}\n"
   ]
  },
  {
   "cell_type": "code",
   "execution_count": 4,
   "metadata": {},
   "outputs": [],
   "source": [
    "for key in classics:\n",
    "    classics[key] = classics[key][text_bounds[key][0]:text_bounds[key][1]]\n"
   ]
  },
  {
   "cell_type": "code",
   "execution_count": 5,
   "metadata": {},
   "outputs": [
    {
     "data": {
      "text/plain": [
       "'The Iliad\\nBy Homer\\n\\n\\nTranslated by Samuel Butler\\n\\n'"
      ]
     },
     "execution_count": 5,
     "metadata": {},
     "output_type": "execute_result"
    }
   ],
   "source": [
    "classics['iliad'][:50]\n"
   ]
  },
  {
   "cell_type": "markdown",
   "metadata": {},
   "source": [
    "We additionally write the Iliad and the Odyssey in two text files"
   ]
  },
  {
   "cell_type": "code",
   "execution_count": 6,
   "metadata": {},
   "outputs": [],
   "source": [
    "with open('iliad.txt', 'w') as f_il, open('odyssey.txt', 'w') as f_od:\n",
    "    f_il.write(classics['iliad'])\n",
    "    f_od.write(classics['odyssey'])\n"
   ]
  },
  {
   "cell_type": "markdown",
   "metadata": {},
   "source": [
    "We store the corpus in a JSON file"
   ]
  },
  {
   "cell_type": "code",
   "execution_count": 7,
   "metadata": {},
   "outputs": [],
   "source": [
    "import json\n",
    "\n",
    "with open('classics.json', 'w') as f:\n",
    "    json.dump(classics, f)\n"
   ]
  },
  {
   "cell_type": "markdown",
   "metadata": {},
   "source": [
    "We read it again"
   ]
  },
  {
   "cell_type": "code",
   "execution_count": 8,
   "metadata": {},
   "outputs": [],
   "source": [
    "with open('classics.json', 'r') as f:\n",
    "    classics = json.loads(f.read())\n"
   ]
  },
  {
   "cell_type": "markdown",
   "metadata": {},
   "source": [
    "## Utilities"
   ]
  },
  {
   "cell_type": "code",
   "execution_count": 9,
   "metadata": {},
   "outputs": [],
   "source": [
    "alphabet = 'abcdefghijklmnopqrstuvwxyz'\n"
   ]
  },
  {
   "cell_type": "code",
   "execution_count": 10,
   "metadata": {},
   "outputs": [],
   "source": [
    "class Text:\n",
    "    \"\"\"Text class to hold and process text\"\"\"\n",
    "\n",
    "    alphabet = 'abcdefghijklmnopqrstuvwxyz'\n",
    "\n",
    "    def __init__(self, text=None):\n",
    "        \"\"\"The constructor called when an object\n",
    "        is created\"\"\"\n",
    "\n",
    "        self.content = text\n",
    "        self.length = len(text)\n",
    "        self.letter_counts = {}\n",
    "\n",
    "    def count_letters(self, lc=True):\n",
    "        \"\"\"Function to count the letters of a text\"\"\"\n",
    "\n",
    "        letter_counts = {}\n",
    "        if lc:\n",
    "            text = self.content.lower()\n",
    "        else:\n",
    "            text = self.content\n",
    "        for letter in text:\n",
    "            if letter.lower() in self.alphabet:\n",
    "                if letter in letter_counts:\n",
    "                    letter_counts[letter] += 1\n",
    "                else:\n",
    "                    letter_counts[letter] = 1\n",
    "        self.letter_counts = letter_counts\n",
    "        return letter_counts\n"
   ]
  },
  {
   "cell_type": "markdown",
   "metadata": {},
   "source": [
    "## Imports"
   ]
  },
  {
   "cell_type": "code",
   "execution_count": 12,
   "metadata": {},
   "outputs": [],
   "source": [
    "import math\n",
    "import random\n",
    "import numpy as np\n",
    "import torch\n"
   ]
  },
  {
   "cell_type": "code",
   "execution_count": 13,
   "metadata": {},
   "outputs": [
    {
     "data": {
      "text/plain": [
       "<torch._C.Generator at 0x1bd14d2adb0>"
      ]
     },
     "execution_count": 13,
     "metadata": {},
     "output_type": "execute_result"
    }
   ],
   "source": [
    "random.seed(4321)\n",
    "np.random.seed(4321)\n",
    "torch.manual_seed(4321)\n"
   ]
  },
  {
   "cell_type": "markdown",
   "metadata": {},
   "source": [
    "## The Dataset"
   ]
  },
  {
   "cell_type": "markdown",
   "metadata": {},
   "source": [
    "Let us read Homer's _Iliad_ and _Odyssey_ and Virgil's _Eclogue_, _Georgics_, and _Aeneid_."
   ]
  },
  {
   "cell_type": "code",
   "execution_count": 14,
   "metadata": {},
   "outputs": [
    {
     "data": {
      "text/plain": [
       "['iliad', 'odyssey', 'eclogue', 'georgics', 'aeneid']"
      ]
     },
     "execution_count": 14,
     "metadata": {},
     "output_type": "execute_result"
    }
   ],
   "source": [
    "titles = ['iliad', 'odyssey', 'eclogue', 'georgics', 'aeneid']\n",
    "titles\n"
   ]
  },
  {
   "cell_type": "code",
   "execution_count": 15,
   "metadata": {},
   "outputs": [],
   "source": [
    "texts = []\n",
    "for title in titles:\n",
    "    texts += [classics[title]]\n"
   ]
  },
  {
   "cell_type": "code",
   "execution_count": 16,
   "metadata": {},
   "outputs": [],
   "source": [
    "cnt_dicts = []\n",
    "for text in texts:\n",
    "    cnt_dicts += [Text(text).count_letters()]\n"
   ]
  },
  {
   "cell_type": "code",
   "execution_count": 17,
   "metadata": {},
   "outputs": [],
   "source": [
    "cnt_lists = []\n",
    "for cnt_dict in cnt_dicts:\n",
    "    cnt_lists += [list(map(cnt_dict.get, alphabet))]\n"
   ]
  },
  {
   "cell_type": "code",
   "execution_count": 18,
   "metadata": {},
   "outputs": [
    {
     "data": {
      "text/plain": [
       "[51020, 8941, 11558]"
      ]
     },
     "execution_count": 18,
     "metadata": {},
     "output_type": "execute_result"
    }
   ],
   "source": [
    "cnt_lists[0][:3]\n"
   ]
  },
  {
   "cell_type": "code",
   "execution_count": 19,
   "metadata": {},
   "outputs": [
    {
     "name": "stdout",
     "output_type": "stream",
     "text": [
      "iliad [51020, 8941, 11558, 28333, 77466, 16114, 12595, 50194, 38151, 1624]\n",
      "odyssey [37630, 6598, 8580, 20738, 59783, 10449, 9803, 34787, 28793, 424]\n",
      "eclogue [2716, 578, 723, 1440, 4366, 846, 808, 2509, 2252, 22]\n",
      "georgics [6841, 1619, 2017, 4027, 12112, 2424, 2150, 6988, 6038, 59]\n",
      "aeneid [36678, 6869, 10023, 23866, 55372, 11618, 9607, 33057, 30579, 908]\n"
     ]
    }
   ],
   "source": [
    "for i, cnt_list in enumerate(cnt_lists):\n",
    "    print(titles[i], cnt_lists[i][:10])\n"
   ]
  },
  {
   "cell_type": "markdown",
   "metadata": {
    "tags": []
   },
   "source": [
    "## Vectors\n",
    "### NumPy"
   ]
  },
  {
   "cell_type": "code",
   "execution_count": 20,
   "metadata": {},
   "outputs": [
    {
     "data": {
      "text/plain": [
       "array([1, 2, 3])"
      ]
     },
     "execution_count": 20,
     "metadata": {},
     "output_type": "execute_result"
    }
   ],
   "source": [
    "np.array([2, 3])\n",
    "np.array([1, 2, 3])\n"
   ]
  },
  {
   "cell_type": "markdown",
   "metadata": {},
   "source": [
    "Vectors of letter counts"
   ]
  },
  {
   "cell_type": "code",
   "execution_count": 21,
   "metadata": {},
   "outputs": [],
   "source": [
    "iliad_cnt = np.array(cnt_lists[0])\n",
    "odyssey_cnt = np.array(cnt_lists[1])\n",
    "eclogue_cnt = np.array(cnt_lists[2])\n",
    "georgics_cnt = np.array(cnt_lists[3])\n",
    "aeneid_cnt = np.array(cnt_lists[4])\n"
   ]
  },
  {
   "cell_type": "code",
   "execution_count": 22,
   "metadata": {},
   "outputs": [
    {
     "data": {
      "text/plain": [
       "array([51020,  8941, 11558, 28333, 77466, 16114, 12595, 50194, 38151,\n",
       "        1624,  4413, 25311, 16648, 42194, 51270,  9104,   283, 36457,\n",
       "       41243, 54177, 18409,  6060, 15665,   597, 11908,   284])"
      ]
     },
     "execution_count": 22,
     "metadata": {},
     "output_type": "execute_result"
    }
   ],
   "source": [
    "iliad_cnt\n"
   ]
  },
  {
   "cell_type": "code",
   "execution_count": 23,
   "metadata": {},
   "outputs": [
    {
     "data": {
      "text/plain": [
       "array([37630,  6598,  8580, 20738, 59783, 10449,  9803, 34787, 28793,\n",
       "         424,  3631, 18951, 13060, 31889, 38778,  6679,   256, 25668,\n",
       "       31352, 40483, 15406,  4803, 12989,   350, 10974,   124])"
      ]
     },
     "execution_count": 23,
     "metadata": {},
     "output_type": "execute_result"
    }
   ],
   "source": [
    "odyssey_cnt\n"
   ]
  },
  {
   "cell_type": "markdown",
   "metadata": {},
   "source": [
    "### The datatype"
   ]
  },
  {
   "cell_type": "code",
   "execution_count": 24,
   "metadata": {},
   "outputs": [
    {
     "data": {
      "text/plain": [
       "dtype('int32')"
      ]
     },
     "execution_count": 24,
     "metadata": {},
     "output_type": "execute_result"
    }
   ],
   "source": [
    "odyssey_cnt.dtype\n"
   ]
  },
  {
   "cell_type": "code",
   "execution_count": 25,
   "metadata": {},
   "outputs": [
    {
     "data": {
      "text/plain": [
       "array([1, 2, 3])"
      ]
     },
     "execution_count": 25,
     "metadata": {},
     "output_type": "execute_result"
    }
   ],
   "source": [
    "vector = np.array([1, 2, 3], dtype='int32')\n",
    "vector\n"
   ]
  },
  {
   "cell_type": "code",
   "execution_count": 26,
   "metadata": {},
   "outputs": [
    {
     "data": {
      "text/plain": [
       "dtype('int32')"
      ]
     },
     "execution_count": 26,
     "metadata": {},
     "output_type": "execute_result"
    }
   ],
   "source": [
    "vector.dtype\n"
   ]
  },
  {
   "cell_type": "code",
   "execution_count": 27,
   "metadata": {},
   "outputs": [
    {
     "data": {
      "text/plain": [
       "array([1., 2., 3.])"
      ]
     },
     "execution_count": 27,
     "metadata": {},
     "output_type": "execute_result"
    }
   ],
   "source": [
    "vector = np.array([1, 2, 3], dtype='float64')\n",
    "vector\n"
   ]
  },
  {
   "cell_type": "code",
   "execution_count": 28,
   "metadata": {},
   "outputs": [
    {
     "data": {
      "text/plain": [
       "array([False,  True,  True,  True])"
      ]
     },
     "execution_count": 28,
     "metadata": {},
     "output_type": "execute_result"
    }
   ],
   "source": [
    "np.array([0, 1, 2, 3], dtype='bool')\n"
   ]
  },
  {
   "cell_type": "markdown",
   "metadata": {},
   "source": [
    "### The vector size"
   ]
  },
  {
   "cell_type": "code",
   "execution_count": 29,
   "metadata": {},
   "outputs": [
    {
     "data": {
      "text/plain": [
       "(26,)"
      ]
     },
     "execution_count": 29,
     "metadata": {},
     "output_type": "execute_result"
    }
   ],
   "source": [
    "odyssey_cnt.shape\n"
   ]
  },
  {
   "cell_type": "markdown",
   "metadata": {},
   "source": [
    "### Indices and Slices"
   ]
  },
  {
   "cell_type": "code",
   "execution_count": 30,
   "metadata": {},
   "outputs": [
    {
     "data": {
      "text/plain": [
       "array([2, 3])"
      ]
     },
     "execution_count": 30,
     "metadata": {},
     "output_type": "execute_result"
    }
   ],
   "source": [
    "vector = np.array([1, 2, 3, 4])\n",
    "vector[1]   # 2\n",
    "vector[:1]  # array([1])\n",
    "vector[1:3]  # array([2, 3])\n"
   ]
  },
  {
   "cell_type": "markdown",
   "metadata": {},
   "source": [
    "### Operations"
   ]
  },
  {
   "cell_type": "code",
   "execution_count": 31,
   "metadata": {},
   "outputs": [
    {
     "data": {
      "text/plain": [
       "array([5, 7, 9])"
      ]
     },
     "execution_count": 31,
     "metadata": {},
     "output_type": "execute_result"
    }
   ],
   "source": [
    "np.array([1, 2, 3]) + np.array([4, 5, 6])\n"
   ]
  },
  {
   "cell_type": "code",
   "execution_count": 32,
   "metadata": {},
   "outputs": [
    {
     "data": {
      "text/plain": [
       "array([3, 6, 9])"
      ]
     },
     "execution_count": 32,
     "metadata": {},
     "output_type": "execute_result"
    }
   ],
   "source": [
    "3 * np.array([1, 2, 3])\n"
   ]
  },
  {
   "cell_type": "code",
   "execution_count": 33,
   "metadata": {},
   "outputs": [
    {
     "data": {
      "text/plain": [
       "array([ 88650,  15539,  20138,  49071, 137249,  26563,  22398,  84981,\n",
       "        66944,   2048,   8044,  44262,  29708,  74083,  90048,  15783,\n",
       "          539,  62125,  72595,  94660,  33815,  10863,  28654,    947,\n",
       "        22882,    408])"
      ]
     },
     "execution_count": 33,
     "metadata": {},
     "output_type": "execute_result"
    }
   ],
   "source": [
    "iliad_cnt + odyssey_cnt      # array([88650,  15539,  20138, ...])\n"
   ]
  },
  {
   "cell_type": "code",
   "execution_count": 34,
   "metadata": {},
   "outputs": [
    {
     "data": {
      "text/plain": [
       "array([13390,  2343,  2978,  7595, 17683,  5665,  2792, 15407,  9358,\n",
       "        1200,   782,  6360,  3588, 10305, 12492,  2425,    27, 10789,\n",
       "        9891, 13694,  3003,  1257,  2676,   247,   934,   160])"
      ]
     },
     "execution_count": 34,
     "metadata": {},
     "output_type": "execute_result"
    }
   ],
   "source": [
    "iliad_cnt - odyssey_cnt      # array([13390,  2343,  2978, ...])\n"
   ]
  },
  {
   "cell_type": "code",
   "execution_count": 35,
   "metadata": {},
   "outputs": [
    {
     "data": {
      "text/plain": [
       "array([-24240,  -4255,  -5602, -13143, -42100,  -4784,  -7011, -19380,\n",
       "       -19435,    776,  -2849, -12591,  -9472, -21584, -26286,  -4254,\n",
       "         -229, -14879, -21461, -26789, -12403,  -3546, -10313,   -103,\n",
       "       -10040,     36])"
      ]
     },
     "execution_count": 35,
     "metadata": {},
     "output_type": "execute_result"
    }
   ],
   "source": [
    "\n",
    "iliad_cnt - 2 * odyssey_cnt  # array([-24240,  -4255,  ...])\n"
   ]
  },
  {
   "cell_type": "markdown",
   "metadata": {},
   "source": [
    "### Comparison with lists"
   ]
  },
  {
   "cell_type": "code",
   "execution_count": 36,
   "metadata": {},
   "outputs": [
    {
     "data": {
      "text/plain": [
       "[1, 2, 3, 4, 5, 6]"
      ]
     },
     "execution_count": 36,
     "metadata": {},
     "output_type": "execute_result"
    }
   ],
   "source": [
    "[1, 2, 3] + [4, 5, 6]\n"
   ]
  },
  {
   "cell_type": "code",
   "execution_count": 37,
   "metadata": {},
   "outputs": [
    {
     "data": {
      "text/plain": [
       "[1, 2, 3, 1, 2, 3, 1, 2, 3]"
      ]
     },
     "execution_count": 37,
     "metadata": {},
     "output_type": "execute_result"
    }
   ],
   "source": [
    "3 * [1, 2, 3]\n"
   ]
  },
  {
   "cell_type": "markdown",
   "metadata": {},
   "source": [
    "### PyTorch\n",
    "#### Tensors"
   ]
  },
  {
   "cell_type": "code",
   "execution_count": 38,
   "metadata": {},
   "outputs": [
    {
     "data": {
      "text/plain": [
       "tensor([1, 2, 3])"
      ]
     },
     "execution_count": 38,
     "metadata": {},
     "output_type": "execute_result"
    }
   ],
   "source": [
    "torch.tensor([2, 3])\n",
    "torch.tensor([1, 2, 3])\n"
   ]
  },
  {
   "cell_type": "code",
   "execution_count": 39,
   "metadata": {},
   "outputs": [],
   "source": [
    "iliad_cnt_pt = torch.tensor(cnt_lists[0])\n"
   ]
  },
  {
   "cell_type": "code",
   "execution_count": 40,
   "metadata": {},
   "outputs": [
    {
     "data": {
      "text/plain": [
       "tensor([51020,  8941, 11558, 28333, 77466, 16114, 12595, 50194, 38151,  1624,\n",
       "         4413, 25311, 16648, 42194, 51270,  9104,   283, 36457, 41243, 54177,\n",
       "        18409,  6060, 15665,   597, 11908,   284])"
      ]
     },
     "execution_count": 40,
     "metadata": {},
     "output_type": "execute_result"
    }
   ],
   "source": [
    "iliad_cnt_pt\n"
   ]
  },
  {
   "cell_type": "markdown",
   "metadata": {},
   "source": [
    "#### Types"
   ]
  },
  {
   "cell_type": "code",
   "execution_count": 41,
   "metadata": {},
   "outputs": [
    {
     "data": {
      "text/plain": [
       "torch.int64"
      ]
     },
     "execution_count": 41,
     "metadata": {},
     "output_type": "execute_result"
    }
   ],
   "source": [
    "torch.tensor([1, 2, 3]).dtype\n"
   ]
  },
  {
   "cell_type": "code",
   "execution_count": 42,
   "metadata": {},
   "outputs": [
    {
     "data": {
      "text/plain": [
       "tensor([1., 2., 3.], dtype=torch.float64)"
      ]
     },
     "execution_count": 42,
     "metadata": {},
     "output_type": "execute_result"
    }
   ],
   "source": [
    "torch.tensor([1, 2, 3], dtype=torch.float64)\n"
   ]
  },
  {
   "cell_type": "code",
   "execution_count": 43,
   "metadata": {},
   "outputs": [
    {
     "data": {
      "text/plain": [
       "tensor([False,  True,  True,  True])"
      ]
     },
     "execution_count": 43,
     "metadata": {},
     "output_type": "execute_result"
    }
   ],
   "source": [
    "torch.tensor([0, 1, 2, 3], dtype=torch.bool)\n"
   ]
  },
  {
   "cell_type": "markdown",
   "metadata": {},
   "source": [
    "#### Size"
   ]
  },
  {
   "cell_type": "code",
   "execution_count": 44,
   "metadata": {},
   "outputs": [
    {
     "data": {
      "text/plain": [
       "torch.Size([26])"
      ]
     },
     "execution_count": 44,
     "metadata": {},
     "output_type": "execute_result"
    }
   ],
   "source": [
    "iliad_cnt_pt.size()\n"
   ]
  },
  {
   "cell_type": "markdown",
   "metadata": {},
   "source": [
    "#### NumPy/PyTorch Conversion"
   ]
  },
  {
   "cell_type": "code",
   "execution_count": 45,
   "metadata": {},
   "outputs": [
    {
     "data": {
      "text/plain": [
       "tensor([1, 2, 3], dtype=torch.int32)"
      ]
     },
     "execution_count": 45,
     "metadata": {},
     "output_type": "execute_result"
    }
   ],
   "source": [
    "np_array = np.array([1, 2, 3])\n",
    "tensor = torch.from_numpy(np_array)\n",
    "tensor\n"
   ]
  },
  {
   "cell_type": "code",
   "execution_count": 46,
   "metadata": {},
   "outputs": [
    {
     "data": {
      "text/plain": [
       "array([1, 2, 3], dtype=int64)"
      ]
     },
     "execution_count": 46,
     "metadata": {},
     "output_type": "execute_result"
    }
   ],
   "source": [
    "tensor = torch.tensor([1, 2, 3])\n",
    "np_array = tensor.numpy()\n",
    "np_array\n"
   ]
  },
  {
   "cell_type": "markdown",
   "metadata": {},
   "source": [
    "#### Device"
   ]
  },
  {
   "cell_type": "code",
   "execution_count": 47,
   "metadata": {},
   "outputs": [
    {
     "data": {
      "text/plain": [
       "False"
      ]
     },
     "execution_count": 47,
     "metadata": {},
     "output_type": "execute_result"
    }
   ],
   "source": [
    "torch.cuda.is_available()\n"
   ]
  },
  {
   "cell_type": "code",
   "execution_count": 48,
   "metadata": {},
   "outputs": [
    {
     "data": {
      "text/plain": [
       "False"
      ]
     },
     "execution_count": 48,
     "metadata": {},
     "output_type": "execute_result"
    }
   ],
   "source": [
    "torch.backends.mps.is_available()\n"
   ]
  },
  {
   "cell_type": "code",
   "execution_count": 49,
   "metadata": {},
   "outputs": [
    {
     "data": {
      "text/plain": [
       "device(type='cpu')"
      ]
     },
     "execution_count": 49,
     "metadata": {},
     "output_type": "execute_result"
    }
   ],
   "source": [
    "torch.device('cpu')\n"
   ]
  },
  {
   "cell_type": "code",
   "execution_count": 50,
   "metadata": {},
   "outputs": [
    {
     "data": {
      "text/plain": [
       "device(type='mps')"
      ]
     },
     "execution_count": 50,
     "metadata": {},
     "output_type": "execute_result"
    }
   ],
   "source": [
    "torch.device('mps')\n"
   ]
  },
  {
   "cell_type": "code",
   "execution_count": 51,
   "metadata": {},
   "outputs": [
    {
     "data": {
      "text/plain": [
       "device(type='cpu')"
      ]
     },
     "execution_count": 51,
     "metadata": {},
     "output_type": "execute_result"
    }
   ],
   "source": [
    "tensor = torch.tensor([1, 2, 3])\n",
    "tensor.device\n"
   ]
  },
  {
   "cell_type": "code",
   "execution_count": 52,
   "metadata": {},
   "outputs": [],
   "source": [
    "if torch.cuda.is_available():\n",
    "    device = torch.device('cuda')\n",
    "elif torch.backends.mps.is_available():\n",
    "    device = torch.device('mps')\n",
    "else:\n",
    "    device = torch.device('cpu')\n"
   ]
  },
  {
   "cell_type": "code",
   "execution_count": 53,
   "metadata": {},
   "outputs": [
    {
     "data": {
      "text/plain": [
       "device(type='cpu')"
      ]
     },
     "execution_count": 53,
     "metadata": {},
     "output_type": "execute_result"
    }
   ],
   "source": [
    "device\n"
   ]
  },
  {
   "cell_type": "code",
   "execution_count": 54,
   "metadata": {},
   "outputs": [
    {
     "data": {
      "text/plain": [
       "tensor([1, 2, 3])"
      ]
     },
     "execution_count": 54,
     "metadata": {},
     "output_type": "execute_result"
    }
   ],
   "source": [
    "tensor = torch.tensor([1, 2, 3], device=device)\n",
    "tensor\n"
   ]
  },
  {
   "cell_type": "code",
   "execution_count": 55,
   "metadata": {},
   "outputs": [
    {
     "data": {
      "text/plain": [
       "tensor([1, 2, 3])"
      ]
     },
     "execution_count": 55,
     "metadata": {},
     "output_type": "execute_result"
    }
   ],
   "source": [
    "tensor = torch.tensor([1, 2, 3])\n",
    "tensor.to(device)\n"
   ]
  },
  {
   "cell_type": "markdown",
   "metadata": {},
   "source": [
    "## NumPy Functions"
   ]
  },
  {
   "cell_type": "code",
   "execution_count": 56,
   "metadata": {},
   "outputs": [],
   "source": [
    "np.set_printoptions(precision=3)\n"
   ]
  },
  {
   "cell_type": "code",
   "execution_count": 57,
   "metadata": {},
   "outputs": [
    {
     "data": {
      "text/plain": [
       "array([225.876,  94.557, 107.508, 168.324, 278.327, 126.941, 112.227,\n",
       "       224.04 , 195.323,  40.299,  66.43 , 159.094, 129.027, 205.412,\n",
       "       226.429,  95.415,  16.823, 190.937, 203.084, 232.76 , 135.68 ,\n",
       "        77.846, 125.16 ,  24.434, 109.124,  16.852])"
      ]
     },
     "execution_count": 57,
     "metadata": {},
     "output_type": "execute_result"
    }
   ],
   "source": [
    "np.sqrt(iliad_cnt)\n"
   ]
  },
  {
   "cell_type": "code",
   "execution_count": 58,
   "metadata": {},
   "outputs": [
    {
     "data": {
      "text/plain": [
       "array([ 0.86 ,  1.   , -0.997, -0.52 ,  0.821, -0.717, -0.938, -0.715,\n",
       "        0.877, -0.979, -0.592, -0.688, -0.765, -0.745,  0.702,  0.944,\n",
       "        0.967, -0.378,  0.985, -0.973,  0.743, -0.991,  0.524,  0.995,\n",
       "        0.205,  0.309])"
      ]
     },
     "execution_count": 58,
     "metadata": {},
     "output_type": "execute_result"
    }
   ],
   "source": [
    "np.cos(iliad_cnt)\n"
   ]
  },
  {
   "cell_type": "code",
   "execution_count": 59,
   "metadata": {},
   "outputs": [
    {
     "ename": "TypeError",
     "evalue": "only size-1 arrays can be converted to Python scalars",
     "output_type": "error",
     "traceback": [
      "\u001b[1;31m---------------------------------------------------------------------------\u001b[0m",
      "\u001b[1;31mTypeError\u001b[0m                                 Traceback (most recent call last)",
      "Cell \u001b[1;32mIn[59], line 1\u001b[0m\n\u001b[1;32m----> 1\u001b[0m math\u001b[39m.\u001b[39;49msqrt(iliad_cnt)\n",
      "\u001b[1;31mTypeError\u001b[0m: only size-1 arrays can be converted to Python scalars"
     ]
    }
   ],
   "source": [
    "math.sqrt(iliad_cnt)\n"
   ]
  },
  {
   "cell_type": "code",
   "execution_count": 60,
   "metadata": {},
   "outputs": [
    {
     "data": {
      "text/plain": [
       "array([225.876,  94.557, 107.508, 168.324, 278.327, 126.941, 112.227,\n",
       "       224.04 , 195.323,  40.299,  66.43 , 159.094, 129.027, 205.412,\n",
       "       226.429,  95.415,  16.823, 190.937, 203.084, 232.76 , 135.68 ,\n",
       "        77.846, 125.16 ,  24.434, 109.124,  16.852])"
      ]
     },
     "execution_count": 60,
     "metadata": {},
     "output_type": "execute_result"
    }
   ],
   "source": [
    "np_sqrt = np.vectorize(math.sqrt)\n",
    "np_sqrt(iliad_cnt)\n"
   ]
  },
  {
   "cell_type": "code",
   "execution_count": 61,
   "metadata": {},
   "outputs": [
    {
     "data": {
      "text/plain": [
       "472978"
      ]
     },
     "execution_count": 61,
     "metadata": {},
     "output_type": "execute_result"
    }
   ],
   "source": [
    "np.sum(odyssey_cnt)\n"
   ]
  },
  {
   "cell_type": "code",
   "execution_count": 62,
   "metadata": {},
   "outputs": [],
   "source": [
    "iliad_dist = iliad_cnt / np.sum(iliad_cnt)\n",
    "odyssey_dist = odyssey_cnt / np.sum(odyssey_cnt)\n"
   ]
  },
  {
   "cell_type": "code",
   "execution_count": 63,
   "metadata": {},
   "outputs": [
    {
     "data": {
      "text/plain": [
       "array([0.081, 0.014, 0.018, 0.045, 0.123, 0.026, 0.02 , 0.08 , 0.061,\n",
       "       0.003, 0.007, 0.04 , 0.026, 0.067, 0.081, 0.014, 0.   , 0.058,\n",
       "       0.065, 0.086, 0.029, 0.01 , 0.025, 0.001, 0.019, 0.   ])"
      ]
     },
     "execution_count": 63,
     "metadata": {},
     "output_type": "execute_result"
    }
   ],
   "source": [
    "iliad_dist\n"
   ]
  },
  {
   "cell_type": "code",
   "execution_count": 64,
   "metadata": {},
   "outputs": [
    {
     "data": {
      "text/plain": [
       "array([0.08 , 0.014, 0.018, 0.044, 0.126, 0.022, 0.021, 0.074, 0.061,\n",
       "       0.001, 0.008, 0.04 , 0.028, 0.067, 0.082, 0.014, 0.001, 0.054,\n",
       "       0.066, 0.086, 0.033, 0.01 , 0.027, 0.001, 0.023, 0.   ])"
      ]
     },
     "execution_count": 64,
     "metadata": {},
     "output_type": "execute_result"
    }
   ],
   "source": [
    "odyssey_dist\n"
   ]
  },
  {
   "cell_type": "markdown",
   "metadata": {},
   "source": [
    "PyTorch"
   ]
  },
  {
   "cell_type": "code",
   "execution_count": 65,
   "metadata": {},
   "outputs": [
    {
     "data": {
      "text/plain": [
       "tensor([225.8761,  94.5569, 107.5081, 168.3241, 278.3271, 126.9409, 112.2274,\n",
       "        224.0402, 195.3228,  40.2989,  66.4304, 159.0943, 129.0271, 205.4118,\n",
       "        226.4288,  95.4149,  16.8226, 190.9372, 203.0837, 232.7595, 135.6798,\n",
       "         77.8460, 125.1599,  24.4336, 109.1238,  16.8523])"
      ]
     },
     "execution_count": 65,
     "metadata": {},
     "output_type": "execute_result"
    }
   ],
   "source": [
    "torch.sqrt(iliad_cnt_pt)\n"
   ]
  },
  {
   "cell_type": "code",
   "execution_count": 66,
   "metadata": {},
   "outputs": [
    {
     "data": {
      "text/plain": [
       "tensor(630019)"
      ]
     },
     "execution_count": 66,
     "metadata": {},
     "output_type": "execute_result"
    }
   ],
   "source": [
    "torch.sum(iliad_cnt_pt)\n"
   ]
  },
  {
   "cell_type": "markdown",
   "metadata": {},
   "source": [
    "## Dot Product\n"
   ]
  },
  {
   "cell_type": "code",
   "execution_count": 67,
   "metadata": {},
   "outputs": [
    {
     "data": {
      "text/plain": [
       "0.06581109734214702"
      ]
     },
     "execution_count": 67,
     "metadata": {},
     "output_type": "execute_result"
    }
   ],
   "source": [
    "np.dot(iliad_dist, odyssey_dist)\n"
   ]
  },
  {
   "cell_type": "code",
   "execution_count": 68,
   "metadata": {},
   "outputs": [
    {
     "data": {
      "text/plain": [
       "0.06581109734214702"
      ]
     },
     "execution_count": 68,
     "metadata": {},
     "output_type": "execute_result"
    }
   ],
   "source": [
    "iliad_dist @ odyssey_dist\n"
   ]
  },
  {
   "cell_type": "code",
   "execution_count": 69,
   "metadata": {},
   "outputs": [
    {
     "data": {
      "text/plain": [
       "tensor(0.0658, dtype=torch.float64)"
      ]
     },
     "execution_count": 69,
     "metadata": {},
     "output_type": "execute_result"
    }
   ],
   "source": [
    "torch.dot(torch.tensor(iliad_dist), torch.tensor(odyssey_dist))\n"
   ]
  },
  {
   "cell_type": "markdown",
   "metadata": {},
   "source": [
    "### Norm"
   ]
  },
  {
   "cell_type": "code",
   "execution_count": 70,
   "metadata": {},
   "outputs": [
    {
     "data": {
      "text/plain": [
       "3.7416573867739413"
      ]
     },
     "execution_count": 70,
     "metadata": {},
     "output_type": "execute_result"
    }
   ],
   "source": [
    "np.linalg.norm([1.0, 2.0, 3.0])\n"
   ]
  },
  {
   "cell_type": "code",
   "execution_count": 71,
   "metadata": {},
   "outputs": [
    {
     "data": {
      "text/plain": [
       "tensor(3.7417)"
      ]
     },
     "execution_count": 71,
     "metadata": {},
     "output_type": "execute_result"
    }
   ],
   "source": [
    "torch.norm(torch.tensor([1.0, 2.0, 3.0]))\n"
   ]
  },
  {
   "cell_type": "markdown",
   "metadata": {},
   "source": [
    "#### Cosine"
   ]
  },
  {
   "cell_type": "markdown",
   "metadata": {},
   "source": [
    "Finally, we compute the cosine \n",
    "$$\n",
    "\\frac{\\mathbf{x} \\cdot \\mathbf{y}}{||\\mathbf{x}|| . ||\\mathbf{y}||}.\n",
    "$$"
   ]
  },
  {
   "cell_type": "code",
   "execution_count": 72,
   "metadata": {},
   "outputs": [
    {
     "data": {
      "text/plain": [
       "0.9990782943375434"
      ]
     },
     "execution_count": 72,
     "metadata": {},
     "output_type": "execute_result"
    }
   ],
   "source": [
    "(iliad_dist @ odyssey_dist) / (\n",
    "    np.linalg.norm(iliad_dist) *\n",
    "    np.linalg.norm(odyssey_dist))\n"
   ]
  },
  {
   "cell_type": "markdown",
   "metadata": {
    "tags": []
   },
   "source": [
    "## Matrices"
   ]
  },
  {
   "cell_type": "markdown",
   "metadata": {},
   "source": [
    "### NumPy"
   ]
  },
  {
   "cell_type": "markdown",
   "metadata": {},
   "source": [
    "We create a matrix from the list of lists"
   ]
  },
  {
   "cell_type": "code",
   "execution_count": 73,
   "metadata": {},
   "outputs": [
    {
     "data": {
      "text/plain": [
       "array([[51020,  8941, 11558, 28333, 77466, 16114, 12595, 50194, 38151,\n",
       "         1624,  4413, 25311, 16648, 42194, 51270,  9104,   283, 36457,\n",
       "        41243, 54177, 18409,  6060, 15665,   597, 11908,   284],\n",
       "       [37630,  6598,  8580, 20738, 59783, 10449,  9803, 34787, 28793,\n",
       "          424,  3631, 18951, 13060, 31889, 38778,  6679,   256, 25668,\n",
       "        31352, 40483, 15406,  4803, 12989,   350, 10974,   124],\n",
       "       [ 2716,   578,   723,  1440,  4366,   846,   808,  2509,  2252,\n",
       "           22,   268,  1809,  1043,  2248,  2948,   569,    12,  2236,\n",
       "         2618,  2940,  1031,   361,  1023,    38,   906,    22],\n",
       "       [ 6841,  1619,  2017,  4027, 12112,  2424,  2150,  6988,  6038,\n",
       "           59,   782,  4309,  2027,  6552,  6958,  1669,    53,  6704,\n",
       "         7143,  8713,  2583,   903,  2480,    85,  1458,    64],\n",
       "       [36678,  6869, 10023, 23866, 55372, 11618,  9607, 33057, 30579,\n",
       "          908,  2702, 18768, 10201, 32258, 32595,  8343,   530, 32077,\n",
       "        36430, 39481, 13714,  4375, 11097,   560,  8056,   270]])"
      ]
     },
     "execution_count": 73,
     "metadata": {},
     "output_type": "execute_result"
    }
   ],
   "source": [
    "hv_cnts = np.array(cnt_lists)\n",
    "hv_cnts\n"
   ]
  },
  {
   "cell_type": "markdown",
   "metadata": {},
   "source": [
    "The size"
   ]
  },
  {
   "cell_type": "code",
   "execution_count": 74,
   "metadata": {},
   "outputs": [
    {
     "data": {
      "text/plain": [
       "(5, 26)"
      ]
     },
     "execution_count": 74,
     "metadata": {},
     "output_type": "execute_result"
    }
   ],
   "source": [
    "hv_cnts.shape\n"
   ]
  },
  {
   "cell_type": "markdown",
   "metadata": {},
   "source": [
    "The data type"
   ]
  },
  {
   "cell_type": "code",
   "execution_count": 75,
   "metadata": {},
   "outputs": [
    {
     "data": {
      "text/plain": [
       "dtype('int32')"
      ]
     },
     "execution_count": 75,
     "metadata": {},
     "output_type": "execute_result"
    }
   ],
   "source": [
    "hv_cnts.dtype\n"
   ]
  },
  {
   "cell_type": "markdown",
   "metadata": {},
   "source": [
    "### Indices and Slices"
   ]
  },
  {
   "cell_type": "code",
   "execution_count": 76,
   "metadata": {},
   "outputs": [
    {
     "data": {
      "text/plain": [
       "11558"
      ]
     },
     "execution_count": 76,
     "metadata": {},
     "output_type": "execute_result"
    }
   ],
   "source": [
    "iliad_cnt[2]\n"
   ]
  },
  {
   "cell_type": "code",
   "execution_count": 77,
   "metadata": {},
   "outputs": [
    {
     "data": {
      "text/plain": [
       "8580"
      ]
     },
     "execution_count": 77,
     "metadata": {},
     "output_type": "execute_result"
    }
   ],
   "source": [
    "hv_cnts[1, 2]\n"
   ]
  },
  {
   "cell_type": "markdown",
   "metadata": {},
   "source": [
    "Slices"
   ]
  },
  {
   "cell_type": "code",
   "execution_count": 78,
   "metadata": {},
   "outputs": [
    {
     "data": {
      "text/plain": [
       "array([37630,  6598,  8580, 20738, 59783, 10449,  9803, 34787, 28793,\n",
       "         424,  3631, 18951, 13060, 31889, 38778,  6679,   256, 25668,\n",
       "       31352, 40483, 15406,  4803, 12989,   350, 10974,   124])"
      ]
     },
     "execution_count": 78,
     "metadata": {},
     "output_type": "execute_result"
    }
   ],
   "source": [
    "hv_cnts[1, :]\n"
   ]
  },
  {
   "cell_type": "code",
   "execution_count": 79,
   "metadata": {},
   "outputs": [
    {
     "data": {
      "text/plain": [
       "array([37630,  6598])"
      ]
     },
     "execution_count": 79,
     "metadata": {},
     "output_type": "execute_result"
    }
   ],
   "source": [
    "hv_cnts[1, :2]\n"
   ]
  },
  {
   "cell_type": "code",
   "execution_count": 80,
   "metadata": {},
   "outputs": [
    {
     "data": {
      "text/plain": [
       "array([2017, 4027])"
      ]
     },
     "execution_count": 80,
     "metadata": {},
     "output_type": "execute_result"
    }
   ],
   "source": [
    "hv_cnts[3, 2:4]\n"
   ]
  },
  {
   "cell_type": "code",
   "execution_count": 81,
   "metadata": {},
   "outputs": [
    {
     "data": {
      "text/plain": [
       "array([[ 2017,  4027],\n",
       "       [10023, 23866]])"
      ]
     },
     "execution_count": 81,
     "metadata": {},
     "output_type": "execute_result"
    }
   ],
   "source": [
    "hv_cnts[3:, 2:4]\n"
   ]
  },
  {
   "cell_type": "code",
   "execution_count": 82,
   "metadata": {},
   "outputs": [
    {
     "data": {
      "text/plain": [
       "array([11558,  8580,   723,  2017, 10023])"
      ]
     },
     "execution_count": 82,
     "metadata": {},
     "output_type": "execute_result"
    }
   ],
   "source": [
    "hv_cnts[:, 2]\n"
   ]
  },
  {
   "cell_type": "markdown",
   "metadata": {},
   "source": [
    "### Number of indices"
   ]
  },
  {
   "cell_type": "code",
   "execution_count": 83,
   "metadata": {},
   "outputs": [
    {
     "data": {
      "text/plain": [
       "1"
      ]
     },
     "execution_count": 83,
     "metadata": {},
     "output_type": "execute_result"
    }
   ],
   "source": [
    "odyssey_cnt.ndim\n"
   ]
  },
  {
   "cell_type": "code",
   "execution_count": 84,
   "metadata": {},
   "outputs": [
    {
     "data": {
      "text/plain": [
       "2"
      ]
     },
     "execution_count": 84,
     "metadata": {},
     "output_type": "execute_result"
    }
   ],
   "source": [
    "hv_cnts.ndim\n"
   ]
  },
  {
   "cell_type": "markdown",
   "metadata": {},
   "source": [
    "## Addition and multiplication by a scalar"
   ]
  },
  {
   "cell_type": "code",
   "execution_count": 85,
   "metadata": {},
   "outputs": [
    {
     "data": {
      "text/plain": [
       "array([[-51020,  -8941, -11558, -28333, -77466, -16114, -12595, -50194,\n",
       "        -38151,  -1624,  -4413, -25311, -16648, -42194, -51270,  -9104,\n",
       "          -283, -36457, -41243, -54177, -18409,  -6060, -15665,   -597,\n",
       "        -11908,   -284],\n",
       "       [-37630,  -6598,  -8580, -20738, -59783, -10449,  -9803, -34787,\n",
       "        -28793,   -424,  -3631, -18951, -13060, -31889, -38778,  -6679,\n",
       "          -256, -25668, -31352, -40483, -15406,  -4803, -12989,   -350,\n",
       "        -10974,   -124],\n",
       "       [ -2716,   -578,   -723,  -1440,  -4366,   -846,   -808,  -2509,\n",
       "         -2252,    -22,   -268,  -1809,  -1043,  -2248,  -2948,   -569,\n",
       "           -12,  -2236,  -2618,  -2940,  -1031,   -361,  -1023,    -38,\n",
       "          -906,    -22],\n",
       "       [ -6841,  -1619,  -2017,  -4027, -12112,  -2424,  -2150,  -6988,\n",
       "         -6038,    -59,   -782,  -4309,  -2027,  -6552,  -6958,  -1669,\n",
       "           -53,  -6704,  -7143,  -8713,  -2583,   -903,  -2480,    -85,\n",
       "         -1458,    -64],\n",
       "       [-36678,  -6869, -10023, -23866, -55372, -11618,  -9607, -33057,\n",
       "        -30579,   -908,  -2702, -18768, -10201, -32258, -32595,  -8343,\n",
       "          -530, -32077, -36430, -39481, -13714,  -4375, -11097,   -560,\n",
       "         -8056,   -270]])"
      ]
     },
     "execution_count": 85,
     "metadata": {},
     "output_type": "execute_result"
    }
   ],
   "source": [
    "hv_cnts - 2 * hv_cnts\n"
   ]
  },
  {
   "cell_type": "markdown",
   "metadata": {},
   "source": [
    "### PyTorch"
   ]
  },
  {
   "cell_type": "code",
   "execution_count": 86,
   "metadata": {},
   "outputs": [
    {
     "data": {
      "text/plain": [
       "tensor([[51020,  8941, 11558, 28333, 77466, 16114, 12595, 50194, 38151,  1624,\n",
       "          4413, 25311, 16648, 42194, 51270,  9104,   283, 36457, 41243, 54177,\n",
       "         18409,  6060, 15665,   597, 11908,   284],\n",
       "        [37630,  6598,  8580, 20738, 59783, 10449,  9803, 34787, 28793,   424,\n",
       "          3631, 18951, 13060, 31889, 38778,  6679,   256, 25668, 31352, 40483,\n",
       "         15406,  4803, 12989,   350, 10974,   124],\n",
       "        [ 2716,   578,   723,  1440,  4366,   846,   808,  2509,  2252,    22,\n",
       "           268,  1809,  1043,  2248,  2948,   569,    12,  2236,  2618,  2940,\n",
       "          1031,   361,  1023,    38,   906,    22],\n",
       "        [ 6841,  1619,  2017,  4027, 12112,  2424,  2150,  6988,  6038,    59,\n",
       "           782,  4309,  2027,  6552,  6958,  1669,    53,  6704,  7143,  8713,\n",
       "          2583,   903,  2480,    85,  1458,    64],\n",
       "        [36678,  6869, 10023, 23866, 55372, 11618,  9607, 33057, 30579,   908,\n",
       "          2702, 18768, 10201, 32258, 32595,  8343,   530, 32077, 36430, 39481,\n",
       "         13714,  4375, 11097,   560,  8056,   270]])"
      ]
     },
     "execution_count": 86,
     "metadata": {},
     "output_type": "execute_result"
    }
   ],
   "source": [
    "hv_cnts_pt = torch.tensor(cnt_lists)\n",
    "hv_cnts_pt\n"
   ]
  },
  {
   "cell_type": "code",
   "execution_count": 87,
   "metadata": {},
   "outputs": [
    {
     "data": {
      "text/plain": [
       "torch.int64"
      ]
     },
     "execution_count": 87,
     "metadata": {},
     "output_type": "execute_result"
    }
   ],
   "source": [
    "hv_cnts_pt.dtype\n"
   ]
  },
  {
   "cell_type": "code",
   "execution_count": 88,
   "metadata": {},
   "outputs": [
    {
     "data": {
      "text/plain": [
       "torch.Size([5, 26])"
      ]
     },
     "execution_count": 88,
     "metadata": {},
     "output_type": "execute_result"
    }
   ],
   "source": [
    "hv_cnts_pt.size()\n"
   ]
  },
  {
   "cell_type": "markdown",
   "metadata": {},
   "source": [
    "### NumPy Functions"
   ]
  },
  {
   "cell_type": "code",
   "execution_count": 89,
   "metadata": {},
   "outputs": [],
   "source": [
    "np.set_printoptions(precision=3)\n"
   ]
  },
  {
   "cell_type": "code",
   "execution_count": 90,
   "metadata": {},
   "outputs": [
    {
     "data": {
      "text/plain": [
       "array([[ 0.86 ,  1.   , -0.997, -0.52 ,  0.821, -0.717, -0.938, -0.715,\n",
       "         0.877, -0.979, -0.592, -0.688, -0.765, -0.745,  0.702,  0.944,\n",
       "         0.967, -0.378,  0.985, -0.973,  0.743, -0.991,  0.524,  0.995,\n",
       "         0.205,  0.309],\n",
       "       [ 1.   ,  0.793, -0.952, -0.94 ,  0.063,  0.998,  0.333, -0.99 ,\n",
       "        -0.954, -0.993,  0.777,  0.611, -0.921, -0.261, -0.246,  1.   ,\n",
       "        -0.04 ,  0.373,  0.458,  0.906,  0.932, -0.88 , -0.085, -0.284,\n",
       "        -0.914, -0.093],\n",
       "       [-0.093,  0.999,  0.907,  0.408,  0.687, -0.613, -0.819, -0.424,\n",
       "        -0.867, -1.   , -0.57 ,  0.849,  1.   ,  0.189,  0.375, -0.932,\n",
       "         0.844,  0.687, -0.495,  0.862,  0.849, -0.96 ,  0.4  ,  0.955,\n",
       "         0.342, -1.   ],\n",
       "       [ 0.181, -0.472,  0.995,  0.867, -0.399,  0.258,  0.408,  0.455,\n",
       "         0.99 , -0.771, -0.967,  0.301, -0.782,  0.207, -0.809, -0.686,\n",
       "        -0.918,  0.987,  0.556, -0.206,  0.819, -0.206, -0.283, -0.984,\n",
       "         0.955,  0.392],\n",
       "       [-0.996,  0.092,  0.249, -0.778, -0.141,  0.925,  1.   ,  0.397,\n",
       "         0.303, -0.997,  0.974,  0.992, -0.969,  0.992, -0.56 ,  0.48 ,\n",
       "        -0.599,  0.23 ,  0.996, -0.822, -0.583, -0.326,  0.626,  0.699,\n",
       "         0.576,  0.984]])"
      ]
     },
     "execution_count": 90,
     "metadata": {},
     "output_type": "execute_result"
    }
   ],
   "source": [
    "np.cos(hv_cnts)\n"
   ]
  },
  {
   "cell_type": "code",
   "execution_count": 91,
   "metadata": {},
   "outputs": [
    {
     "data": {
      "text/plain": [
       "1706121"
      ]
     },
     "execution_count": 91,
     "metadata": {},
     "output_type": "execute_result"
    }
   ],
   "source": [
    "np.sum(hv_cnts)\n"
   ]
  },
  {
   "cell_type": "code",
   "execution_count": 92,
   "metadata": {},
   "outputs": [
    {
     "data": {
      "text/plain": [
       "array([134885,  24605,  32901,  78404, 209099,  41451,  34963, 127535,\n",
       "       105813,   3037,  11796,  69148,  42979, 115141, 132549,  26364,\n",
       "         1134, 103142, 118786, 145794,  51143,  16502,  43254,   1630,\n",
       "        33302,    764])"
      ]
     },
     "execution_count": 92,
     "metadata": {},
     "output_type": "execute_result"
    }
   ],
   "source": [
    "np.sum(hv_cnts, axis=0)\n"
   ]
  },
  {
   "cell_type": "code",
   "execution_count": 93,
   "metadata": {},
   "outputs": [
    {
     "data": {
      "text/plain": [
       "array([630019, 472978,  36332,  96758, 470034])"
      ]
     },
     "execution_count": 93,
     "metadata": {},
     "output_type": "execute_result"
    }
   ],
   "source": [
    "np.sum(hv_cnts, axis=1)\n"
   ]
  },
  {
   "cell_type": "markdown",
   "metadata": {},
   "source": [
    "### PyTorch"
   ]
  },
  {
   "cell_type": "code",
   "execution_count": 94,
   "metadata": {},
   "outputs": [
    {
     "data": {
      "text/plain": [
       "tensor(1706121)"
      ]
     },
     "execution_count": 94,
     "metadata": {},
     "output_type": "execute_result"
    }
   ],
   "source": [
    "torch.sum(hv_cnts_pt)\n"
   ]
  },
  {
   "cell_type": "code",
   "execution_count": 95,
   "metadata": {},
   "outputs": [
    {
     "data": {
      "text/plain": [
       "tensor([134885,  24605,  32901,  78404, 209099,  41451,  34963, 127535, 105813,\n",
       "          3037,  11796,  69148,  42979, 115141, 132549,  26364,   1134, 103142,\n",
       "        118786, 145794,  51143,  16502,  43254,   1630,  33302,    764])"
      ]
     },
     "execution_count": 95,
     "metadata": {},
     "output_type": "execute_result"
    }
   ],
   "source": [
    "torch.sum(hv_cnts_pt, dim=0)  # array([ 134885,  24605,  32901, ...])\n"
   ]
  },
  {
   "cell_type": "code",
   "execution_count": 96,
   "metadata": {},
   "outputs": [
    {
     "data": {
      "text/plain": [
       "tensor([630019, 472978,  36332,  96758, 470034])"
      ]
     },
     "execution_count": 96,
     "metadata": {},
     "output_type": "execute_result"
    }
   ],
   "source": [
    "torch.sum(hv_cnts_pt, dim=1)  # array([630019, 472978,  36332,  96758, 470034])\n"
   ]
  },
  {
   "cell_type": "markdown",
   "metadata": {},
   "source": [
    "### Transposing and Reshaping Arrays"
   ]
  },
  {
   "cell_type": "code",
   "execution_count": 97,
   "metadata": {},
   "outputs": [
    {
     "data": {
      "text/plain": [
       "array([[51020, 37630,  2716,  6841, 36678],\n",
       "       [ 8941,  6598,   578,  1619,  6869],\n",
       "       [11558,  8580,   723,  2017, 10023],\n",
       "       [28333, 20738,  1440,  4027, 23866],\n",
       "       [77466, 59783,  4366, 12112, 55372],\n",
       "       [16114, 10449,   846,  2424, 11618],\n",
       "       [12595,  9803,   808,  2150,  9607],\n",
       "       [50194, 34787,  2509,  6988, 33057],\n",
       "       [38151, 28793,  2252,  6038, 30579],\n",
       "       [ 1624,   424,    22,    59,   908],\n",
       "       [ 4413,  3631,   268,   782,  2702],\n",
       "       [25311, 18951,  1809,  4309, 18768],\n",
       "       [16648, 13060,  1043,  2027, 10201],\n",
       "       [42194, 31889,  2248,  6552, 32258],\n",
       "       [51270, 38778,  2948,  6958, 32595],\n",
       "       [ 9104,  6679,   569,  1669,  8343],\n",
       "       [  283,   256,    12,    53,   530],\n",
       "       [36457, 25668,  2236,  6704, 32077],\n",
       "       [41243, 31352,  2618,  7143, 36430],\n",
       "       [54177, 40483,  2940,  8713, 39481],\n",
       "       [18409, 15406,  1031,  2583, 13714],\n",
       "       [ 6060,  4803,   361,   903,  4375],\n",
       "       [15665, 12989,  1023,  2480, 11097],\n",
       "       [  597,   350,    38,    85,   560],\n",
       "       [11908, 10974,   906,  1458,  8056],\n",
       "       [  284,   124,    22,    64,   270]])"
      ]
     },
     "execution_count": 97,
     "metadata": {},
     "output_type": "execute_result"
    }
   ],
   "source": [
    "hv_cnts.T\n"
   ]
  },
  {
   "cell_type": "code",
   "execution_count": 98,
   "metadata": {},
   "outputs": [
    {
     "data": {
      "text/plain": [
       "array([51020,  8941, 11558, 28333, 77466, 16114, 12595, 50194, 38151,\n",
       "        1624,  4413, 25311, 16648, 42194, 51270,  9104,   283, 36457,\n",
       "       41243, 54177, 18409,  6060, 15665,   597, 11908,   284])"
      ]
     },
     "execution_count": 98,
     "metadata": {},
     "output_type": "execute_result"
    }
   ],
   "source": [
    "iliad_cnt.T\n"
   ]
  },
  {
   "cell_type": "code",
   "execution_count": 99,
   "metadata": {},
   "outputs": [
    {
     "data": {
      "text/plain": [
       "array([[51020,  8941, 11558, 28333, 77466, 16114, 12595, 50194, 38151,\n",
       "         1624,  4413, 25311, 16648, 42194, 51270,  9104,   283, 36457,\n",
       "        41243, 54177, 18409,  6060, 15665,   597, 11908,   284]])"
      ]
     },
     "execution_count": 99,
     "metadata": {},
     "output_type": "execute_result"
    }
   ],
   "source": [
    "np.array([iliad_cnt])\n"
   ]
  },
  {
   "cell_type": "code",
   "execution_count": 100,
   "metadata": {},
   "outputs": [
    {
     "data": {
      "text/plain": [
       "(1, 26)"
      ]
     },
     "execution_count": 100,
     "metadata": {},
     "output_type": "execute_result"
    }
   ],
   "source": [
    "np.array([iliad_cnt]).shape\n"
   ]
  },
  {
   "cell_type": "code",
   "execution_count": 101,
   "metadata": {},
   "outputs": [
    {
     "data": {
      "text/plain": [
       "array([[51020],\n",
       "       [ 8941],\n",
       "       [11558],\n",
       "       [28333],\n",
       "       [77466],\n",
       "       [16114],\n",
       "       [12595],\n",
       "       [50194],\n",
       "       [38151],\n",
       "       [ 1624],\n",
       "       [ 4413],\n",
       "       [25311],\n",
       "       [16648],\n",
       "       [42194],\n",
       "       [51270],\n",
       "       [ 9104],\n",
       "       [  283],\n",
       "       [36457],\n",
       "       [41243],\n",
       "       [54177],\n",
       "       [18409],\n",
       "       [ 6060],\n",
       "       [15665],\n",
       "       [  597],\n",
       "       [11908],\n",
       "       [  284]])"
      ]
     },
     "execution_count": 101,
     "metadata": {},
     "output_type": "execute_result"
    }
   ],
   "source": [
    "np.array([iliad_cnt]).T\n"
   ]
  },
  {
   "cell_type": "code",
   "execution_count": 102,
   "metadata": {},
   "outputs": [
    {
     "data": {
      "text/plain": [
       "array([[51020,  8941, 11558, 28333, 77466, 16114, 12595, 50194, 38151,\n",
       "         1624,  4413, 25311, 16648, 42194, 51270,  9104,   283, 36457,\n",
       "        41243, 54177, 18409,  6060, 15665,   597, 11908,   284]])"
      ]
     },
     "execution_count": 102,
     "metadata": {},
     "output_type": "execute_result"
    }
   ],
   "source": [
    "iliad_cnt.reshape(1, -1)\n"
   ]
  },
  {
   "cell_type": "code",
   "execution_count": 103,
   "metadata": {},
   "outputs": [
    {
     "data": {
      "text/plain": [
       "array([[51020],\n",
       "       [ 8941],\n",
       "       [11558],\n",
       "       [28333],\n",
       "       [77466],\n",
       "       [16114],\n",
       "       [12595],\n",
       "       [50194],\n",
       "       [38151],\n",
       "       [ 1624],\n",
       "       [ 4413],\n",
       "       [25311],\n",
       "       [16648],\n",
       "       [42194],\n",
       "       [51270],\n",
       "       [ 9104],\n",
       "       [  283],\n",
       "       [36457],\n",
       "       [41243],\n",
       "       [54177],\n",
       "       [18409],\n",
       "       [ 6060],\n",
       "       [15665],\n",
       "       [  597],\n",
       "       [11908],\n",
       "       [  284]])"
      ]
     },
     "execution_count": 103,
     "metadata": {},
     "output_type": "execute_result"
    }
   ],
   "source": [
    "iliad_cnt.reshape(-1, 1)\n"
   ]
  },
  {
   "cell_type": "code",
   "execution_count": 104,
   "metadata": {},
   "outputs": [
    {
     "data": {
      "text/plain": [
       "tensor([[1],\n",
       "        [2],\n",
       "        [3]])"
      ]
     },
     "execution_count": 104,
     "metadata": {},
     "output_type": "execute_result"
    }
   ],
   "source": [
    "torch.unsqueeze(torch.tensor([1, 2, 3]), 1)\n"
   ]
  },
  {
   "cell_type": "markdown",
   "metadata": {},
   "source": [
    "### Broadcasting"
   ]
  },
  {
   "cell_type": "markdown",
   "metadata": {},
   "source": [
    "Relative frequencies of the letter counts"
   ]
  },
  {
   "cell_type": "code",
   "execution_count": 105,
   "metadata": {},
   "outputs": [],
   "source": [
    "iliad_dist = (1/np.sum(iliad_cnt)) * iliad_cnt\n",
    "odyssey_dist = (1/np.sum(odyssey_cnt)) * odyssey_cnt\n"
   ]
  },
  {
   "cell_type": "code",
   "execution_count": 106,
   "metadata": {},
   "outputs": [
    {
     "data": {
      "text/plain": [
       "array([0.081, 0.014, 0.018, 0.045, 0.123, 0.026, 0.02 , 0.08 , 0.061,\n",
       "       0.003, 0.007, 0.04 , 0.026, 0.067, 0.081, 0.014, 0.   , 0.058,\n",
       "       0.065, 0.086, 0.029, 0.01 , 0.025, 0.001, 0.019, 0.   ])"
      ]
     },
     "execution_count": 106,
     "metadata": {},
     "output_type": "execute_result"
    }
   ],
   "source": [
    "iliad_cnt / np.sum(iliad_cnt)\n"
   ]
  },
  {
   "cell_type": "code",
   "execution_count": 107,
   "metadata": {},
   "outputs": [
    {
     "data": {
      "text/plain": [
       "array([0.08 , 0.014, 0.018, 0.044, 0.126, 0.022, 0.021, 0.074, 0.061,\n",
       "       0.001, 0.008, 0.04 , 0.028, 0.067, 0.082, 0.014, 0.001, 0.054,\n",
       "       0.066, 0.086, 0.033, 0.01 , 0.027, 0.001, 0.023, 0.   ])"
      ]
     },
     "execution_count": 107,
     "metadata": {},
     "output_type": "execute_result"
    }
   ],
   "source": [
    "odyssey_cnt / np.sum(odyssey_cnt)\n"
   ]
  },
  {
   "cell_type": "markdown",
   "metadata": {},
   "source": [
    "We can apply an elementwise multiplication or division"
   ]
  },
  {
   "cell_type": "code",
   "execution_count": 108,
   "metadata": {},
   "outputs": [
    {
     "data": {
      "text/plain": [
       "array([[630019],\n",
       "       [472978],\n",
       "       [ 36332],\n",
       "       [ 96758],\n",
       "       [470034]])"
      ]
     },
     "execution_count": 108,
     "metadata": {},
     "output_type": "execute_result"
    }
   ],
   "source": [
    "np.array([np.sum(hv_cnts, axis=1)]).T\n"
   ]
  },
  {
   "cell_type": "code",
   "execution_count": 109,
   "metadata": {},
   "outputs": [
    {
     "data": {
      "text/plain": [
       "array([[0.081, 0.014, 0.018, 0.045, 0.123, 0.026, 0.02 , 0.08 , 0.061,\n",
       "        0.003, 0.007, 0.04 , 0.026, 0.067, 0.081, 0.014, 0.   , 0.058,\n",
       "        0.065, 0.086, 0.029, 0.01 , 0.025, 0.001, 0.019, 0.   ],\n",
       "       [0.08 , 0.014, 0.018, 0.044, 0.126, 0.022, 0.021, 0.074, 0.061,\n",
       "        0.001, 0.008, 0.04 , 0.028, 0.067, 0.082, 0.014, 0.001, 0.054,\n",
       "        0.066, 0.086, 0.033, 0.01 , 0.027, 0.001, 0.023, 0.   ],\n",
       "       [0.075, 0.016, 0.02 , 0.04 , 0.12 , 0.023, 0.022, 0.069, 0.062,\n",
       "        0.001, 0.007, 0.05 , 0.029, 0.062, 0.081, 0.016, 0.   , 0.062,\n",
       "        0.072, 0.081, 0.028, 0.01 , 0.028, 0.001, 0.025, 0.001],\n",
       "       [0.071, 0.017, 0.021, 0.042, 0.125, 0.025, 0.022, 0.072, 0.062,\n",
       "        0.001, 0.008, 0.045, 0.021, 0.068, 0.072, 0.017, 0.001, 0.069,\n",
       "        0.074, 0.09 , 0.027, 0.009, 0.026, 0.001, 0.015, 0.001],\n",
       "       [0.078, 0.015, 0.021, 0.051, 0.118, 0.025, 0.02 , 0.07 , 0.065,\n",
       "        0.002, 0.006, 0.04 , 0.022, 0.069, 0.069, 0.018, 0.001, 0.068,\n",
       "        0.078, 0.084, 0.029, 0.009, 0.024, 0.001, 0.017, 0.001]])"
      ]
     },
     "execution_count": 109,
     "metadata": {},
     "output_type": "execute_result"
    }
   ],
   "source": [
    "hv_dist = hv_cnts / np.array([np.sum(hv_cnts, axis=1)]).T\n",
    "hv_dist\n"
   ]
  },
  {
   "cell_type": "markdown",
   "metadata": {},
   "source": [
    "The Hadamard product"
   ]
  },
  {
   "cell_type": "code",
   "execution_count": 110,
   "metadata": {},
   "outputs": [
    {
     "data": {
      "text/plain": [
       "array([[6.558e-03, 2.014e-04, 3.366e-04, 2.022e-03, 1.512e-02, 6.542e-04,\n",
       "        3.997e-04, 6.347e-03, 3.667e-03, 6.645e-06, 4.906e-05, 1.614e-03,\n",
       "        6.983e-04, 4.485e-03, 6.622e-03, 2.088e-04, 2.018e-07, 3.349e-03,\n",
       "        4.285e-03, 7.395e-03, 8.538e-04, 9.252e-05, 6.182e-04, 8.979e-07,\n",
       "        3.572e-04, 2.032e-07],\n",
       "       [6.330e-03, 1.946e-04, 3.291e-04, 1.922e-03, 1.598e-02, 4.881e-04,\n",
       "        4.296e-04, 5.409e-03, 3.706e-03, 8.036e-07, 5.893e-05, 1.605e-03,\n",
       "        7.624e-04, 4.546e-03, 6.722e-03, 1.994e-04, 2.930e-07, 2.945e-03,\n",
       "        4.394e-03, 7.326e-03, 1.061e-03, 1.031e-04, 7.542e-04, 5.476e-07,\n",
       "        5.383e-04, 6.873e-08],\n",
       "       [5.588e-03, 2.531e-04, 3.960e-04, 1.571e-03, 1.444e-02, 5.422e-04,\n",
       "        4.946e-04, 4.769e-03, 3.842e-03, 3.667e-07, 5.441e-05, 2.479e-03,\n",
       "        8.241e-04, 3.828e-03, 6.584e-03, 2.453e-04, 1.091e-07, 3.788e-03,\n",
       "        5.192e-03, 6.548e-03, 8.053e-04, 9.873e-05, 7.928e-04, 1.094e-06,\n",
       "        6.218e-04, 3.667e-07],\n",
       "       [4.999e-03, 2.800e-04, 4.345e-04, 1.732e-03, 1.567e-02, 6.276e-04,\n",
       "        4.937e-04, 5.216e-03, 3.894e-03, 3.718e-07, 6.532e-05, 1.983e-03,\n",
       "        4.389e-04, 4.585e-03, 5.171e-03, 2.975e-04, 3.000e-07, 4.801e-03,\n",
       "        5.450e-03, 8.109e-03, 7.126e-04, 8.710e-05, 6.569e-04, 7.717e-07,\n",
       "        2.271e-04, 4.375e-07],\n",
       "       [6.089e-03, 2.136e-04, 4.547e-04, 2.578e-03, 1.388e-02, 6.109e-04,\n",
       "        4.178e-04, 4.946e-03, 4.232e-03, 3.732e-06, 3.305e-05, 1.594e-03,\n",
       "        4.710e-04, 4.710e-03, 4.809e-03, 3.151e-04, 1.271e-06, 4.657e-03,\n",
       "        6.007e-03, 7.055e-03, 8.513e-04, 8.664e-05, 5.574e-04, 1.419e-06,\n",
       "        2.938e-04, 3.300e-07]])"
      ]
     },
     "execution_count": 110,
     "metadata": {},
     "output_type": "execute_result"
    }
   ],
   "source": [
    "hv_dist * hv_dist\n"
   ]
  },
  {
   "cell_type": "markdown",
   "metadata": {},
   "source": [
    "## Matrix Products"
   ]
  },
  {
   "cell_type": "markdown",
   "metadata": {},
   "source": [
    "### Matrix-Vector Multiplication"
   ]
  },
  {
   "cell_type": "markdown",
   "metadata": {},
   "source": [
    "The product of a matrix  ${X}$ by a vector $\\mathbf{y}$, ${X}\\mathbf{y}$, is a sequence of dot products between the matrix rows and the vector resulting in a column vector:\n",
    "$$\n",
    "{X}\\mathbf{y} = \n",
    "\\begin{bmatrix*}\n",
    "{X}_{1 .} \\cdot \\mathbf{y} \\\\\n",
    "{X}_{2 .} \\cdot \\mathbf{y} \\\\\n",
    "...\\\\\n",
    "{X}_{n .} \\cdot \\mathbf{y} \\\\\n",
    "\\end{bmatrix*},\n",
    "$$\n",
    "where ${X}_{i .}$ denotes the $i^\\text{th}$ row of matrix ${X}$. If ${X}$ consists of only one row, we have a matrix product of a row vector by a column vector, which is equivalent to a dot product:\n",
    "$$\n",
    "\\mathbf{x} \\cdot \\mathbf{y} =\n",
    "\\begin{bmatrix*}\n",
    "x_1,&x_2,& ...& x_n\\\\\n",
    "\\end{bmatrix*}\n",
    "\\begin{bmatrix*}\n",
    "y_1\\\\\n",
    "y_2\\\\ \n",
    "...\\\\\n",
    "y_n\\\\\n",
    "\\end{bmatrix*}\n",
    "= \\sum_{i = 1}^n x_i y_i.\n",
    "$$"
   ]
  },
  {
   "cell_type": "code",
   "execution_count": 111,
   "metadata": {},
   "outputs": [
    {
     "data": {
      "text/plain": [
       "array([0.066])"
      ]
     },
     "execution_count": 111,
     "metadata": {},
     "output_type": "execute_result"
    }
   ],
   "source": [
    "hv_dist[0, :].reshape(1, -1) @ hv_dist[1, :]\n"
   ]
  },
  {
   "cell_type": "code",
   "execution_count": 112,
   "metadata": {},
   "outputs": [
    {
     "data": {
      "text/plain": [
       "0.06581109734214702"
      ]
     },
     "execution_count": 112,
     "metadata": {},
     "output_type": "execute_result"
    }
   ],
   "source": [
    "np.dot(hv_dist[0, :], hv_dist[1, :])\n"
   ]
  },
  {
   "cell_type": "code",
   "execution_count": 113,
   "metadata": {},
   "outputs": [
    {
     "data": {
      "text/plain": [
       "0.06581109734214702"
      ]
     },
     "execution_count": 113,
     "metadata": {},
     "output_type": "execute_result"
    }
   ],
   "source": [
    "hv_dist[0, :] @ hv_dist[1, :]\n"
   ]
  },
  {
   "cell_type": "markdown",
   "metadata": {},
   "source": [
    "### Document Cosines"
   ]
  },
  {
   "cell_type": "markdown",
   "metadata": {},
   "source": [
    "We will now compute the cosine of all the pairs of vectors representing the works in the `hv_dist` matrix, _i.e._ the rows of the matrix. For this, we will first compute the dot products of all the pairs, $\\mathbf{u} \\cdot \\mathbf{v}$, then the norms $||\\mathbf{u}||$ and  $||\\mathbf{v}||$, the products of the norms, $||\\mathbf{u}|| \\cdot||\\mathbf{v}||$, and finally the cosines, $\\displaystyle{\\frac{\\mathbf{u} \\cdot \\mathbf{v}}{||\\mathbf{u}|| \\cdot||\\mathbf{v}||}}$."
   ]
  },
  {
   "cell_type": "markdown",
   "metadata": {},
   "source": [
    "The dot product, $\\mathbf{u} \\cdot \\mathbf{v}$, of all the rows of a matrix $\\mathbf{X}$ is simply $\\mathbf{X} \\mathbf{X}^\\intercal$:"
   ]
  },
  {
   "cell_type": "code",
   "execution_count": 114,
   "metadata": {},
   "outputs": [
    {
     "data": {
      "text/plain": [
       "array([[0.066, 0.066, 0.065, 0.066, 0.065],\n",
       "       [0.066, 0.066, 0.065, 0.066, 0.065],\n",
       "       [0.065, 0.065, 0.064, 0.065, 0.064],\n",
       "       [0.066, 0.066, 0.065, 0.066, 0.065],\n",
       "       [0.065, 0.065, 0.064, 0.065, 0.065]])"
      ]
     },
     "execution_count": 114,
     "metadata": {},
     "output_type": "execute_result"
    }
   ],
   "source": [
    "hv_dot = hv_dist @ hv_dist.T\n",
    "hv_dot\n"
   ]
  },
  {
   "cell_type": "markdown",
   "metadata": {},
   "source": [
    "For the vector noms, $||\\mathbf{u}||$ and  $||\\mathbf{v}||$, we can use `np.linalg.norm()`. Here we will break down the computation with elementary operations. We will apply the Hadamard product to have the square of the coordinates, then sum along the rows, and finally extract the square root:"
   ]
  },
  {
   "cell_type": "code",
   "execution_count": 115,
   "metadata": {},
   "outputs": [
    {
     "data": {
      "text/plain": [
       "array([0.257, 0.257, 0.253, 0.257, 0.255])"
      ]
     },
     "execution_count": 115,
     "metadata": {},
     "output_type": "execute_result"
    }
   ],
   "source": [
    "hv_norm = np.sqrt(np.sum(hv_dist * hv_dist, axis=1))\n",
    "hv_norm\n"
   ]
  },
  {
   "cell_type": "markdown",
   "metadata": {},
   "source": [
    "We compute the product of the norms, $||\\mathbf{u}|| \\cdot||\\mathbf{v}||$, as a matrix product of a column vector by a row vector as with:\n",
    "$$\n",
    "\\begin{bmatrix*}\n",
    "x_1\\\\\n",
    "x_2\\\\\n",
    " ...\\\\\n",
    " x_n\\\\\n",
    "\\end{bmatrix*}\n",
    "\\begin{bmatrix*}\n",
    "y_1, y_2, ..., y_n\\\\\n",
    "\\end{bmatrix*}\n",
    "=\n",
    "\\begin{bmatrix*}\n",
    "x_1 y_1& x_1 y_2&...&x_1 y_n\\\\\n",
    "x_2 y_1& x_2 y_1&...&x_2 y_n\\\\\n",
    " ...\\\\\n",
    " x_ny_1& x_n y_2&...&x_n y_n \\\\\n",
    "\\end{bmatrix*}. \n",
    "$$\n"
   ]
  },
  {
   "cell_type": "code",
   "execution_count": 116,
   "metadata": {},
   "outputs": [
    {
     "data": {
      "text/plain": [
       "array([[0.066, 0.066, 0.065, 0.066, 0.065],\n",
       "       [0.066, 0.066, 0.065, 0.066, 0.065],\n",
       "       [0.065, 0.065, 0.064, 0.065, 0.064],\n",
       "       [0.066, 0.066, 0.065, 0.066, 0.065],\n",
       "       [0.065, 0.065, 0.064, 0.065, 0.065]])"
      ]
     },
     "execution_count": 116,
     "metadata": {},
     "output_type": "execute_result"
    }
   ],
   "source": [
    "hv_norm_pairs = hv_norm.reshape(-1, 1) @ hv_norm.reshape(1, -1)\n",
    "hv_norm_pairs\n"
   ]
  },
  {
   "cell_type": "markdown",
   "metadata": {},
   "source": [
    "We now nearly done with the cosine. We only need to divide the matrix elements by the norm products, $\\displaystyle{\\frac{\\mathbf{u} \\cdot \\mathbf{v}}{||\\mathbf{u}|| \\cdot||\\mathbf{v}||}}$"
   ]
  },
  {
   "cell_type": "code",
   "execution_count": 117,
   "metadata": {},
   "outputs": [
    {
     "data": {
      "text/plain": [
       "array([[1.   , 0.999, 0.997, 0.996, 0.995],\n",
       "       [0.999, 1.   , 0.997, 0.995, 0.994],\n",
       "       [0.997, 0.997, 1.   , 0.996, 0.995],\n",
       "       [0.996, 0.995, 0.996, 1.   , 0.998],\n",
       "       [0.995, 0.994, 0.995, 0.998, 1.   ]])"
      ]
     },
     "execution_count": 117,
     "metadata": {},
     "output_type": "execute_result"
    }
   ],
   "source": [
    "hv_cos = hv_dot / hv_norm_pairs\n",
    "hv_cos\n"
   ]
  },
  {
   "cell_type": "markdown",
   "metadata": {},
   "source": [
    "## Elementary Mathematical Background for Matrices"
   ]
  },
  {
   "cell_type": "code",
   "execution_count": 118,
   "metadata": {},
   "outputs": [
    {
     "data": {
      "text/plain": [
       "array([17, 39])"
      ]
     },
     "execution_count": 118,
     "metadata": {},
     "output_type": "execute_result"
    }
   ],
   "source": [
    "A = np.array([[1, 2],\n",
    "              [3, 4]])\n",
    "A @ np.array([5, 6])\n"
   ]
  },
  {
   "cell_type": "markdown",
   "metadata": {},
   "source": [
    "### Matrices and Rotations"
   ]
  },
  {
   "cell_type": "markdown",
   "metadata": {},
   "source": [
    "To finish this notebook, we will have a look at vector rotation. From algebra courses, we know that we can use a matrix to compute a rotation of angle $\\theta$. For a two-dimensional vector, the rotation matrix is:\n",
    "$$\n",
    "{R}_{\\theta} =\n",
    "\\begin{bmatrix*}\n",
    "\\cos \\theta &-\\sin \\theta \\\\\n",
    "\\sin \\theta & \\cos \\theta \\\\\n",
    "\\end{bmatrix*}.\n",
    "$$"
   ]
  },
  {
   "cell_type": "code",
   "execution_count": 119,
   "metadata": {},
   "outputs": [
    {
     "data": {
      "text/plain": [
       "array([[ 0.707, -0.707],\n",
       "       [ 0.707,  0.707]])"
      ]
     },
     "execution_count": 119,
     "metadata": {},
     "output_type": "execute_result"
    }
   ],
   "source": [
    "theta_45 = np.pi/4\n",
    "rot_mat_45 = np.array([[np.cos(theta_45), -np.sin(theta_45)],\n",
    "                       [np.sin(theta_45), np.cos(theta_45)]])\n",
    "rot_mat_45\n"
   ]
  },
  {
   "cell_type": "markdown",
   "metadata": {},
   "source": [
    "we rotate vector (1, 1) by this angle"
   ]
  },
  {
   "cell_type": "code",
   "execution_count": 120,
   "metadata": {},
   "outputs": [
    {
     "data": {
      "text/plain": [
       "array([0.   , 1.414])"
      ]
     },
     "execution_count": 120,
     "metadata": {},
     "output_type": "execute_result"
    }
   ],
   "source": [
    "rot_mat_45 @ np.array([1, 1])\n"
   ]
  },
  {
   "cell_type": "markdown",
   "metadata": {},
   "source": [
    "The matrix of a sequence of rotations, for instance a rotation of $\\pi/6$ followed by a rotation of $\\pi/4$, is simply the matrix product of the individual rotations ${R}_{{\\theta}_1} {R}_{{\\theta}_2}  = {R}_{{\\theta}_1 + {\\theta}_2}$, here ${R}_{\\pi/4} {R}_{\\pi/6}  = {R}_{5\\pi/12}$. "
   ]
  },
  {
   "cell_type": "code",
   "execution_count": 121,
   "metadata": {},
   "outputs": [
    {
     "data": {
      "text/plain": [
       "array([[ 0.866, -0.5  ],\n",
       "       [ 0.5  ,  0.866]])"
      ]
     },
     "execution_count": 121,
     "metadata": {},
     "output_type": "execute_result"
    }
   ],
   "source": [
    "theta_30 = np.pi/6\n",
    "rot_mat_30 = np.array([[np.cos(theta_30), -np.sin(theta_30)],\n",
    "                       [np.sin(theta_30), np.cos(theta_30)]])\n",
    "rot_mat_30\n"
   ]
  },
  {
   "cell_type": "markdown",
   "metadata": {},
   "source": [
    "rot_mat_30 @ rot_mat_45\n"
   ]
  },
  {
   "cell_type": "code",
   "execution_count": 122,
   "metadata": {},
   "outputs": [
    {
     "data": {
      "text/plain": [
       "array([[ 0.259, -0.966],\n",
       "       [ 0.966,  0.259]])"
      ]
     },
     "execution_count": 122,
     "metadata": {},
     "output_type": "execute_result"
    }
   ],
   "source": [
    "rot_mat_45 @ rot_mat_30\n"
   ]
  },
  {
   "cell_type": "code",
   "execution_count": 123,
   "metadata": {},
   "outputs": [
    {
     "data": {
      "text/plain": [
       "1.3089969339255036"
      ]
     },
     "execution_count": 123,
     "metadata": {},
     "output_type": "execute_result"
    }
   ],
   "source": [
    "np.arccos(0.25881905)\n"
   ]
  },
  {
   "cell_type": "code",
   "execution_count": 124,
   "metadata": {},
   "outputs": [
    {
     "data": {
      "text/plain": [
       "1.308996938995747"
      ]
     },
     "execution_count": 124,
     "metadata": {},
     "output_type": "execute_result"
    }
   ],
   "source": [
    "np.pi/4 + np.pi/6\n"
   ]
  },
  {
   "cell_type": "markdown",
   "metadata": {},
   "source": [
    "### Inverting a Matrix"
   ]
  },
  {
   "cell_type": "code",
   "execution_count": 125,
   "metadata": {},
   "outputs": [
    {
     "data": {
      "text/plain": [
       "array([[ 0.866,  0.5  ],\n",
       "       [-0.5  ,  0.866]])"
      ]
     },
     "execution_count": 125,
     "metadata": {},
     "output_type": "execute_result"
    }
   ],
   "source": [
    "np.linalg.inv(rot_mat_30)\n"
   ]
  },
  {
   "cell_type": "code",
   "execution_count": 126,
   "metadata": {},
   "outputs": [
    {
     "data": {
      "text/plain": [
       "array([[1.000e+00, 7.437e-18],\n",
       "       [6.295e-17, 1.000e+00]])"
      ]
     },
     "execution_count": 126,
     "metadata": {},
     "output_type": "execute_result"
    }
   ],
   "source": [
    "np.linalg.inv(rot_mat_30) @ rot_mat_30\n"
   ]
  },
  {
   "cell_type": "code",
   "execution_count": 127,
   "metadata": {},
   "outputs": [
    {
     "ename": "RuntimeError",
     "evalue": "Calling torch.linalg.lu_factor on a CPU tensor requires compiling PyTorch with LAPACK. Please use PyTorch built with LAPACK support.",
     "output_type": "error",
     "traceback": [
      "\u001b[1;31m---------------------------------------------------------------------------\u001b[0m",
      "\u001b[1;31mRuntimeError\u001b[0m                              Traceback (most recent call last)",
      "Cell \u001b[1;32mIn[127], line 1\u001b[0m\n\u001b[1;32m----> 1\u001b[0m torch\u001b[39m.\u001b[39;49minverse(torch\u001b[39m.\u001b[39;49mfrom_numpy(rot_mat_30))\n",
      "\u001b[1;31mRuntimeError\u001b[0m: Calling torch.linalg.lu_factor on a CPU tensor requires compiling PyTorch with LAPACK. Please use PyTorch built with LAPACK support."
     ]
    }
   ],
   "source": [
    "torch.inverse(torch.from_numpy(rot_mat_30))\n"
   ]
  },
  {
   "cell_type": "code",
   "execution_count": 128,
   "metadata": {},
   "outputs": [
    {
     "ename": "RuntimeError",
     "evalue": "Calling torch.linalg.lu_factor on a CPU tensor requires compiling PyTorch with LAPACK. Please use PyTorch built with LAPACK support.",
     "output_type": "error",
     "traceback": [
      "\u001b[1;31m---------------------------------------------------------------------------\u001b[0m",
      "\u001b[1;31mRuntimeError\u001b[0m                              Traceback (most recent call last)",
      "Cell \u001b[1;32mIn[128], line 1\u001b[0m\n\u001b[1;32m----> 1\u001b[0m torch\u001b[39m.\u001b[39;49minverse(torch\u001b[39m.\u001b[39;49mfrom_numpy(rot_mat_30)) \u001b[39m@\u001b[39m torch\u001b[39m.\u001b[39mfrom_numpy(rot_mat_30)\n",
      "\u001b[1;31mRuntimeError\u001b[0m: Calling torch.linalg.lu_factor on a CPU tensor requires compiling PyTorch with LAPACK. Please use PyTorch built with LAPACK support."
     ]
    }
   ],
   "source": [
    "torch.inverse(torch.from_numpy(rot_mat_30)) @ torch.from_numpy(rot_mat_30)\n"
   ]
  },
  {
   "cell_type": "markdown",
   "metadata": {},
   "source": [
    "## Application to Neural Netwoks"
   ]
  },
  {
   "cell_type": "markdown",
   "metadata": {},
   "source": [
    "### PyTorch"
   ]
  },
  {
   "cell_type": "code",
   "execution_count": 129,
   "metadata": {},
   "outputs": [],
   "source": [
    "layer1 = torch.nn.Linear(3, 4, bias=False)\n"
   ]
  },
  {
   "cell_type": "code",
   "execution_count": 130,
   "metadata": {},
   "outputs": [
    {
     "data": {
      "text/plain": [
       "Parameter containing:\n",
       "tensor([[-0.4324,  0.0435,  0.1806],\n",
       "        [-0.5352,  0.0966,  0.2330],\n",
       "        [-0.2231,  0.5196, -0.0784],\n",
       "        [-0.2372,  0.1172, -0.3739]], requires_grad=True)"
      ]
     },
     "execution_count": 130,
     "metadata": {},
     "output_type": "execute_result"
    }
   ],
   "source": [
    "layer1.weight\n"
   ]
  },
  {
   "cell_type": "code",
   "execution_count": 131,
   "metadata": {},
   "outputs": [],
   "source": [
    "x = torch.tensor([1.0, 2.0, 3.0])\n"
   ]
  },
  {
   "cell_type": "code",
   "execution_count": 132,
   "metadata": {},
   "outputs": [
    {
     "data": {
      "text/plain": [
       "tensor([ 0.1963,  0.3571,  0.5810, -1.1245], grad_fn=<SqueezeBackward4>)"
      ]
     },
     "execution_count": 132,
     "metadata": {},
     "output_type": "execute_result"
    }
   ],
   "source": [
    "layer1(x)\n"
   ]
  },
  {
   "cell_type": "code",
   "execution_count": 133,
   "metadata": {},
   "outputs": [
    {
     "data": {
      "text/plain": [
       "tensor([ 0.1963,  0.3571,  0.5810, -1.1245], grad_fn=<MvBackward0>)"
      ]
     },
     "execution_count": 133,
     "metadata": {},
     "output_type": "execute_result"
    }
   ],
   "source": [
    "layer1.weight @ x\n"
   ]
  },
  {
   "cell_type": "markdown",
   "metadata": {},
   "source": [
    "Or see: https://pytorch.org/docs/stable/generated/torch.nn.Linear.html"
   ]
  },
  {
   "cell_type": "code",
   "execution_count": 134,
   "metadata": {},
   "outputs": [
    {
     "data": {
      "text/plain": [
       "tensor([ 0.1963,  0.3571,  0.5810, -1.1245], grad_fn=<SqueezeBackward4>)"
      ]
     },
     "execution_count": 134,
     "metadata": {},
     "output_type": "execute_result"
    }
   ],
   "source": [
    "x @ layer1.weight.T\n"
   ]
  },
  {
   "cell_type": "markdown",
   "metadata": {},
   "source": [
    "### More Layers"
   ]
  },
  {
   "cell_type": "code",
   "execution_count": 135,
   "metadata": {},
   "outputs": [],
   "source": [
    "layer1 = torch.nn.Linear(3, 4, bias=False)\n",
    "layer2 = torch.nn.Linear(4, 2, bias=False)\n",
    "layer3 = torch.nn.Linear(2, 1, bias=False)\n"
   ]
  },
  {
   "cell_type": "code",
   "execution_count": 136,
   "metadata": {},
   "outputs": [
    {
     "data": {
      "text/plain": [
       "(Parameter containing:\n",
       " tensor([[ 0.5711, -0.2106,  0.5642],\n",
       "         [-0.1257,  0.3728, -0.4489],\n",
       "         [-0.1961, -0.0592, -0.0630],\n",
       "         [-0.4868,  0.2738,  0.5165]], requires_grad=True),\n",
       " Parameter containing:\n",
       " tensor([[ 0.3872,  0.2588,  0.3612, -0.1009],\n",
       "         [ 0.2428, -0.2557, -0.2185, -0.2425]], requires_grad=True),\n",
       " Parameter containing:\n",
       " tensor([[-0.7031, -0.4677]], requires_grad=True))"
      ]
     },
     "execution_count": 136,
     "metadata": {},
     "output_type": "execute_result"
    }
   ],
   "source": [
    "(layer1.weight, layer2.weight, layer3.weight)\n"
   ]
  },
  {
   "cell_type": "code",
   "execution_count": 137,
   "metadata": {},
   "outputs": [
    {
     "data": {
      "text/plain": [
       "tensor([-0.2923], grad_fn=<SqueezeBackward4>)"
      ]
     },
     "execution_count": 137,
     "metadata": {},
     "output_type": "execute_result"
    }
   ],
   "source": [
    "layer3(layer2(layer1(x)))\n"
   ]
  },
  {
   "cell_type": "code",
   "execution_count": 138,
   "metadata": {},
   "outputs": [
    {
     "data": {
      "text/plain": [
       "tensor([-0.2923], grad_fn=<SqueezeBackward4>)"
      ]
     },
     "execution_count": 138,
     "metadata": {},
     "output_type": "execute_result"
    }
   ],
   "source": [
    "x @ layer1.weight.T @ layer2.weight.T @ layer3.weight.T\n"
   ]
  },
  {
   "cell_type": "code",
   "execution_count": null,
   "metadata": {},
   "outputs": [],
   "source": []
  },
  {
   "cell_type": "markdown",
   "metadata": {},
   "source": [
    "## Automatic Differentiation"
   ]
  },
  {
   "cell_type": "markdown",
   "metadata": {},
   "source": [
    "A 3D curve:\n",
    "$$\n",
    "z = x^2 + xy + y^2\n",
    "$$\n",
    "Its gradient:\n",
    "$$\n",
    "\\begin{array}{lcl}\n",
    "\\frac{\\partial z}{\\partial x} &=& 2x + y\\\\\n",
    "\\frac{\\partial z}{\\partial y} &=& x + 2y\\\\\n",
    "\\end{array}\n",
    "$$"
   ]
  },
  {
   "cell_type": "code",
   "execution_count": 139,
   "metadata": {},
   "outputs": [],
   "source": [
    "def f(x, y):\n",
    "    return x**2 + x * y + y**2\n"
   ]
  },
  {
   "cell_type": "code",
   "execution_count": 140,
   "metadata": {},
   "outputs": [],
   "source": [
    "xt = torch.tensor(3.0, requires_grad=True)\n",
    "yt = torch.tensor(4.0, requires_grad=True)\n"
   ]
  },
  {
   "cell_type": "code",
   "execution_count": 141,
   "metadata": {},
   "outputs": [
    {
     "data": {
      "text/plain": [
       "tensor(37., grad_fn=<AddBackward0>)"
      ]
     },
     "execution_count": 141,
     "metadata": {},
     "output_type": "execute_result"
    }
   ],
   "source": [
    "zt = f(xt, yt)\n",
    "zt\n"
   ]
  },
  {
   "cell_type": "code",
   "execution_count": 142,
   "metadata": {},
   "outputs": [],
   "source": [
    "zt.backward()\n"
   ]
  },
  {
   "cell_type": "code",
   "execution_count": 143,
   "metadata": {},
   "outputs": [
    {
     "data": {
      "text/plain": [
       "tensor(37., grad_fn=<AddBackward0>)"
      ]
     },
     "execution_count": 143,
     "metadata": {},
     "output_type": "execute_result"
    }
   ],
   "source": [
    "zt\n"
   ]
  },
  {
   "cell_type": "code",
   "execution_count": 144,
   "metadata": {},
   "outputs": [
    {
     "data": {
      "text/plain": [
       "<AddBackward0 at 0x1bd19481a30>"
      ]
     },
     "execution_count": 144,
     "metadata": {},
     "output_type": "execute_result"
    }
   ],
   "source": [
    "zt.grad_fn\n"
   ]
  },
  {
   "cell_type": "code",
   "execution_count": 145,
   "metadata": {},
   "outputs": [
    {
     "data": {
      "text/plain": [
       "((<AddBackward0 at 0x1bd1956d1c0>, 0), (<PowBackward0 at 0x1bd1956daf0>, 0))"
      ]
     },
     "execution_count": 145,
     "metadata": {},
     "output_type": "execute_result"
    }
   ],
   "source": [
    "zt.grad_fn.next_functions\n"
   ]
  },
  {
   "cell_type": "code",
   "execution_count": 146,
   "metadata": {},
   "outputs": [
    {
     "data": {
      "text/plain": [
       "((<PowBackward0 at 0x1bd1956dc10>, 0), (<MulBackward0 at 0x1bd1956d5e0>, 0))"
      ]
     },
     "execution_count": 146,
     "metadata": {},
     "output_type": "execute_result"
    }
   ],
   "source": [
    "zt.grad_fn.next_functions[0][0].next_functions\n"
   ]
  },
  {
   "cell_type": "code",
   "execution_count": 147,
   "metadata": {},
   "outputs": [
    {
     "data": {
      "text/plain": [
       "((<AccumulateGrad at 0x1bd1956d700>, 0),)"
      ]
     },
     "execution_count": 147,
     "metadata": {},
     "output_type": "execute_result"
    }
   ],
   "source": [
    "zt.grad_fn.next_functions[0][0].next_functions[0][0].next_functions\n"
   ]
  },
  {
   "cell_type": "code",
   "execution_count": 148,
   "metadata": {},
   "outputs": [
    {
     "data": {
      "text/plain": [
       "()"
      ]
     },
     "execution_count": 148,
     "metadata": {},
     "output_type": "execute_result"
    }
   ],
   "source": [
    "zt.grad_fn.next_functions[0][0].next_functions[0][0].next_functions[0][0].next_functions\n"
   ]
  },
  {
   "cell_type": "code",
   "execution_count": 149,
   "metadata": {},
   "outputs": [
    {
     "data": {
      "text/plain": [
       "(tensor(10.), tensor(11.))"
      ]
     },
     "execution_count": 149,
     "metadata": {},
     "output_type": "execute_result"
    }
   ],
   "source": [
    "xt.grad, yt.grad\n"
   ]
  },
  {
   "cell_type": "code",
   "execution_count": null,
   "metadata": {},
   "outputs": [],
   "source": []
  }
 ],
 "metadata": {
  "anaconda-cloud": {},
  "kernelspec": {
   "display_name": "Python 3.9.12 ('base')",
   "language": "python",
   "name": "python3"
  },
  "language_info": {
   "codemirror_mode": {
    "name": "ipython",
    "version": 3
   },
   "file_extension": ".py",
   "mimetype": "text/x-python",
   "name": "python",
   "nbconvert_exporter": "python",
   "pygments_lexer": "ipython3",
   "version": "3.9.16"
  },
  "vscode": {
   "interpreter": {
    "hash": "b97b11a820675205aae8f1d7f2a3f22bbd3a2c30189f44042310baf5b4cd1987"
   }
  }
 },
 "nbformat": 4,
 "nbformat_minor": 4
}
