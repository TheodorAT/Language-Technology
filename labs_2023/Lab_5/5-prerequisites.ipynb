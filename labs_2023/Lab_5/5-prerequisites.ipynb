{
 "cells": [
  {
   "cell_type": "markdown",
   "metadata": {},
   "source": [
    "# Assignment #4: Extracting syntactic groups using machine-learning techniques: Prerequisites\n",
    "Author: Pierre Nugues\n",
    "\n",
    "__You must execute this notebook before your start the assignment.__"
   ]
  },
  {
   "cell_type": "markdown",
   "metadata": {},
   "source": [
    "The goal of the assignment is to create a system to extract syntactic groups from a text. You will apply it to the CoNLL 2000 dataset. \n",
    "\n",
    "In this part, you will collect the datasets and the files you need to train your models. You will also collect the script you need to evaluate them."
   ]
  },
  {
   "cell_type": "markdown",
   "metadata": {},
   "source": [
    "## Collecting a Training and a Test sets"
   ]
  },
  {
   "cell_type": "markdown",
   "metadata": {},
   "source": [
    "As annotated data and annotation scheme, you will use the data available from [CoNLL 2000](https://www.clips.uantwerpen.be/conll2000/chunking/).\n",
    "1. Read the description of the CoNLL 2000 task\n",
    "2. Download both the training and test sets and decompress them. See below\n",
    "\n",
    "CoNLL 2000 is an early dataset and contrary to many current ones, it has no development set.\n",
    "\n",
    "You can also download them from this site: https://huggingface.co/datasets/conll2000"
   ]
  },
  {
   "cell_type": "code",
   "execution_count": 2,
   "metadata": {},
   "outputs": [
    {
     "name": "stderr",
     "output_type": "stream",
     "text": [
      "--2023-10-02 09:57:38--  http://www.clips.uantwerpen.be/conll2000/chunking/train.txt.gz\n",
      "Resolving www.clips.uantwerpen.be (www.clips.uantwerpen.be)... 146.175.13.81\n",
      "Connecting to www.clips.uantwerpen.be (www.clips.uantwerpen.be)|146.175.13.81|:80... connected.\n",
      "HTTP request sent, awaiting response... 301 Moved Permanently\n",
      "Location: https://www.clips.uantwerpen.be/conll2000/chunking/train.txt.gz [following]\n",
      "--2023-10-02 09:57:38--  https://www.clips.uantwerpen.be/conll2000/chunking/train.txt.gz\n",
      "Connecting to www.clips.uantwerpen.be (www.clips.uantwerpen.be)|146.175.13.81|:443... connected.\n",
      "HTTP request sent, awaiting response... 200 OK\n",
      "Length: 611540 (597K) [application/x-gzip]\n",
      "Saving to: 'train.txt.gz'\n",
      "\n",
      "     0K .......... .......... .......... .......... ..........  8%  872K 1s\n",
      "    50K .......... .......... .......... .......... .......... 16% 1,91M 0s\n",
      "   100K .......... .......... .......... .......... .......... 25% 20,5M 0s\n",
      "   150K .......... .......... .......... .......... .......... 33% 37,1M 0s\n",
      "   200K .......... .......... .......... .......... .......... 41% 2,01M 0s\n",
      "   250K .......... .......... .......... .......... .......... 50% 11,7M 0s\n",
      "   300K .......... .......... .......... .......... .......... 58% 23,6M 0s\n",
      "   350K .......... .......... .......... .......... .......... 66% 61,2M 0s\n",
      "   400K .......... .......... .......... .......... .......... 75% 2,64M 0s\n",
      "   450K .......... .......... .......... .......... .......... 83% 15,5M 0s\n",
      "   500K .......... .......... .......... .......... .......... 92% 11,4M 0s\n",
      "   550K .......... .......... .......... .......... .......   100% 30,1M=0,1s\n",
      "\n",
      "2023-10-02 09:57:39 (4,01 MB/s) - 'train.txt.gz' saved [611540/611540]\n",
      "\n",
      "--2023-10-02 09:57:39--  http://www.clips.uantwerpen.be/conll2000/chunking/test.txt.gz\n",
      "Resolving www.clips.uantwerpen.be (www.clips.uantwerpen.be)... 146.175.13.81\n",
      "Connecting to www.clips.uantwerpen.be (www.clips.uantwerpen.be)|146.175.13.81|:80... connected.\n",
      "HTTP request sent, awaiting response... 301 Moved Permanently\n",
      "Location: https://www.clips.uantwerpen.be/conll2000/chunking/test.txt.gz [following]\n",
      "--2023-10-02 09:57:39--  https://www.clips.uantwerpen.be/conll2000/chunking/test.txt.gz\n",
      "Connecting to www.clips.uantwerpen.be (www.clips.uantwerpen.be)|146.175.13.81|:443... connected.\n",
      "HTTP request sent, awaiting response... 200 OK\n",
      "Length: 139551 (136K) [application/x-gzip]\n",
      "Saving to: 'test.txt.gz'\n",
      "\n",
      "     0K .......... .......... .......... .......... .......... 36% 1,06M 0s\n",
      "    50K .......... .......... .......... .......... .......... 73% 1,88M 0s\n",
      "   100K .......... .......... .......... ......               100% 26,2M=0,07s\n",
      "\n",
      "2023-10-02 09:57:39 (1,81 MB/s) - 'test.txt.gz' saved [139551/139551]\n",
      "\n"
     ]
    }
   ],
   "source": [
    "!wget http://www.clips.uantwerpen.be/conll2000/chunking/train.txt.gz\n",
    "!wget http://www.clips.uantwerpen.be/conll2000/chunking/test.txt.gz"
   ]
  },
  {
   "cell_type": "code",
   "execution_count": 8,
   "metadata": {},
   "outputs": [
    {
     "name": "stderr",
     "output_type": "stream",
     "text": [
      "'gunzip' is not recognized as an internal or external command,\n",
      "operable program or batch file.\n"
     ]
    },
    {
     "name": "stderr",
     "output_type": "stream",
     "text": [
      "'gunzip' is not recognized as an internal or external command,\n",
      "operable program or batch file.\n"
     ]
    }
   ],
   "source": [
    "!gunzip train.txt.gz\n",
    "!gunzip test.txt.gz"
   ]
  },
  {
   "cell_type": "code",
   "execution_count": 4,
   "metadata": {},
   "outputs": [
    {
     "name": "stderr",
     "output_type": "stream",
     "text": [
      "'mv' is not recognized as an internal or external command,\n",
      "operable program or batch file.\n"
     ]
    }
   ],
   "source": [
    "!mkdir corpus\n",
    "!mv train.txt test.txt corpus"
   ]
  },
  {
   "cell_type": "markdown",
   "metadata": {},
   "source": [
    "## The evaluation script\n",
    "\n",
    "You will train the models with the training set and the test set to evaluate them. For this, you will apply the `conlleval` script that will compute the harmonic mean of the precision and recall: F1. \n",
    "\n",
    "`conlleval` was written in Perl. Some people rewrote it in Python and you will use such such a translation in this lab. The line below installs it. The source code is available from this address: https://github.com/kaniblu/conlleval"
   ]
  },
  {
   "cell_type": "code",
   "execution_count": 9,
   "metadata": {},
   "outputs": [
    {
     "name": "stdout",
     "output_type": "stream",
     "text": [
      "Collecting conlleval\n",
      "  Downloading conlleval-0.2-py3-none-any.whl (5.4 kB)\n",
      "Installing collected packages: conlleval\n",
      "Successfully installed conlleval-0.2\n"
     ]
    }
   ],
   "source": [
    "!pip install conlleval"
   ]
  },
  {
   "cell_type": "markdown",
   "metadata": {},
   "source": [
    "## Collecting the Embeddings"
   ]
  },
  {
   "cell_type": "markdown",
   "metadata": {},
   "source": [
    "You will represent the words with dense vectors, instead of a one-hot encoding. GloVe embeddings is one such representation. The Glove files contain a list of words, where each word is represented by a vector of a fixed dimension. In this notebook, we will use the file of 400,000 lowercase words with the 100-dimensional vectors.\n",
    "Download either:\n",
    "*  The GloVe embeddings 6B from <a href=\"https://nlp.stanford.edu/projects/glove/\">https://nlp.stanford.edu/projects/glove/</a> and keep the 100d vectors; or\n",
    "* A local copy of this dataset with the cell below (faster)"
   ]
  },
  {
   "cell_type": "code",
   "execution_count": null,
   "metadata": {},
   "outputs": [],
   "source": [
    "!wget https://fileadmin.cs.lth.se/nlp/nobackup/embeddings/nobackup/glove.6B.100d.txt.gz"
   ]
  },
  {
   "cell_type": "code",
   "execution_count": null,
   "metadata": {},
   "outputs": [],
   "source": [
    "!gunzip glove.6B.100d.txt.gz\n",
    "!mv glove.6B.100d.txt corpus"
   ]
  }
 ],
 "metadata": {
  "kernelspec": {
   "display_name": "Python 3.9.13 ('base')",
   "language": "python",
   "name": "python3"
  },
  "language_info": {
   "codemirror_mode": {
    "name": "ipython",
    "version": 3
   },
   "file_extension": ".py",
   "mimetype": "text/x-python",
   "name": "python",
   "nbconvert_exporter": "python",
   "pygments_lexer": "ipython3",
   "version": "3.11.4"
  },
  "orig_nbformat": 4,
  "vscode": {
   "interpreter": {
    "hash": "b97b11a820675205aae8f1d7f2a3f22bbd3a2c30189f44042310baf5b4cd1987"
   }
  }
 },
 "nbformat": 4,
 "nbformat_minor": 2
}
