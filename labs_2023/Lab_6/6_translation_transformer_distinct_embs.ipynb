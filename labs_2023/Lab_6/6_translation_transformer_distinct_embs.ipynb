{
  "cells": [
    {
      "cell_type": "markdown",
      "metadata": {
        "id": "OSORSaCOQcws"
      },
      "source": [
        "# Character-level Encoder-Decoder Transformer\n",
        "\n",
        "In this notebook, you will create a machine-translation system that will accept a sentence in a language of your choice and translate it in another language also of your choice.\n",
        "\n",
        "As architecture, you will use the transformer described in _Attention Is All You Need_ (https://arxiv.org/abs/1706.03762). The complete programming from scratch of such an architecture would take more time than that of a lab. That is why the notebook contains all the code. You will merely run separate modules and assemble them. In the end, this will result in a complete encoder-decoder.\n",
        "\n",
        "You will train this encoder-decoder for a translation task and you will observe its performance. To make training possible, you will use characters as input and output instead of words or subwords.\n",
        "\n",
        "The power of the student's computers vary greatly. In consequence, depending on your machine, reduce the size of the dataset and simplify the architecture (use less stacks, less heads) as much as you need to be able to run the program quickly. After the lab, should you wish it, feel free to improve the program and build a more realistic translation system.\n",
        "\n",
        "Finally, please do not run the cells blindly. The objective of the lab is that you understand the transformer by executing it step-by-step. The instructors will ask you to explain cell.\n",
        "\n",
        "Acknowledgments: As starting point to write the notebook, we used a tutorial from PyTorch available at: https://pytorch.org/tutorials/beginner/translation_transformer.html?highlight=translation\n",
        "\n",
        "We modified it to remove the torchtext dependencies and use a character input.\n",
        "\n",
        "__Pierre Nugues__ and __Marcus Klang__\n",
        "\n",
        "History:\n",
        "- V1, Pierre creation from Pytorch tutorial\n",
        "- V2, Marcus, answering questions and improvements notably dataloader\n",
        "- V3, Pierre, separate train and val, cleaning\n"
      ]
    },
    {
      "cell_type": "markdown",
      "metadata": {
        "id": "ndudU7rpQcww"
      },
      "source": [
        "## Introduction\n",
        "This program shows how to implement a basic character-level translation model with a transformer. You will translate the sentences from English to French or another language character by character. Note that a more elaborate model would use words or subwords.\n",
        "\n",
        "### Summary of the algorithm\n",
        "- We start with input sequences from a language (e.g. English sentences)\n",
        "    and corresponding target sequences from another language\n",
        "    (e.g. French sentences).\n",
        "- A transformer encoder encodes the source sentence. The result is called `memory` in the program;\n",
        "- A transformer decoder uses the encoded source sentence and an auto-regressive process to generate the target sequence.\n",
        "- The loss is the cross-entropy ebtween the decoded characters and the target ones\n",
        "- In inference mode, when we decode unknown input sequences using these steps:\n",
        "    - Encode the input sequence (`memory`)\n",
        "    - Feed the decoder with the encoded sequence\n",
        "    - Start with a target sequence of size 1\n",
        "        (just the start-of-sequence character)\n",
        "    - Sample the next character using these predictions\n",
        "        (we simply use argmax, the second output of `torch.max()`).\n",
        "    - Append the sampled character to the target sequence\n",
        "    - Repeat until we generate the end-of-sequence character or we\n",
        "        hit the character limit."
      ]
    },
    {
      "cell_type": "markdown",
      "metadata": {
        "id": "dGdaPOndQcww"
      },
      "source": [
        "## Download the data"
      ]
    },
    {
      "cell_type": "markdown",
      "metadata": {
        "id": "-HfykYJ_Qcww"
      },
      "source": [
        "Have a look at the http://www.manythings.org/anki/ site and select a corpus with at least 10,000 pairs. You should understand the target language well. Ideally, it should be your mother tongue.\n",
        "Then uncomment and run the lines below."
      ]
    },
    {
      "cell_type": "code",
      "execution_count": 1,
      "metadata": {
        "id": "43ZBWIknQcwx"
      },
      "outputs": [],
      "source": [
        "# !curl -O http://www.manythings.org/anki/swe-eng.zip\n",
        "# !unzip swe-eng.zip\n"
      ]
    },
    {
      "cell_type": "markdown",
      "metadata": {
        "id": "iI2cakv4Qcwy"
      },
      "source": [
        "## Imports"
      ]
    },
    {
      "cell_type": "code",
      "execution_count": 2,
      "metadata": {
        "id": "lT0lMqTNQcwz"
      },
      "outputs": [],
      "source": [
        "from typing import Tuple\n",
        "\n",
        "from torch import Tensor\n",
        "import torch\n",
        "import torch.nn as nn\n",
        "from torch.nn import Transformer\n",
        "from torch.utils.data import dataset\n",
        "from torch.nn.utils.rnn import pad_sequence\n",
        "\n",
        "import random\n",
        "import numpy as np\n",
        "import math\n",
        "\n",
        "import matplotlib.pyplot as plt\n",
        "from tqdm import tqdm\n"
      ]
    },
    {
      "cell_type": "code",
      "execution_count": 3,
      "metadata": {
        "colab": {
          "base_uri": "https://localhost:8080/"
        },
        "id": "LBTQRsK8Qcwz",
        "outputId": "9e5aa923-482b-4bc8-ba74-1a8c1cd018f8"
      },
      "outputs": [
        {
          "data": {
            "text/plain": [
              "<torch._C.Generator at 0x7bb180a43c90>"
            ]
          },
          "execution_count": 3,
          "metadata": {},
          "output_type": "execute_result"
        }
      ],
      "source": [
        "random.seed(1234)\n",
        "np.random.seed(1234)\n",
        "torch.manual_seed(1234)\n"
      ]
    },
    {
      "cell_type": "markdown",
      "metadata": {
        "id": "K1KhIMW-Qcwz"
      },
      "source": [
        "## Architecture\n",
        "We select the computing architecture"
      ]
    },
    {
      "cell_type": "code",
      "execution_count": 4,
      "metadata": {
        "colab": {
          "base_uri": "https://localhost:8080/"
        },
        "id": "ehCBpPcDQcw0",
        "outputId": "7bf41e58-21ef-49ba-9bf0-497a90871537"
      },
      "outputs": [
        {
          "data": {
            "text/plain": [
              "device(type='cuda')"
            ]
          },
          "execution_count": 4,
          "metadata": {},
          "output_type": "execute_result"
        }
      ],
      "source": [
        "if torch.cuda.is_available():\n",
        "    device = 'cuda'\n",
        "# elif torch.backends.mps.is_available():\n",
        "#    device = 'mps'\n",
        "else:\n",
        "    device = 'cpu'\n",
        "DEVICE = torch.device(device)\n",
        "DEVICE\n"
      ]
    },
    {
      "cell_type": "markdown",
      "metadata": {
        "id": "AVHqeyEpQcw0"
      },
      "source": [
        "## Dataset"
      ]
    },
    {
      "cell_type": "markdown",
      "metadata": {
        "id": "zaE7EQkvQcw0"
      },
      "source": [
        "### Creating the pairs"
      ]
    },
    {
      "cell_type": "code",
      "execution_count": 5,
      "metadata": {
        "id": "3Rq5biMrQcw0"
      },
      "outputs": [],
      "source": [
        "data_path = 'swe.txt'\n"
      ]
    },
    {
      "cell_type": "code",
      "execution_count": 6,
      "metadata": {
        "id": "JHr_KLz6Qcw1"
      },
      "outputs": [],
      "source": [
        "with open(data_path, \"r\", encoding=\"utf-8\") as f:\n",
        "    lines = f.read().split(\"\\n\")\n"
      ]
    },
    {
      "cell_type": "code",
      "execution_count": 7,
      "metadata": {
        "colab": {
          "base_uri": "https://localhost:8080/"
        },
        "id": "hG2L--K6Qcw1",
        "outputId": "2d1fb1c4-65fb-485a-ea3c-918fd26564b7"
      },
      "outputs": [
        {
          "data": {
            "text/plain": [
              "24610"
            ]
          },
          "execution_count": 7,
          "metadata": {},
          "output_type": "execute_result"
        }
      ],
      "source": [
        "len(lines)\n"
      ]
    },
    {
      "cell_type": "code",
      "execution_count": 8,
      "metadata": {
        "id": "vqi0AMQRQcw1"
      },
      "outputs": [],
      "source": [
        "num_samples = 20000  # Number of samples to train on.\n"
      ]
    },
    {
      "cell_type": "code",
      "execution_count": 9,
      "metadata": {
        "id": "ZS93pV1NQcw1"
      },
      "outputs": [],
      "source": [
        "input_texts = []\n",
        "target_texts = []\n"
      ]
    },
    {
      "cell_type": "code",
      "execution_count": 10,
      "metadata": {
        "id": "1il7wKLCQcw1"
      },
      "outputs": [],
      "source": [
        "for line in lines[: min(num_samples, len(lines) - 1)]:\n",
        "    input_text, target_text, _ = line.split(\"\\t\")\n",
        "    input_texts.append(input_text)\n",
        "    target_texts.append(target_text)\n"
      ]
    },
    {
      "cell_type": "code",
      "execution_count": 11,
      "metadata": {
        "colab": {
          "base_uri": "https://localhost:8080/",
          "height": 36
        },
        "id": "438w_o1TQcw1",
        "outputId": "f64e5f73-9da5-4435-b838-e775d98212ae"
      },
      "outputs": [
        {
          "data": {
            "application/vnd.google.colaboratory.intrinsic+json": {
              "type": "string"
            },
            "text/plain": [
              "'Is Tom mad?'"
            ]
          },
          "execution_count": 11,
          "metadata": {},
          "output_type": "execute_result"
        }
      ],
      "source": [
        "input_texts[500]\n"
      ]
    },
    {
      "cell_type": "code",
      "execution_count": 12,
      "metadata": {
        "colab": {
          "base_uri": "https://localhost:8080/",
          "height": 36
        },
        "id": "qvJXv70VQcw2",
        "outputId": "5e9df74f-3683-4068-c385-b13379d2b098"
      },
      "outputs": [
        {
          "data": {
            "application/vnd.google.colaboratory.intrinsic+json": {
              "type": "string"
            },
            "text/plain": [
              "'Är Tom arg?'"
            ]
          },
          "execution_count": 12,
          "metadata": {},
          "output_type": "execute_result"
        }
      ],
      "source": [
        "target_texts[500]\n"
      ]
    },
    {
      "cell_type": "markdown",
      "metadata": {
        "id": "etXutzn2Qcw2"
      },
      "source": [
        "### Train/Validation"
      ]
    },
    {
      "cell_type": "markdown",
      "metadata": {
        "id": "w5wneLwhQcw2"
      },
      "source": [
        "Percentage train/validation"
      ]
    },
    {
      "cell_type": "code",
      "execution_count": 13,
      "metadata": {
        "colab": {
          "base_uri": "https://localhost:8080/"
        },
        "id": "b7jSBpwWQcw2",
        "outputId": "9cfc70e0-d783-40c9-fb77-8b4a9549cf48"
      },
      "outputs": [
        {
          "data": {
            "text/plain": [
              "16000"
            ]
          },
          "execution_count": 13,
          "metadata": {},
          "output_type": "execute_result"
        }
      ],
      "source": [
        "TRAIN_PERCENTAGE = 0.8\n",
        "train_val = int(TRAIN_PERCENTAGE * num_samples)\n",
        "train_val\n"
      ]
    },
    {
      "cell_type": "markdown",
      "metadata": {
        "id": "H3h6QmqmQcw2"
      },
      "source": [
        "We shuffle the lists"
      ]
    },
    {
      "cell_type": "code",
      "execution_count": 14,
      "metadata": {
        "id": "5ZmKjepiQcw2"
      },
      "outputs": [],
      "source": [
        "text_pairs = list(zip(input_texts, target_texts))\n",
        "random.shuffle(text_pairs)\n",
        "input_texts, target_texts = zip(*text_pairs)\n",
        "input_texts, target_texts = list(input_texts), list(target_texts)\n"
      ]
    },
    {
      "cell_type": "code",
      "execution_count": 15,
      "metadata": {
        "id": "aEXr6OV9Qcw2"
      },
      "outputs": [],
      "source": [
        "train_input_texts = input_texts[:train_val]\n",
        "train_target_texts = target_texts[:train_val]\n",
        "\n",
        "val_input_texts = input_texts[train_val:]\n",
        "val_target_texts = target_texts[train_val:]\n"
      ]
    },
    {
      "cell_type": "markdown",
      "metadata": {
        "id": "5ZuIdQROQcw2"
      },
      "source": [
        "### Characters"
      ]
    },
    {
      "cell_type": "code",
      "execution_count": 16,
      "metadata": {
        "id": "2aPY07EKQcw3"
      },
      "outputs": [],
      "source": [
        "input_characters = set(''.join(train_input_texts))\n",
        "target_characters = set(''.join(train_target_texts))\n"
      ]
    },
    {
      "cell_type": "markdown",
      "metadata": {
        "id": "ZbPwefAaQcw3"
      },
      "source": [
        "### Special symbols"
      ]
    },
    {
      "cell_type": "code",
      "execution_count": 17,
      "metadata": {
        "id": "OznqBsL4Qcw3"
      },
      "outputs": [],
      "source": [
        "# Define special symbols and indices\n",
        "UNK_IDX, PAD_IDX, BOS_IDX, EOS_IDX = 0, 1, 2, 3\n",
        "# Make sure the tokens are in order of their indices to properly insert them in vocab\n",
        "special_symbols = ['<unk>', '<pad>', '<bos>', '<eos>']\n"
      ]
    },
    {
      "cell_type": "code",
      "execution_count": 18,
      "metadata": {
        "colab": {
          "base_uri": "https://localhost:8080/"
        },
        "id": "dSNygZqMQcw3",
        "outputId": "f208c563-5b97-4e31-b804-ab405c047df7"
      },
      "outputs": [
        {
          "data": {
            "text/plain": [
              "{'<unk>': 0, '<pad>': 1, '<bos>': 2, '<eos>': 3}"
            ]
          },
          "execution_count": 18,
          "metadata": {},
          "output_type": "execute_result"
        }
      ],
      "source": [
        "special_symbols_dict = dict(\n",
        "    zip(special_symbols, [UNK_IDX, PAD_IDX, BOS_IDX, EOS_IDX]))\n",
        "special_symbols_dict\n"
      ]
    },
    {
      "cell_type": "markdown",
      "metadata": {
        "id": "p6XBGJRhQcw3"
      },
      "source": [
        "### The input and output symbols\n",
        "The language pair shares the same vocabulary as in _Attention Is All You Need_"
      ]
    },
    {
      "cell_type": "code",
      "execution_count": 19,
      "metadata": {
        "colab": {
          "base_uri": "https://localhost:8080/"
        },
        "id": "73nFNipcQcw3",
        "outputId": "1f1f60b4-6b68-4842-9608-6042f050b9d4"
      },
      "outputs": [
        {
          "data": {
            "text/plain": [
              "[' ',\n",
              " '!',\n",
              " '\"',\n",
              " '%',\n",
              " \"'\",\n",
              " ',',\n",
              " '-',\n",
              " '.',\n",
              " '0',\n",
              " '1',\n",
              " '2',\n",
              " '3',\n",
              " '4',\n",
              " '5',\n",
              " '6',\n",
              " '7',\n",
              " '9',\n",
              " ':',\n",
              " '?',\n",
              " 'A',\n",
              " 'B',\n",
              " 'C',\n",
              " 'D',\n",
              " 'E',\n",
              " 'F',\n",
              " 'G',\n",
              " 'H',\n",
              " 'I',\n",
              " 'J',\n",
              " 'K',\n",
              " 'L',\n",
              " 'M',\n",
              " 'N',\n",
              " 'O',\n",
              " 'P',\n",
              " 'Q',\n",
              " 'R',\n",
              " 'S',\n",
              " 'T',\n",
              " 'U',\n",
              " 'V',\n",
              " 'W',\n",
              " 'Y',\n",
              " 'a',\n",
              " 'b',\n",
              " 'c',\n",
              " 'd',\n",
              " 'e',\n",
              " 'f',\n",
              " 'g',\n",
              " 'h',\n",
              " 'i',\n",
              " 'j',\n",
              " 'k',\n",
              " 'l',\n",
              " 'm',\n",
              " 'n',\n",
              " 'o',\n",
              " 'p',\n",
              " 'q',\n",
              " 'r',\n",
              " 's',\n",
              " 't',\n",
              " 'u',\n",
              " 'v',\n",
              " 'w',\n",
              " 'x',\n",
              " 'y',\n",
              " 'z',\n",
              " 'Ä',\n",
              " 'Å',\n",
              " 'Ö',\n",
              " 'à',\n",
              " 'ä',\n",
              " 'å',\n",
              " 'é',\n",
              " 'ö',\n",
              " '”',\n",
              " '€']"
            ]
          },
          "execution_count": 19,
          "metadata": {},
          "output_type": "execute_result"
        }
      ],
      "source": [
        "characters = sorted(list(set.union(input_characters, target_characters)))\n",
        "characters\n"
      ]
    },
    {
      "cell_type": "markdown",
      "metadata": {
        "id": "Vne6gIySQcw3"
      },
      "source": [
        "### The indices"
      ]
    },
    {
      "cell_type": "code",
      "execution_count": 20,
      "metadata": {
        "colab": {
          "base_uri": "https://localhost:8080/"
        },
        "id": "4utsTDx-Qcw3",
        "outputId": "f3639ee9-eb0b-4542-a411-9ed7edfe5c93"
      },
      "outputs": [
        {
          "data": {
            "text/plain": [
              "{' ': 4,\n",
              " '!': 5,\n",
              " '\"': 6,\n",
              " '%': 7,\n",
              " \"'\": 8,\n",
              " ',': 9,\n",
              " '-': 10,\n",
              " '.': 11,\n",
              " '0': 12,\n",
              " '1': 13,\n",
              " '2': 14,\n",
              " '3': 15,\n",
              " '4': 16,\n",
              " '5': 17,\n",
              " '6': 18,\n",
              " '7': 19,\n",
              " '9': 20,\n",
              " ':': 21,\n",
              " '?': 22,\n",
              " 'A': 23,\n",
              " 'B': 24,\n",
              " 'C': 25,\n",
              " 'D': 26,\n",
              " 'E': 27,\n",
              " 'F': 28,\n",
              " 'G': 29,\n",
              " 'H': 30,\n",
              " 'I': 31,\n",
              " 'J': 32,\n",
              " 'K': 33,\n",
              " 'L': 34,\n",
              " 'M': 35,\n",
              " 'N': 36,\n",
              " 'O': 37,\n",
              " 'P': 38,\n",
              " 'Q': 39,\n",
              " 'R': 40,\n",
              " 'S': 41,\n",
              " 'T': 42,\n",
              " 'U': 43,\n",
              " 'V': 44,\n",
              " 'W': 45,\n",
              " 'Y': 46,\n",
              " 'a': 47,\n",
              " 'b': 48,\n",
              " 'c': 49,\n",
              " 'd': 50,\n",
              " 'e': 51,\n",
              " 'f': 52,\n",
              " 'g': 53,\n",
              " 'h': 54,\n",
              " 'i': 55,\n",
              " 'j': 56,\n",
              " 'k': 57,\n",
              " 'l': 58,\n",
              " 'm': 59,\n",
              " 'n': 60,\n",
              " 'o': 61,\n",
              " 'p': 62,\n",
              " 'q': 63,\n",
              " 'r': 64,\n",
              " 's': 65,\n",
              " 't': 66,\n",
              " 'u': 67,\n",
              " 'v': 68,\n",
              " 'w': 69,\n",
              " 'x': 70,\n",
              " 'y': 71,\n",
              " 'z': 72,\n",
              " 'Ä': 73,\n",
              " 'Å': 74,\n",
              " 'Ö': 75,\n",
              " 'à': 76,\n",
              " 'ä': 77,\n",
              " 'å': 78,\n",
              " 'é': 79,\n",
              " 'ö': 80,\n",
              " '”': 81,\n",
              " '€': 82}"
            ]
          },
          "execution_count": 20,
          "metadata": {},
          "output_type": "execute_result"
        }
      ],
      "source": [
        "token2idx = {char: i for i, char in enumerate(characters, start=4)}\n",
        "token2idx\n"
      ]
    },
    {
      "cell_type": "code",
      "execution_count": 21,
      "metadata": {
        "colab": {
          "base_uri": "https://localhost:8080/"
        },
        "id": "4AaXUyjlQcw4",
        "outputId": "ea6ea564-7fb9-4da6-a8ed-b0a21c027d42"
      },
      "outputs": [
        {
          "data": {
            "text/plain": [
              "{' ': 4,\n",
              " '!': 5,\n",
              " '\"': 6,\n",
              " '%': 7,\n",
              " \"'\": 8,\n",
              " ',': 9,\n",
              " '-': 10,\n",
              " '.': 11,\n",
              " '0': 12,\n",
              " '1': 13,\n",
              " '2': 14,\n",
              " '3': 15,\n",
              " '4': 16,\n",
              " '5': 17,\n",
              " '6': 18,\n",
              " '7': 19,\n",
              " '9': 20,\n",
              " ':': 21,\n",
              " '?': 22,\n",
              " 'A': 23,\n",
              " 'B': 24,\n",
              " 'C': 25,\n",
              " 'D': 26,\n",
              " 'E': 27,\n",
              " 'F': 28,\n",
              " 'G': 29,\n",
              " 'H': 30,\n",
              " 'I': 31,\n",
              " 'J': 32,\n",
              " 'K': 33,\n",
              " 'L': 34,\n",
              " 'M': 35,\n",
              " 'N': 36,\n",
              " 'O': 37,\n",
              " 'P': 38,\n",
              " 'Q': 39,\n",
              " 'R': 40,\n",
              " 'S': 41,\n",
              " 'T': 42,\n",
              " 'U': 43,\n",
              " 'V': 44,\n",
              " 'W': 45,\n",
              " 'Y': 46,\n",
              " 'a': 47,\n",
              " 'b': 48,\n",
              " 'c': 49,\n",
              " 'd': 50,\n",
              " 'e': 51,\n",
              " 'f': 52,\n",
              " 'g': 53,\n",
              " 'h': 54,\n",
              " 'i': 55,\n",
              " 'j': 56,\n",
              " 'k': 57,\n",
              " 'l': 58,\n",
              " 'm': 59,\n",
              " 'n': 60,\n",
              " 'o': 61,\n",
              " 'p': 62,\n",
              " 'q': 63,\n",
              " 'r': 64,\n",
              " 's': 65,\n",
              " 't': 66,\n",
              " 'u': 67,\n",
              " 'v': 68,\n",
              " 'w': 69,\n",
              " 'x': 70,\n",
              " 'y': 71,\n",
              " 'z': 72,\n",
              " 'Ä': 73,\n",
              " 'Å': 74,\n",
              " 'Ö': 75,\n",
              " 'à': 76,\n",
              " 'ä': 77,\n",
              " 'å': 78,\n",
              " 'é': 79,\n",
              " 'ö': 80,\n",
              " '”': 81,\n",
              " '€': 82,\n",
              " '<unk>': 0,\n",
              " '<pad>': 1,\n",
              " '<bos>': 2,\n",
              " '<eos>': 3}"
            ]
          },
          "execution_count": 21,
          "metadata": {},
          "output_type": "execute_result"
        }
      ],
      "source": [
        "token2idx.update(special_symbols_dict)\n",
        "token2idx\n"
      ]
    },
    {
      "cell_type": "code",
      "execution_count": 22,
      "metadata": {
        "colab": {
          "base_uri": "https://localhost:8080/"
        },
        "id": "Gc0Vgbn6Qcw4",
        "outputId": "1605b3ee-69d0-43d3-e41b-dd92353ba22f"
      },
      "outputs": [
        {
          "data": {
            "text/plain": [
              "83"
            ]
          },
          "execution_count": 22,
          "metadata": {},
          "output_type": "execute_result"
        }
      ],
      "source": [
        "len(token2idx)\n"
      ]
    },
    {
      "cell_type": "code",
      "execution_count": 23,
      "metadata": {
        "id": "DbHBC8JbQcw4"
      },
      "outputs": [],
      "source": [
        "idx2token = {v: k for k, v in token2idx.items()}\n"
      ]
    },
    {
      "cell_type": "markdown",
      "metadata": {
        "id": "S0fEm8y5Qcw4"
      },
      "source": [
        "### Text Encoding"
      ]
    },
    {
      "cell_type": "code",
      "execution_count": 24,
      "metadata": {
        "id": "W_59Y5_GQcw9"
      },
      "outputs": [],
      "source": [
        "def text2codes(texts, token2idx):\n",
        "    codes = []\n",
        "    for text in texts:\n",
        "        text_l = ['<bos>'] + list(text) + ['<eos>']\n",
        "        codes += torch.tensor([list(map(lambda x: token2idx.get(x, 0), text_l))]) # <unk> -> 0\n",
        "    return codes\n"
      ]
    },
    {
      "cell_type": "code",
      "execution_count": 25,
      "metadata": {
        "colab": {
          "base_uri": "https://localhost:8080/"
        },
        "id": "xrpXl_O-Qcw9",
        "outputId": "c60a5079-4fa4-4722-c07e-665724620cf6"
      },
      "outputs": [
        {
          "data": {
            "text/plain": [
              "(['Check that.', \"That's absolutely correct.\", 'Tom nodded.'],\n",
              " ['Kolla det där.', 'Det är alldeles korrekt.', 'Tom nickade.'])"
            ]
          },
          "execution_count": 25,
          "metadata": {},
          "output_type": "execute_result"
        }
      ],
      "source": [
        "train_input_texts[:3], train_target_texts[:3]\n"
      ]
    },
    {
      "cell_type": "code",
      "execution_count": 26,
      "metadata": {
        "colab": {
          "base_uri": "https://localhost:8080/"
        },
        "id": "KgI_v6isQcw9",
        "outputId": "5bb3f836-b539-49c8-8aab-1c7490b1fe67"
      },
      "outputs": [
        {
          "data": {
            "text/plain": [
              "[tensor([ 2, 25, 54, 51, 49, 57,  4, 66, 54, 47, 66, 11,  3]),\n",
              " tensor([ 2, 42, 54, 47, 66,  8, 65,  4, 47, 48, 65, 61, 58, 67, 66, 51, 58, 71,\n",
              "          4, 49, 61, 64, 64, 51, 49, 66, 11,  3]),\n",
              " tensor([ 2, 42, 61, 59,  4, 60, 61, 50, 50, 51, 50, 11,  3])]"
            ]
          },
          "execution_count": 26,
          "metadata": {},
          "output_type": "execute_result"
        }
      ],
      "source": [
        "text2codes(train_input_texts, token2idx)[:3]\n"
      ]
    },
    {
      "cell_type": "code",
      "execution_count": 27,
      "metadata": {
        "colab": {
          "base_uri": "https://localhost:8080/"
        },
        "id": "9akm4whTQcw9",
        "outputId": "12944db7-5ea7-4d63-9e42-ce15704e1095"
      },
      "outputs": [
        {
          "data": {
            "text/plain": [
              "[tensor([ 2, 33, 61, 58, 58, 47,  4, 50, 51, 66,  4, 50, 77, 64, 11,  3]),\n",
              " tensor([ 2, 26, 51, 66,  4, 77, 64,  4, 47, 58, 58, 50, 51, 58, 51, 65,  4, 57,\n",
              "         61, 64, 64, 51, 57, 66, 11,  3]),\n",
              " tensor([ 2, 42, 61, 59,  4, 60, 55, 49, 57, 47, 50, 51, 11,  3])]"
            ]
          },
          "execution_count": 27,
          "metadata": {},
          "output_type": "execute_result"
        }
      ],
      "source": [
        "text2codes(train_target_texts, token2idx)[:3]\n"
      ]
    },
    {
      "cell_type": "code",
      "execution_count": 28,
      "metadata": {
        "id": "akvEtOO_Qcw9"
      },
      "outputs": [],
      "source": [
        "def codes2text(codes, idx2token):\n",
        "    texts = []\n",
        "    for code in codes:\n",
        "        code_l = list(code)\n",
        "        texts += [list(map(lambda x: idx2token.get(x.item(), 0), code_l))]\n",
        "    return texts\n"
      ]
    },
    {
      "cell_type": "code",
      "execution_count": 29,
      "metadata": {
        "colab": {
          "base_uri": "https://localhost:8080/"
        },
        "id": "rVKp58EVQcw9",
        "outputId": "ebe8d788-ab6f-4d83-f81c-529b22aa1390"
      },
      "outputs": [
        {
          "data": {
            "text/plain": [
              "[['<bos>', 'C', 'h', 'e', 'c', 'k', ' ', 't', 'h', 'a', 't', '.', '<eos>'],\n",
              " ['<bos>',\n",
              "  'T',\n",
              "  'h',\n",
              "  'a',\n",
              "  't',\n",
              "  \"'\",\n",
              "  's',\n",
              "  ' ',\n",
              "  'a',\n",
              "  'b',\n",
              "  's',\n",
              "  'o',\n",
              "  'l',\n",
              "  'u',\n",
              "  't',\n",
              "  'e',\n",
              "  'l',\n",
              "  'y',\n",
              "  ' ',\n",
              "  'c',\n",
              "  'o',\n",
              "  'r',\n",
              "  'r',\n",
              "  'e',\n",
              "  'c',\n",
              "  't',\n",
              "  '.',\n",
              "  '<eos>'],\n",
              " ['<bos>', 'T', 'o', 'm', ' ', 'n', 'o', 'd', 'd', 'e', 'd', '.', '<eos>']]"
            ]
          },
          "execution_count": 29,
          "metadata": {},
          "output_type": "execute_result"
        }
      ],
      "source": [
        "codes2text(text2codes(train_input_texts, token2idx)[:3], idx2token)\n"
      ]
    },
    {
      "cell_type": "markdown",
      "metadata": {
        "id": "bzABckfFQcw-"
      },
      "source": [
        "## Model"
      ]
    },
    {
      "cell_type": "markdown",
      "metadata": {
        "id": "XGgRVYwmQcw-"
      },
      "source": [
        "### Positional Embeddings\n",
        "\n",
        "Same as https://pytorch.org/tutorials/beginner/translation_transformer.html?highlight=translation"
      ]
    },
    {
      "cell_type": "markdown",
      "metadata": {
        "id": "Y8eJxsz8Qcw-"
      },
      "source": [
        "Note that `register_buffer` is a way to exclude `pos_embeddings` from being a parameter and stored as state, essentially a way to register a computed constant. It will not be modified by the training procedure."
      ]
    },
    {
      "cell_type": "code",
      "execution_count": 30,
      "metadata": {
        "id": "uEy8mBz-Qcw-"
      },
      "outputs": [],
      "source": [
        "# helper Module that adds positional encoding to the token embedding to introduce a notion of word order.\n",
        "class PositionalEncoding(nn.Module):\n",
        "    def __init__(self,\n",
        "                 emb_size: int,\n",
        "                 dropout: float,\n",
        "                 maxlen: int = 5000):\n",
        "        super().__init__()\n",
        "        den = torch.exp(- torch.arange(0, emb_size, 2)\n",
        "                        * math.log(10000) / emb_size)\n",
        "        pos = torch.arange(0, maxlen).reshape(maxlen, 1)\n",
        "        pos_embedding = torch.zeros((maxlen, emb_size))\n",
        "        pos_embedding[:, 0::2] = torch.sin(pos * den)\n",
        "        pos_embedding[:, 1::2] = torch.cos(pos * den)\n",
        "        pos_embedding = pos_embedding.unsqueeze(-2)\n",
        "\n",
        "        self.dropout = nn.Dropout(dropout)\n",
        "        self.register_buffer('pos_embedding', pos_embedding)\n",
        "\n",
        "    def forward(self, token_embedding: Tensor):\n",
        "        return self.dropout(token_embedding + self.pos_embedding[:token_embedding.size(0), :])\n"
      ]
    },
    {
      "cell_type": "code",
      "execution_count": 31,
      "metadata": {
        "id": "HN5joKFWQcw-"
      },
      "outputs": [],
      "source": [
        "pe = PositionalEncoding(10, 0.1)\n"
      ]
    },
    {
      "cell_type": "code",
      "execution_count": 32,
      "metadata": {
        "colab": {
          "base_uri": "https://localhost:8080/"
        },
        "id": "efWu3prIQcw-",
        "outputId": "6614fc2e-1cec-46ad-a1fa-121c08289e78"
      },
      "outputs": [
        {
          "data": {
            "text/plain": [
              "tensor([[[0., 0., 0., 0., 0., 0., 0., 0., 0., 0.],\n",
              "         [0., 0., 0., 0., 0., 0., 0., 0., 0., 0.],\n",
              "         [0., 0., 0., 0., 0., 0., 0., 0., 0., 0.],\n",
              "         [0., 0., 0., 0., 0., 0., 0., 0., 0., 0.],\n",
              "         [0., 0., 0., 0., 0., 0., 0., 0., 0., 0.]]])"
            ]
          },
          "execution_count": 32,
          "metadata": {},
          "output_type": "execute_result"
        }
      ],
      "source": [
        "torch.zeros(1, 5, 10)\n"
      ]
    },
    {
      "cell_type": "code",
      "execution_count": 33,
      "metadata": {
        "colab": {
          "base_uri": "https://localhost:8080/"
        },
        "id": "I8TqjWKiQcw-",
        "outputId": "ddffaa39-0669-48cc-d139-2ed0f11d48e7"
      },
      "outputs": [
        {
          "data": {
            "text/plain": [
              "tensor([[[0.0000, 1.1111, 0.0000, 1.1111, 0.0000, 1.1111, 0.0000, 1.1111,\n",
              "          0.0000, 1.1111],\n",
              "         [0.0000, 0.0000, 0.0000, 1.1111, 0.0000, 1.1111, 0.0000, 1.1111,\n",
              "          0.0000, 0.0000],\n",
              "         [0.0000, 1.1111, 0.0000, 1.1111, 0.0000, 1.1111, 0.0000, 1.1111,\n",
              "          0.0000, 1.1111],\n",
              "         [0.0000, 1.1111, 0.0000, 1.1111, 0.0000, 1.1111, 0.0000, 1.1111,\n",
              "          0.0000, 1.1111],\n",
              "         [0.0000, 1.1111, 0.0000, 1.1111, 0.0000, 1.1111, 0.0000, 1.1111,\n",
              "          0.0000, 1.1111]]])"
            ]
          },
          "execution_count": 33,
          "metadata": {},
          "output_type": "execute_result"
        }
      ],
      "source": [
        "pe(torch.zeros(1, 5, 10))\n"
      ]
    },
    {
      "cell_type": "markdown",
      "metadata": {
        "id": "gRMm_55SQcw-"
      },
      "source": [
        "### Token Embeddings"
      ]
    },
    {
      "cell_type": "code",
      "execution_count": 34,
      "metadata": {
        "id": "bUWWUy-XQcw_"
      },
      "outputs": [],
      "source": [
        "# helper Module to convert tensor of input indices into corresponding tensor of token embeddings\n",
        "class TokenEmbedding(nn.Module):\n",
        "    def __init__(self, vocab_size: int, emb_size):\n",
        "        super().__init__()\n",
        "        self.embedding = nn.Embedding(vocab_size, emb_size)\n",
        "        self.emb_size = emb_size\n",
        "\n",
        "    def forward(self, tokens: Tensor):\n",
        "        return self.embedding(tokens.long()) * math.sqrt(self.emb_size)\n"
      ]
    },
    {
      "cell_type": "markdown",
      "metadata": {
        "id": "5xFbdZm2Qcw_"
      },
      "source": [
        "### Transformer\n",
        "\n",
        "Same as https://pytorch.org/tutorials/beginner/translation_transformer.html?highlight=translation"
      ]
    },
    {
      "cell_type": "markdown",
      "metadata": {
        "id": "58dwRA8-Qcw_"
      },
      "source": [
        "Note that:   \n",
        "- `transformer.encoder(...)` is equivalent to a call of TransformerEncoder(...), i.e https://pytorch.org/docs/stable/generated/torch.nn.TransformerEncoder.html    \n",
        "- `transformer.decoder(...)` is equivalent to a call of TransformerDecoder(...), i.e https://pytorch.org/docs/stable/generated/torch.nn.TransformerDecoder.html   \n",
        "- These are created internally by the transformer layer:\n",
        "https://pytorch.org/docs/stable/_modules/torch/nn/modules/transformer.html#Transformer  "
      ]
    },
    {
      "cell_type": "code",
      "execution_count": 35,
      "metadata": {
        "id": "_hnp6Ks2Qcw_"
      },
      "outputs": [],
      "source": [
        "# Seq2Seq Network\n",
        "class Seq2SeqTransformer(nn.Module):\n",
        "    def __init__(self,\n",
        "                 num_encoder_layers: int,\n",
        "                 num_decoder_layers: int,\n",
        "                 emb_size: int,\n",
        "                 nhead: int,\n",
        "                 src_vocab_size: int,\n",
        "                 tgt_vocab_size: int,\n",
        "                 dim_feedforward: int = 512,\n",
        "                 dropout: float = 0.1):\n",
        "        super().__init__()\n",
        "        self.transformer = Transformer(d_model=emb_size,\n",
        "                                       nhead=nhead,\n",
        "                                       num_encoder_layers=num_encoder_layers,\n",
        "                                       num_decoder_layers=num_decoder_layers,\n",
        "                                       dim_feedforward=dim_feedforward,\n",
        "                                       dropout=dropout)\n",
        "        self.generator = nn.Linear(emb_size, tgt_vocab_size)\n",
        "        self.src_tok_emb = TokenEmbedding(src_vocab_size, emb_size)\n",
        "        self.tgt_tok_emb = TokenEmbedding(tgt_vocab_size, emb_size)\n",
        "        self.positional_encoding = PositionalEncoding(\n",
        "            emb_size, dropout=dropout)\n",
        "\n",
        "    def forward(self,\n",
        "                src: Tensor,\n",
        "                trg: Tensor,\n",
        "                src_mask: Tensor,\n",
        "                tgt_mask: Tensor,\n",
        "                src_padding_mask: Tensor,\n",
        "                tgt_padding_mask: Tensor,\n",
        "                memory_key_padding_mask: Tensor):\n",
        "        src_emb = self.positional_encoding(self.src_tok_emb(src))\n",
        "        tgt_emb = self.positional_encoding(self.tgt_tok_emb(trg))\n",
        "        outs = self.transformer(src_emb, tgt_emb, src_mask, tgt_mask, None,\n",
        "                                src_padding_mask, tgt_padding_mask, memory_key_padding_mask)\n",
        "        return self.generator(outs)\n",
        "\n",
        "    def encode(self, src: Tensor, src_mask: Tensor):\n",
        "        return self.transformer.encoder(self.positional_encoding(\n",
        "            self.src_tok_emb(src)), src_mask)\n",
        "\n",
        "    def decode(self, tgt: Tensor, memory: Tensor, tgt_mask: Tensor):\n",
        "        return self.transformer.decoder(self.positional_encoding(\n",
        "            self.tgt_tok_emb(tgt)), memory,\n",
        "            tgt_mask)\n"
      ]
    },
    {
      "cell_type": "code",
      "execution_count": 36,
      "metadata": {
        "id": "UGR4VloOQcw_"
      },
      "outputs": [],
      "source": [
        "def generate_square_subsequent_mask(sz):\n",
        "    mask = (torch.triu(torch.ones((sz, sz), device=DEVICE)) == 1).transpose(0, 1)\n",
        "    mask = mask.float().masked_fill(mask == 0, float(\n",
        "        '-inf')).masked_fill(mask == 1, float(0.0))\n",
        "    return mask\n"
      ]
    },
    {
      "cell_type": "code",
      "execution_count": 37,
      "metadata": {
        "colab": {
          "base_uri": "https://localhost:8080/"
        },
        "id": "qFWXAjN_Qcw_",
        "outputId": "11bd2165-3fd4-4c46-8f8a-23fc14e4fe16"
      },
      "outputs": [
        {
          "data": {
            "text/plain": [
              "tensor([[0., -inf, -inf, -inf, -inf, -inf, -inf, -inf, -inf, -inf],\n",
              "        [0., 0., -inf, -inf, -inf, -inf, -inf, -inf, -inf, -inf],\n",
              "        [0., 0., 0., -inf, -inf, -inf, -inf, -inf, -inf, -inf],\n",
              "        [0., 0., 0., 0., -inf, -inf, -inf, -inf, -inf, -inf],\n",
              "        [0., 0., 0., 0., 0., -inf, -inf, -inf, -inf, -inf],\n",
              "        [0., 0., 0., 0., 0., 0., -inf, -inf, -inf, -inf],\n",
              "        [0., 0., 0., 0., 0., 0., 0., -inf, -inf, -inf],\n",
              "        [0., 0., 0., 0., 0., 0., 0., 0., -inf, -inf],\n",
              "        [0., 0., 0., 0., 0., 0., 0., 0., 0., -inf],\n",
              "        [0., 0., 0., 0., 0., 0., 0., 0., 0., 0.]], device='cuda:0')"
            ]
          },
          "execution_count": 37,
          "metadata": {},
          "output_type": "execute_result"
        }
      ],
      "source": [
        "generate_square_subsequent_mask(10)\n"
      ]
    },
    {
      "cell_type": "code",
      "execution_count": 38,
      "metadata": {
        "id": "HB_Hof0pQcxA"
      },
      "outputs": [],
      "source": [
        "def create_mask(src, tgt):\n",
        "    src_seq_len = src.shape[0]\n",
        "    tgt_seq_len = tgt.shape[0]\n",
        "\n",
        "    tgt_mask = generate_square_subsequent_mask(tgt_seq_len)\n",
        "    src_mask = torch.zeros((src_seq_len, src_seq_len),\n",
        "                           device=DEVICE).type(torch.bool)\n",
        "\n",
        "    src_padding_mask = (src == PAD_IDX).transpose(0, 1)\n",
        "    tgt_padding_mask = (tgt == PAD_IDX).transpose(0, 1).type(torch.float32)\n",
        "    return src_mask, tgt_mask, src_padding_mask, tgt_padding_mask\n"
      ]
    },
    {
      "cell_type": "code",
      "execution_count": 39,
      "metadata": {
        "id": "naB7YLS4QcxA"
      },
      "outputs": [],
      "source": [
        "src = pad_sequence(text2codes(\n",
        "    train_input_texts[:3], token2idx), padding_value=PAD_IDX)\n",
        "tgt = pad_sequence(text2codes(\n",
        "    train_target_texts[:3], token2idx), padding_value=PAD_IDX)\n"
      ]
    },
    {
      "cell_type": "code",
      "execution_count": 40,
      "metadata": {
        "colab": {
          "base_uri": "https://localhost:8080/"
        },
        "id": "Lj5JITrFQcxA",
        "outputId": "7961ed18-aa6f-45e3-dd65-ecd77b37b310"
      },
      "outputs": [
        {
          "data": {
            "text/plain": [
              "(['Check that.', \"That's absolutely correct.\", 'Tom nodded.'],\n",
              " ['Kolla det där.', 'Det är alldeles korrekt.', 'Tom nickade.'])"
            ]
          },
          "execution_count": 40,
          "metadata": {},
          "output_type": "execute_result"
        }
      ],
      "source": [
        "train_input_texts[:3], train_target_texts[:3]\n"
      ]
    },
    {
      "cell_type": "markdown",
      "metadata": {
        "id": "bQ64TXOtQcxA"
      },
      "source": [
        "The tensors. Note the batch dimension is the second one."
      ]
    },
    {
      "cell_type": "code",
      "execution_count": null,
      "metadata": {
        "colab": {
          "base_uri": "https://localhost:8080/"
        },
        "id": "TSBRmzO-QcxA",
        "outputId": "bcd911c5-d2b3-4a0a-f690-3dc25ceb8a99"
      },
      "outputs": [
        {
          "data": {
            "text/plain": [
              "tensor([[ 2,  2,  2],\n",
              "        [25, 42, 42],\n",
              "        [54, 54, 61],\n",
              "        [51, 47, 59],\n",
              "        [49, 66,  4],\n",
              "        [57,  8, 60],\n",
              "        [ 4, 65, 61],\n",
              "        [66,  4, 50],\n",
              "        [54, 47, 50],\n",
              "        [47, 48, 51],\n",
              "        [66, 65, 50],\n",
              "        [11, 61, 11],\n",
              "        [ 3, 58,  3],\n",
              "        [ 1, 67,  1],\n",
              "        [ 1, 66,  1],\n",
              "        [ 1, 51,  1],\n",
              "        [ 1, 58,  1],\n",
              "        [ 1, 71,  1],\n",
              "        [ 1,  4,  1],\n",
              "        [ 1, 49,  1],\n",
              "        [ 1, 61,  1],\n",
              "        [ 1, 64,  1],\n",
              "        [ 1, 64,  1],\n",
              "        [ 1, 51,  1],\n",
              "        [ 1, 49,  1],\n",
              "        [ 1, 66,  1],\n",
              "        [ 1, 11,  1],\n",
              "        [ 1,  3,  1]])"
            ]
          },
          "execution_count": 41,
          "metadata": {},
          "output_type": "execute_result"
        }
      ],
      "source": [
        "src\n"
      ]
    },
    {
      "cell_type": "code",
      "execution_count": 42,
      "metadata": {
        "colab": {
          "base_uri": "https://localhost:8080/"
        },
        "id": "WQjlT84FQcxA",
        "outputId": "60067a42-b2e6-4d35-b1ad-b565ee304373"
      },
      "outputs": [
        {
          "data": {
            "text/plain": [
              "tensor([[ 2,  2,  2],\n",
              "        [33, 26, 42],\n",
              "        [61, 51, 61],\n",
              "        [58, 66, 59],\n",
              "        [58,  4,  4],\n",
              "        [47, 77, 60],\n",
              "        [ 4, 64, 55],\n",
              "        [50,  4, 49],\n",
              "        [51, 47, 57],\n",
              "        [66, 58, 47],\n",
              "        [ 4, 58, 50],\n",
              "        [50, 50, 51],\n",
              "        [77, 51, 11],\n",
              "        [64, 58,  3],\n",
              "        [11, 51,  1],\n",
              "        [ 3, 65,  1],\n",
              "        [ 1,  4,  1],\n",
              "        [ 1, 57,  1],\n",
              "        [ 1, 61,  1],\n",
              "        [ 1, 64,  1],\n",
              "        [ 1, 64,  1],\n",
              "        [ 1, 51,  1],\n",
              "        [ 1, 57,  1],\n",
              "        [ 1, 66,  1],\n",
              "        [ 1, 11,  1],\n",
              "        [ 1,  3,  1]])"
            ]
          },
          "execution_count": 42,
          "metadata": {},
          "output_type": "execute_result"
        }
      ],
      "source": [
        "tgt\n"
      ]
    },
    {
      "cell_type": "markdown",
      "metadata": {
        "id": "HDC7JORTQcxA"
      },
      "source": [
        "The next function returns `src_mask`, `tgt_mask`, `src_padding_mask`, `tgt_padding_mask`."
      ]
    },
    {
      "cell_type": "code",
      "execution_count": 43,
      "metadata": {
        "colab": {
          "base_uri": "https://localhost:8080/"
        },
        "id": "B0_JUIUaQcxA",
        "outputId": "75140a3d-60d9-42bb-8ceb-36443fc42e52"
      },
      "outputs": [
        {
          "data": {
            "text/plain": [
              "(tensor([[False, False, False, False, False, False, False, False, False, False,\n",
              "          False, False, False, False, False, False, False, False, False, False,\n",
              "          False, False, False, False, False, False, False, False],\n",
              "         [False, False, False, False, False, False, False, False, False, False,\n",
              "          False, False, False, False, False, False, False, False, False, False,\n",
              "          False, False, False, False, False, False, False, False],\n",
              "         [False, False, False, False, False, False, False, False, False, False,\n",
              "          False, False, False, False, False, False, False, False, False, False,\n",
              "          False, False, False, False, False, False, False, False],\n",
              "         [False, False, False, False, False, False, False, False, False, False,\n",
              "          False, False, False, False, False, False, False, False, False, False,\n",
              "          False, False, False, False, False, False, False, False],\n",
              "         [False, False, False, False, False, False, False, False, False, False,\n",
              "          False, False, False, False, False, False, False, False, False, False,\n",
              "          False, False, False, False, False, False, False, False],\n",
              "         [False, False, False, False, False, False, False, False, False, False,\n",
              "          False, False, False, False, False, False, False, False, False, False,\n",
              "          False, False, False, False, False, False, False, False],\n",
              "         [False, False, False, False, False, False, False, False, False, False,\n",
              "          False, False, False, False, False, False, False, False, False, False,\n",
              "          False, False, False, False, False, False, False, False],\n",
              "         [False, False, False, False, False, False, False, False, False, False,\n",
              "          False, False, False, False, False, False, False, False, False, False,\n",
              "          False, False, False, False, False, False, False, False],\n",
              "         [False, False, False, False, False, False, False, False, False, False,\n",
              "          False, False, False, False, False, False, False, False, False, False,\n",
              "          False, False, False, False, False, False, False, False],\n",
              "         [False, False, False, False, False, False, False, False, False, False,\n",
              "          False, False, False, False, False, False, False, False, False, False,\n",
              "          False, False, False, False, False, False, False, False],\n",
              "         [False, False, False, False, False, False, False, False, False, False,\n",
              "          False, False, False, False, False, False, False, False, False, False,\n",
              "          False, False, False, False, False, False, False, False],\n",
              "         [False, False, False, False, False, False, False, False, False, False,\n",
              "          False, False, False, False, False, False, False, False, False, False,\n",
              "          False, False, False, False, False, False, False, False],\n",
              "         [False, False, False, False, False, False, False, False, False, False,\n",
              "          False, False, False, False, False, False, False, False, False, False,\n",
              "          False, False, False, False, False, False, False, False],\n",
              "         [False, False, False, False, False, False, False, False, False, False,\n",
              "          False, False, False, False, False, False, False, False, False, False,\n",
              "          False, False, False, False, False, False, False, False],\n",
              "         [False, False, False, False, False, False, False, False, False, False,\n",
              "          False, False, False, False, False, False, False, False, False, False,\n",
              "          False, False, False, False, False, False, False, False],\n",
              "         [False, False, False, False, False, False, False, False, False, False,\n",
              "          False, False, False, False, False, False, False, False, False, False,\n",
              "          False, False, False, False, False, False, False, False],\n",
              "         [False, False, False, False, False, False, False, False, False, False,\n",
              "          False, False, False, False, False, False, False, False, False, False,\n",
              "          False, False, False, False, False, False, False, False],\n",
              "         [False, False, False, False, False, False, False, False, False, False,\n",
              "          False, False, False, False, False, False, False, False, False, False,\n",
              "          False, False, False, False, False, False, False, False],\n",
              "         [False, False, False, False, False, False, False, False, False, False,\n",
              "          False, False, False, False, False, False, False, False, False, False,\n",
              "          False, False, False, False, False, False, False, False],\n",
              "         [False, False, False, False, False, False, False, False, False, False,\n",
              "          False, False, False, False, False, False, False, False, False, False,\n",
              "          False, False, False, False, False, False, False, False],\n",
              "         [False, False, False, False, False, False, False, False, False, False,\n",
              "          False, False, False, False, False, False, False, False, False, False,\n",
              "          False, False, False, False, False, False, False, False],\n",
              "         [False, False, False, False, False, False, False, False, False, False,\n",
              "          False, False, False, False, False, False, False, False, False, False,\n",
              "          False, False, False, False, False, False, False, False],\n",
              "         [False, False, False, False, False, False, False, False, False, False,\n",
              "          False, False, False, False, False, False, False, False, False, False,\n",
              "          False, False, False, False, False, False, False, False],\n",
              "         [False, False, False, False, False, False, False, False, False, False,\n",
              "          False, False, False, False, False, False, False, False, False, False,\n",
              "          False, False, False, False, False, False, False, False],\n",
              "         [False, False, False, False, False, False, False, False, False, False,\n",
              "          False, False, False, False, False, False, False, False, False, False,\n",
              "          False, False, False, False, False, False, False, False],\n",
              "         [False, False, False, False, False, False, False, False, False, False,\n",
              "          False, False, False, False, False, False, False, False, False, False,\n",
              "          False, False, False, False, False, False, False, False],\n",
              "         [False, False, False, False, False, False, False, False, False, False,\n",
              "          False, False, False, False, False, False, False, False, False, False,\n",
              "          False, False, False, False, False, False, False, False],\n",
              "         [False, False, False, False, False, False, False, False, False, False,\n",
              "          False, False, False, False, False, False, False, False, False, False,\n",
              "          False, False, False, False, False, False, False, False]],\n",
              "        device='cuda:0'),\n",
              " tensor([[0., -inf, -inf, -inf, -inf, -inf, -inf, -inf, -inf, -inf, -inf, -inf, -inf, -inf, -inf, -inf, -inf, -inf, -inf, -inf, -inf, -inf, -inf, -inf,\n",
              "          -inf, -inf],\n",
              "         [0., 0., -inf, -inf, -inf, -inf, -inf, -inf, -inf, -inf, -inf, -inf, -inf, -inf, -inf, -inf, -inf, -inf, -inf, -inf, -inf, -inf, -inf, -inf,\n",
              "          -inf, -inf],\n",
              "         [0., 0., 0., -inf, -inf, -inf, -inf, -inf, -inf, -inf, -inf, -inf, -inf, -inf, -inf, -inf, -inf, -inf, -inf, -inf, -inf, -inf, -inf, -inf,\n",
              "          -inf, -inf],\n",
              "         [0., 0., 0., 0., -inf, -inf, -inf, -inf, -inf, -inf, -inf, -inf, -inf, -inf, -inf, -inf, -inf, -inf, -inf, -inf, -inf, -inf, -inf, -inf,\n",
              "          -inf, -inf],\n",
              "         [0., 0., 0., 0., 0., -inf, -inf, -inf, -inf, -inf, -inf, -inf, -inf, -inf, -inf, -inf, -inf, -inf, -inf, -inf, -inf, -inf, -inf, -inf,\n",
              "          -inf, -inf],\n",
              "         [0., 0., 0., 0., 0., 0., -inf, -inf, -inf, -inf, -inf, -inf, -inf, -inf, -inf, -inf, -inf, -inf, -inf, -inf, -inf, -inf, -inf, -inf,\n",
              "          -inf, -inf],\n",
              "         [0., 0., 0., 0., 0., 0., 0., -inf, -inf, -inf, -inf, -inf, -inf, -inf, -inf, -inf, -inf, -inf, -inf, -inf, -inf, -inf, -inf, -inf,\n",
              "          -inf, -inf],\n",
              "         [0., 0., 0., 0., 0., 0., 0., 0., -inf, -inf, -inf, -inf, -inf, -inf, -inf, -inf, -inf, -inf, -inf, -inf, -inf, -inf, -inf, -inf,\n",
              "          -inf, -inf],\n",
              "         [0., 0., 0., 0., 0., 0., 0., 0., 0., -inf, -inf, -inf, -inf, -inf, -inf, -inf, -inf, -inf, -inf, -inf, -inf, -inf, -inf, -inf,\n",
              "          -inf, -inf],\n",
              "         [0., 0., 0., 0., 0., 0., 0., 0., 0., 0., -inf, -inf, -inf, -inf, -inf, -inf, -inf, -inf, -inf, -inf, -inf, -inf, -inf, -inf,\n",
              "          -inf, -inf],\n",
              "         [0., 0., 0., 0., 0., 0., 0., 0., 0., 0., 0., -inf, -inf, -inf, -inf, -inf, -inf, -inf, -inf, -inf, -inf, -inf, -inf, -inf,\n",
              "          -inf, -inf],\n",
              "         [0., 0., 0., 0., 0., 0., 0., 0., 0., 0., 0., 0., -inf, -inf, -inf, -inf, -inf, -inf, -inf, -inf, -inf, -inf, -inf, -inf,\n",
              "          -inf, -inf],\n",
              "         [0., 0., 0., 0., 0., 0., 0., 0., 0., 0., 0., 0., 0., -inf, -inf, -inf, -inf, -inf, -inf, -inf, -inf, -inf, -inf, -inf,\n",
              "          -inf, -inf],\n",
              "         [0., 0., 0., 0., 0., 0., 0., 0., 0., 0., 0., 0., 0., 0., -inf, -inf, -inf, -inf, -inf, -inf, -inf, -inf, -inf, -inf,\n",
              "          -inf, -inf],\n",
              "         [0., 0., 0., 0., 0., 0., 0., 0., 0., 0., 0., 0., 0., 0., 0., -inf, -inf, -inf, -inf, -inf, -inf, -inf, -inf, -inf,\n",
              "          -inf, -inf],\n",
              "         [0., 0., 0., 0., 0., 0., 0., 0., 0., 0., 0., 0., 0., 0., 0., 0., -inf, -inf, -inf, -inf, -inf, -inf, -inf, -inf,\n",
              "          -inf, -inf],\n",
              "         [0., 0., 0., 0., 0., 0., 0., 0., 0., 0., 0., 0., 0., 0., 0., 0., 0., -inf, -inf, -inf, -inf, -inf, -inf, -inf,\n",
              "          -inf, -inf],\n",
              "         [0., 0., 0., 0., 0., 0., 0., 0., 0., 0., 0., 0., 0., 0., 0., 0., 0., 0., -inf, -inf, -inf, -inf, -inf, -inf,\n",
              "          -inf, -inf],\n",
              "         [0., 0., 0., 0., 0., 0., 0., 0., 0., 0., 0., 0., 0., 0., 0., 0., 0., 0., 0., -inf, -inf, -inf, -inf, -inf,\n",
              "          -inf, -inf],\n",
              "         [0., 0., 0., 0., 0., 0., 0., 0., 0., 0., 0., 0., 0., 0., 0., 0., 0., 0., 0., 0., -inf, -inf, -inf, -inf,\n",
              "          -inf, -inf],\n",
              "         [0., 0., 0., 0., 0., 0., 0., 0., 0., 0., 0., 0., 0., 0., 0., 0., 0., 0., 0., 0., 0., -inf, -inf, -inf,\n",
              "          -inf, -inf],\n",
              "         [0., 0., 0., 0., 0., 0., 0., 0., 0., 0., 0., 0., 0., 0., 0., 0., 0., 0., 0., 0., 0., 0., -inf, -inf,\n",
              "          -inf, -inf],\n",
              "         [0., 0., 0., 0., 0., 0., 0., 0., 0., 0., 0., 0., 0., 0., 0., 0., 0., 0., 0., 0., 0., 0., 0., -inf,\n",
              "          -inf, -inf],\n",
              "         [0., 0., 0., 0., 0., 0., 0., 0., 0., 0., 0., 0., 0., 0., 0., 0., 0., 0., 0., 0., 0., 0., 0., 0.,\n",
              "          -inf, -inf],\n",
              "         [0., 0., 0., 0., 0., 0., 0., 0., 0., 0., 0., 0., 0., 0., 0., 0., 0., 0., 0., 0., 0., 0., 0., 0.,\n",
              "          0., -inf],\n",
              "         [0., 0., 0., 0., 0., 0., 0., 0., 0., 0., 0., 0., 0., 0., 0., 0., 0., 0., 0., 0., 0., 0., 0., 0.,\n",
              "          0., 0.]], device='cuda:0'),\n",
              " tensor([[False, False, False, False, False, False, False, False, False, False,\n",
              "          False, False, False,  True,  True,  True,  True,  True,  True,  True,\n",
              "           True,  True,  True,  True,  True,  True,  True,  True],\n",
              "         [False, False, False, False, False, False, False, False, False, False,\n",
              "          False, False, False, False, False, False, False, False, False, False,\n",
              "          False, False, False, False, False, False, False, False],\n",
              "         [False, False, False, False, False, False, False, False, False, False,\n",
              "          False, False, False,  True,  True,  True,  True,  True,  True,  True,\n",
              "           True,  True,  True,  True,  True,  True,  True,  True]]),\n",
              " tensor([[0., 0., 0., 0., 0., 0., 0., 0., 0., 0., 0., 0., 0., 0., 0., 0., 1., 1.,\n",
              "          1., 1., 1., 1., 1., 1., 1., 1.],\n",
              "         [0., 0., 0., 0., 0., 0., 0., 0., 0., 0., 0., 0., 0., 0., 0., 0., 0., 0.,\n",
              "          0., 0., 0., 0., 0., 0., 0., 0.],\n",
              "         [0., 0., 0., 0., 0., 0., 0., 0., 0., 0., 0., 0., 0., 0., 1., 1., 1., 1.,\n",
              "          1., 1., 1., 1., 1., 1., 1., 1.]]))"
            ]
          },
          "execution_count": 43,
          "metadata": {},
          "output_type": "execute_result"
        }
      ],
      "source": [
        "create_mask(src, tgt)\n"
      ]
    },
    {
      "cell_type": "markdown",
      "metadata": {
        "id": "i_wYPWh2QcxB"
      },
      "source": [
        "## Model Creation"
      ]
    },
    {
      "cell_type": "code",
      "execution_count": 44,
      "metadata": {
        "colab": {
          "base_uri": "https://localhost:8080/"
        },
        "id": "qK6mwKWzQcxB",
        "outputId": "d78dfed7-b67e-45ab-8afc-fe0a29aa19be"
      },
      "outputs": [
        {
          "data": {
            "text/plain": [
              "79"
            ]
          },
          "execution_count": 44,
          "metadata": {},
          "output_type": "execute_result"
        }
      ],
      "source": [
        "len(characters)\n"
      ]
    },
    {
      "cell_type": "code",
      "execution_count": 45,
      "metadata": {
        "colab": {
          "base_uri": "https://localhost:8080/"
        },
        "id": "TXqT7wKvQcxB",
        "outputId": "2e92fb9b-586d-4dd9-f4aa-c51a0cd8fba8"
      },
      "outputs": [
        {
          "data": {
            "text/plain": [
              "83"
            ]
          },
          "execution_count": 45,
          "metadata": {},
          "output_type": "execute_result"
        }
      ],
      "source": [
        "len(token2idx)\n"
      ]
    },
    {
      "cell_type": "code",
      "execution_count": 46,
      "metadata": {
        "id": "UcPUz3TnQcxB"
      },
      "outputs": [],
      "source": [
        "SRC_VOCAB_SIZE = max(token2idx.values()) + 1  # or len(token2idx)\n",
        "TGT_VOCAB_SIZE = max(token2idx.values()) + 1  # or len(token2idx)\n",
        "EMB_SIZE = 512\n",
        "NHEAD = 8\n",
        "FFN_HID_DIM = 512\n",
        "BATCH_SIZE = 128\n",
        "NUM_ENCODER_LAYERS = 3\n",
        "NUM_DECODER_LAYERS = 3\n"
      ]
    },
    {
      "cell_type": "code",
      "execution_count": 47,
      "metadata": {
        "id": "xKjVQzzQQcxB"
      },
      "outputs": [],
      "source": [
        "transformer = Seq2SeqTransformer(NUM_ENCODER_LAYERS, NUM_DECODER_LAYERS, EMB_SIZE,\n",
        "                                 NHEAD, SRC_VOCAB_SIZE, TGT_VOCAB_SIZE, FFN_HID_DIM)\n",
        "\n",
        "for p in transformer.parameters():\n",
        "    if p.dim() > 1:\n",
        "        nn.init.xavier_uniform_(p)\n",
        "\n",
        "transformer = transformer.to(DEVICE)\n",
        "\n",
        "loss_fn = torch.nn.CrossEntropyLoss(ignore_index=PAD_IDX)\n",
        "\n",
        "optimizer = torch.optim.Adam(\n",
        "    transformer.parameters(), lr=0.0001, betas=(0.9, 0.98), eps=1e-9)\n"
      ]
    },
    {
      "cell_type": "markdown",
      "metadata": {
        "id": "fcziWeeIQcxB"
      },
      "source": [
        "## Formatting the Data\n",
        "We use `Dataset` and `DataLoader`. `Dataset` implements two methods: `__init__`, `__len__` and `__getitem__`. The last method returns an item of the dataset given an index. Using `collate_fn`, `DataLoader` returns a batch of `batch_size` samples."
      ]
    },
    {
      "cell_type": "code",
      "execution_count": 48,
      "metadata": {
        "id": "jc0aaMHNQcxC"
      },
      "outputs": [],
      "source": [
        "from torch.utils.data import Dataset, DataLoader\n"
      ]
    },
    {
      "cell_type": "code",
      "execution_count": 49,
      "metadata": {
        "id": "JQ_b02Z2QcxC"
      },
      "outputs": [],
      "source": [
        "class PairDataset(Dataset):\n",
        "    def __init__(self, input_texts, target_texts, token2idx):\n",
        "        self.input_texts = input_texts\n",
        "        self.target_texts = target_texts\n",
        "        self.token2idx = token2idx\n",
        "\n",
        "    def __len__(self):\n",
        "        return len(self.input_texts)\n",
        "\n",
        "    def __getitem__(self, idx):\n",
        "        src_batch = text2codes([input_texts[idx]], self.token2idx)\n",
        "        tgt_batch = text2codes([target_texts[idx]], self.token2idx)\n",
        "\n",
        "        return src_batch[0], tgt_batch[0]\n",
        "\n",
        "    def collate(self, batch):\n",
        "        src_batch, tgt_batch = list(zip(*batch))\n",
        "        src_batch = pad_sequence(src_batch, padding_value=PAD_IDX)\n",
        "        tgt_batch = pad_sequence(tgt_batch, padding_value=PAD_IDX)\n",
        "\n",
        "        return src_batch, tgt_batch\n"
      ]
    },
    {
      "cell_type": "code",
      "execution_count": 50,
      "metadata": {
        "id": "xmZoLsjiQcxC"
      },
      "outputs": [],
      "source": [
        "train_dataset = PairDataset(train_input_texts, train_target_texts, token2idx)\n",
        "train_dataloader = DataLoader(train_dataset, batch_size=32,\n",
        "                              shuffle=True, collate_fn=train_dataset.collate)\n"
      ]
    },
    {
      "cell_type": "code",
      "execution_count": 51,
      "metadata": {
        "id": "4dYQ1aKsQcxC"
      },
      "outputs": [],
      "source": [
        "val_dataset = PairDataset(val_input_texts, val_target_texts, token2idx)\n",
        "val_dataloader = DataLoader(\n",
        "    val_dataset, batch_size=32, collate_fn=val_dataset.collate)\n"
      ]
    },
    {
      "cell_type": "markdown",
      "metadata": {
        "id": "kVyuNdBlQcxC"
      },
      "source": [
        "## Training Loop"
      ]
    },
    {
      "cell_type": "code",
      "execution_count": 52,
      "metadata": {
        "id": "xBSQqGGBQcxC"
      },
      "outputs": [],
      "source": [
        "def train_epoch(model, optimizer, dataloader):\n",
        "    model.train()\n",
        "    losses = 0\n",
        "    sent_cnt = 0\n",
        "    correct, total = 0, 0\n",
        "    for src_batch, tgt_batch in tqdm(dataloader):\n",
        "        src = src_batch.to(DEVICE)\n",
        "        tgt = tgt_batch.to(DEVICE)\n",
        "\n",
        "        tgt_input = tgt[:-1, :]\n",
        "\n",
        "        src_mask, tgt_mask, src_padding_mask, tgt_padding_mask = create_mask(\n",
        "            src, tgt_input)\n",
        "\n",
        "        logits = model(src,\n",
        "                       tgt_input,\n",
        "                       src_mask,\n",
        "                       tgt_mask,\n",
        "                       src_padding_mask,\n",
        "                       tgt_padding_mask,\n",
        "                       src_padding_mask)\n",
        "\n",
        "        optimizer.zero_grad()\n",
        "\n",
        "        tgt_out = tgt[1:, :]\n",
        "        loss = loss_fn(\n",
        "            logits.reshape(-1, logits.shape[-1]), tgt_out.reshape(-1))\n",
        "        loss.backward()\n",
        "\n",
        "        optimizer.step()\n",
        "        losses += loss.item()\n",
        "\n",
        "        with torch.no_grad():\n",
        "            sent_cnt += tgt_out.size()[-1]\n",
        "\n",
        "            total += torch.numel(tgt_input)\n",
        "            _, char_pred = torch.max(logits, -1)\n",
        "            correct += (char_pred == tgt_out).sum().item()\n",
        "\n",
        "    return losses / sent_cnt, correct / total\n"
      ]
    },
    {
      "cell_type": "markdown",
      "metadata": {
        "id": "DL7M42M0QcxC"
      },
      "source": [
        "About the loss. Overall, it should computed by individual prediction and divided by the number of chars. By default the crossentropy loss uses the mean. Then we use the mean of the mean. The trend is correct, but the values are not exact. A possible improvement would be to sum and pass through the mask."
      ]
    },
    {
      "cell_type": "code",
      "execution_count": 53,
      "metadata": {
        "id": "0cK8fBl6QcxC"
      },
      "outputs": [],
      "source": [
        "def evaluate(model, dataloader):\n",
        "    model.eval()\n",
        "    losses = 0\n",
        "    sent_cnt = 0\n",
        "    correct, total = 0, 0\n",
        "\n",
        "    for src_batch, tgt_batch in dataloader:\n",
        "        src = src_batch.to(DEVICE)\n",
        "        tgt = tgt_batch.to(DEVICE)\n",
        "\n",
        "        tgt_input = tgt[:-1, :]\n",
        "\n",
        "        src_mask, tgt_mask, src_padding_mask, tgt_padding_mask = create_mask(\n",
        "            src, tgt_input)\n",
        "\n",
        "        logits = model(src, tgt_input, src_mask, tgt_mask,\n",
        "                       src_padding_mask, tgt_padding_mask, src_padding_mask)\n",
        "\n",
        "        tgt_out = tgt[1:, :]\n",
        "        loss = loss_fn(\n",
        "            logits.reshape(-1, logits.shape[-1]), tgt_out.reshape(-1))\n",
        "        losses += loss.item()\n",
        "        sent_cnt += tgt_out.size()[-1]\n",
        "\n",
        "        total += torch.numel(tgt_input)\n",
        "        _, char_pred = torch.max(logits, -1)\n",
        "        correct += (char_pred == tgt_out).sum().item()\n",
        "\n",
        "    return losses / sent_cnt, correct / total\n"
      ]
    },
    {
      "cell_type": "code",
      "execution_count": 54,
      "metadata": {
        "colab": {
          "base_uri": "https://localhost:8080/"
        },
        "id": "7lRDRExLQcxD",
        "outputId": "706367c8-dff9-4a4d-c476-c9b7cbd8ce80"
      },
      "outputs": [
        {
          "name": "stderr",
          "output_type": "stream",
          "text": [
            "100%|██████████| 500/500 [00:21<00:00, 23.57it/s]\n"
          ]
        },
        {
          "name": "stdout",
          "output_type": "stream",
          "text": [
            "Epoch: 1, Train loss: 0.062, Val loss: 0.048, Train acc.: 0.256, Val acc.: 0.325, Epoch time = 21.219s\n"
          ]
        },
        {
          "name": "stderr",
          "output_type": "stream",
          "text": [
            "100%|██████████| 500/500 [00:21<00:00, 22.80it/s]\n"
          ]
        },
        {
          "name": "stdout",
          "output_type": "stream",
          "text": [
            "Epoch: 2, Train loss: 0.048, Val loss: 0.040, Train acc.: 0.326, Val acc.: 0.366, Epoch time = 21.935s\n"
          ]
        },
        {
          "name": "stderr",
          "output_type": "stream",
          "text": [
            "100%|██████████| 500/500 [00:20<00:00, 24.26it/s]\n"
          ]
        },
        {
          "name": "stdout",
          "output_type": "stream",
          "text": [
            "Epoch: 3, Train loss: 0.043, Val loss: 0.036, Train acc.: 0.355, Val acc.: 0.392, Epoch time = 20.614s\n"
          ]
        },
        {
          "name": "stderr",
          "output_type": "stream",
          "text": [
            "100%|██████████| 500/500 [00:20<00:00, 24.03it/s]\n"
          ]
        },
        {
          "name": "stdout",
          "output_type": "stream",
          "text": [
            "Epoch: 4, Train loss: 0.039, Val loss: 0.032, Train acc.: 0.376, Val acc.: 0.411, Epoch time = 20.816s\n"
          ]
        },
        {
          "name": "stderr",
          "output_type": "stream",
          "text": [
            "100%|██████████| 500/500 [00:21<00:00, 23.67it/s]\n"
          ]
        },
        {
          "name": "stdout",
          "output_type": "stream",
          "text": [
            "Epoch: 5, Train loss: 0.037, Val loss: 0.030, Train acc.: 0.390, Val acc.: 0.425, Epoch time = 21.133s\n"
          ]
        },
        {
          "name": "stderr",
          "output_type": "stream",
          "text": [
            "100%|██████████| 500/500 [00:21<00:00, 23.63it/s]\n"
          ]
        },
        {
          "name": "stdout",
          "output_type": "stream",
          "text": [
            "Epoch: 6, Train loss: 0.034, Val loss: 0.027, Train acc.: 0.405, Val acc.: 0.440, Epoch time = 21.167s\n"
          ]
        },
        {
          "name": "stderr",
          "output_type": "stream",
          "text": [
            "100%|██████████| 500/500 [00:21<00:00, 23.51it/s]\n"
          ]
        },
        {
          "name": "stdout",
          "output_type": "stream",
          "text": [
            "Epoch: 7, Train loss: 0.032, Val loss: 0.026, Train acc.: 0.413, Val acc.: 0.451, Epoch time = 21.275s\n"
          ]
        },
        {
          "name": "stderr",
          "output_type": "stream",
          "text": [
            "100%|██████████| 500/500 [00:21<00:00, 23.34it/s]\n"
          ]
        },
        {
          "name": "stdout",
          "output_type": "stream",
          "text": [
            "Epoch: 8, Train loss: 0.031, Val loss: 0.024, Train acc.: 0.423, Val acc.: 0.459, Epoch time = 21.431s\n"
          ]
        },
        {
          "name": "stderr",
          "output_type": "stream",
          "text": [
            "100%|██████████| 500/500 [00:21<00:00, 22.92it/s]\n"
          ]
        },
        {
          "name": "stdout",
          "output_type": "stream",
          "text": [
            "Epoch: 9, Train loss: 0.029, Val loss: 0.022, Train acc.: 0.431, Val acc.: 0.468, Epoch time = 21.824s\n"
          ]
        },
        {
          "name": "stderr",
          "output_type": "stream",
          "text": [
            "100%|██████████| 500/500 [00:21<00:00, 23.31it/s]\n"
          ]
        },
        {
          "name": "stdout",
          "output_type": "stream",
          "text": [
            "Epoch: 10, Train loss: 0.028, Val loss: 0.021, Train acc.: 0.441, Val acc.: 0.478, Epoch time = 21.458s\n"
          ]
        },
        {
          "name": "stderr",
          "output_type": "stream",
          "text": [
            "100%|██████████| 500/500 [00:21<00:00, 23.36it/s]\n"
          ]
        },
        {
          "name": "stdout",
          "output_type": "stream",
          "text": [
            "Epoch: 11, Train loss: 0.027, Val loss: 0.019, Train acc.: 0.447, Val acc.: 0.487, Epoch time = 21.415s\n"
          ]
        },
        {
          "name": "stderr",
          "output_type": "stream",
          "text": [
            "100%|██████████| 500/500 [00:21<00:00, 23.33it/s]\n"
          ]
        },
        {
          "name": "stdout",
          "output_type": "stream",
          "text": [
            "Epoch: 12, Train loss: 0.025, Val loss: 0.018, Train acc.: 0.454, Val acc.: 0.494, Epoch time = 21.441s\n"
          ]
        },
        {
          "name": "stderr",
          "output_type": "stream",
          "text": [
            "100%|██████████| 500/500 [00:21<00:00, 23.10it/s]\n"
          ]
        },
        {
          "name": "stdout",
          "output_type": "stream",
          "text": [
            "Epoch: 13, Train loss: 0.024, Val loss: 0.017, Train acc.: 0.459, Val acc.: 0.500, Epoch time = 21.651s\n"
          ]
        },
        {
          "name": "stderr",
          "output_type": "stream",
          "text": [
            "100%|██████████| 500/500 [00:21<00:00, 23.09it/s]\n"
          ]
        },
        {
          "name": "stdout",
          "output_type": "stream",
          "text": [
            "Epoch: 14, Train loss: 0.023, Val loss: 0.016, Train acc.: 0.465, Val acc.: 0.506, Epoch time = 21.661s\n"
          ]
        },
        {
          "name": "stderr",
          "output_type": "stream",
          "text": [
            "100%|██████████| 500/500 [00:21<00:00, 23.01it/s]\n"
          ]
        },
        {
          "name": "stdout",
          "output_type": "stream",
          "text": [
            "Epoch: 15, Train loss: 0.022, Val loss: 0.015, Train acc.: 0.471, Val acc.: 0.513, Epoch time = 21.738s\n"
          ]
        }
      ],
      "source": [
        "from timeit import default_timer as timer\n",
        "NUM_EPOCHS = 15\n",
        "train_losses = []\n",
        "train_accs = []\n",
        "val_losses = []\n",
        "val_accs = []\n",
        "\n",
        "for epoch in range(1, NUM_EPOCHS + 1):\n",
        "    start_time = timer()\n",
        "    train_loss, train_acc = train_epoch(\n",
        "        transformer, optimizer, train_dataloader)\n",
        "    train_losses += [train_loss]\n",
        "    train_accs += [train_acc]\n",
        "    end_time = timer()\n",
        "    val_loss, val_acc = evaluate(transformer, val_dataloader)\n",
        "    val_losses += [val_loss]\n",
        "    val_accs += [val_acc]\n",
        "    print((f\"Epoch: {epoch}, Train loss: {train_loss:.3f}, Val loss: {val_loss:.3f}, Train acc.: {train_acc:.3f}, Val acc.: {val_acc:.3f}, Epoch time = {(end_time - start_time):.3f}s\"))\n"
      ]
    },
    {
      "cell_type": "markdown",
      "metadata": {
        "id": "-RyYP_07QcxD"
      },
      "source": [
        "## Plotting the Loss"
      ]
    },
    {
      "cell_type": "code",
      "execution_count": 55,
      "metadata": {
        "id": "4IYiXMpDQcxD"
      },
      "outputs": [],
      "source": [
        "epochs = range(NUM_EPOCHS)\n"
      ]
    },
    {
      "cell_type": "code",
      "execution_count": 56,
      "metadata": {
        "colab": {
          "base_uri": "https://localhost:8080/",
          "height": 472
        },
        "id": "QZBHoiIHQcxD",
        "outputId": "850e3e09-ada1-4426-f8cc-28f8948446f4"
      },
      "outputs": [
        {
          "data": {
            "image/png": "[encoded data removed]",
            "text/plain": [
              "<Figure size 640x480 with 1 Axes>"
            ]
          },
          "metadata": {},
          "output_type": "display_data"
        }
      ],
      "source": [
        "plt.plot(epochs, train_losses, 'bo', label='Training loss')\n",
        "plt.plot(epochs, val_losses, 'b', label='Validation loss')\n",
        "plt.title('Training and validation loss')\n",
        "plt.xlabel('Epochs')\n",
        "plt.ylabel('Loss')\n",
        "plt.legend()\n",
        "plt.show()\n"
      ]
    },
    {
      "cell_type": "code",
      "execution_count": 57,
      "metadata": {
        "colab": {
          "base_uri": "https://localhost:8080/",
          "height": 472
        },
        "id": "0iGZ7BjBQcxD",
        "outputId": "7665763d-85b2-433b-b919-7c8fd5c45c6d"
      },
      "outputs": [
        {
          "data": {
            "image/png": "[encoded data removed]",
            "text/plain": [
              "<Figure size 640x480 with 1 Axes>"
            ]
          },
          "metadata": {},
          "output_type": "display_data"
        }
      ],
      "source": [
        "plt.plot(epochs, train_accs, 'bo', label='Training acc')\n",
        "plt.plot(epochs, val_accs, 'b', label='Validation acc')\n",
        "plt.title('Training and validation accuracy')\n",
        "plt.xlabel('Epochs')\n",
        "plt.ylabel('Accuracy')\n",
        "plt.show()\n"
      ]
    },
    {
      "cell_type": "markdown",
      "metadata": {
        "id": "JOeXJDMFQcxD"
      },
      "source": [
        "## Application"
      ]
    },
    {
      "cell_type": "code",
      "execution_count": 58,
      "metadata": {
        "id": "fj_vHEOiQcxE"
      },
      "outputs": [],
      "source": [
        "# function to generate output sequence using greedy algorithm\n",
        "def greedy_decode(model, src, src_mask, max_len, start_symbol):\n",
        "    src = src.to(DEVICE)\n",
        "    src_mask = src_mask.to(DEVICE)\n",
        "\n",
        "    memory = model.encode(src, src_mask)\n",
        "    ys = torch.ones(1, 1).fill_(start_symbol).type(torch.long).to(DEVICE)\n",
        "    # print(ys)\n",
        "    for i in range(max_len-1):\n",
        "        memory = memory.to(DEVICE)\n",
        "        tgt_mask = (generate_square_subsequent_mask(ys.size(0))\n",
        "                    .type(torch.bool)).to(DEVICE)\n",
        "        out = model.decode(ys, memory, tgt_mask)\n",
        "        out = out.transpose(0, 1)\n",
        "        prob = model.generator(out[:, -1])\n",
        "        _, next_word = torch.max(prob, dim=1)\n",
        "        next_word = next_word.item()\n",
        "\n",
        "        ys = torch.cat([ys,\n",
        "                        torch.ones(1, 1).type_as(src.data).fill_(next_word)], dim=0)\n",
        "        # print(ys) # Remove the comment to understand the loop\n",
        "        if next_word == EOS_IDX:\n",
        "            break\n",
        "    return ys\n"
      ]
    },
    {
      "cell_type": "code",
      "execution_count": 59,
      "metadata": {
        "colab": {
          "base_uri": "https://localhost:8080/"
        },
        "id": "dZOWft0mQcxE",
        "outputId": "68842776-2637-4959-cb33-837728e2c2a8"
      },
      "outputs": [
        {
          "data": {
            "text/plain": [
              "tensor([[ 2],\n",
              "        [29],\n",
              "        [61],\n",
              "        [ 5],\n",
              "        [ 3]])"
            ]
          },
          "execution_count": 59,
          "metadata": {},
          "output_type": "execute_result"
        }
      ],
      "source": [
        "text2codes(['Go!'], token2idx)[0].view(-1, 1)\n"
      ]
    },
    {
      "cell_type": "code",
      "execution_count": 60,
      "metadata": {
        "id": "z7Dc0MBxQcxE"
      },
      "outputs": [],
      "source": [
        "# actual function to translate input sentence into target language\n",
        "def translate(model: torch.nn.Module, src_sentence: str):\n",
        "    model.eval()\n",
        "    src = text2codes([src_sentence], token2idx)[0].view(-1, 1)\n",
        "    num_tokens = src.shape[0]\n",
        "    src_mask = (torch.zeros(num_tokens, num_tokens)).type(torch.bool)\n",
        "    tgt_tokens = greedy_decode(\n",
        "        model,  src, src_mask, max_len=num_tokens + 20, start_symbol=BOS_IDX).flatten()\n",
        "    tgt_chars_specials = codes2text([tgt_tokens], idx2token)[0]\n",
        "    tgt_chars = []\n",
        "    for char in tgt_chars_specials:\n",
        "        if char != '<bos>' and char != '<eos>':\n",
        "            tgt_chars += [char]\n",
        "    tgt_chars = ''.join(tgt_chars)\n",
        "    return tgt_chars\n"
      ]
    },
    {
      "cell_type": "code",
      "execution_count": 61,
      "metadata": {
        "colab": {
          "base_uri": "https://localhost:8080/",
          "height": 36
        },
        "id": "FQoL6kCuQcxE",
        "outputId": "e1d45c9f-21b2-4e97-88cc-a7709d3d599b"
      },
      "outputs": [
        {
          "data": {
            "application/vnd.google.colaboratory.intrinsic+json": {
              "type": "string"
            },
            "text/plain": [
              "'Kommer du hem?'"
            ]
          },
          "execution_count": 61,
          "metadata": {},
          "output_type": "execute_result"
        }
      ],
      "source": [
        "tgt_sent = translate(transformer, 'Will you come home?')\n",
        "tgt_sent\n"
      ]
    },
    {
      "cell_type": "code",
      "execution_count": 62,
      "metadata": {
        "colab": {
          "base_uri": "https://localhost:8080/",
          "height": 36
        },
        "id": "cwDdGdhwQcxE",
        "outputId": "9d48f9b2-69b2-4c50-974d-e640d1faaf32"
      },
      "outputs": [
        {
          "data": {
            "application/vnd.google.colaboratory.intrinsic+json": {
              "type": "string"
            },
            "text/plain": [
              "'En uppratar människor jag med det här.'"
            ]
          },
          "execution_count": 62,
          "metadata": {},
          "output_type": "execute_result"
        }
      ],
      "source": [
        "tgt_sent = translate(\n",
        "    transformer, \"Eine Gruppe von Menschen steht vor einem Iglu .\")\n",
        "tgt_sent\n"
      ]
    },
    {
      "cell_type": "markdown",
      "metadata": {
        "id": "6KF7Z-yxQcxE"
      },
      "source": [
        "## Save model"
      ]
    },
    {
      "cell_type": "code",
      "execution_count": 63,
      "metadata": {
        "id": "Fvr716kZQcxE"
      },
      "outputs": [],
      "source": [
        "\n",
        "torch.save(transformer, 'simple_params_v3.pth')\n"
      ]
    },
    {
      "cell_type": "markdown",
      "metadata": {
        "id": "zr5ACCr6QcxF"
      },
      "source": [
        "## Report\n",
        "In your report, you will first summarize the paper _Attention Is All You Need_ (https://arxiv.org/abs/1706.03762) in about half a page. You will then describe the encoder-decoder architecture in the notebook.\n",
        "\n",
        "Please follow the outline below and use the same section names as those in bold:\n",
        "- __Dataset__: Describe your dataset;\n",
        "- __Encoder-Decoder__: Describe the overall architecture;\n",
        "- __Embeddings__: Explain the embeddings, positional encodings and character embeddings\n",
        "- __Self-Attention__: Explain self-attention\n",
        "- __Decoder__: Describe the decoder\n",
        "- __Inference__: Describe the inference\n",
        "- __Experiments and Results__: Describe and comment your experiments and results. You should try at least two sets of parameters (e.g. number of heads, number of layers, number of epochs, etc.)"
      ]
    },
    {
      "cell_type": "markdown",
      "metadata": {
        "id": "b3pIkxIAQcxF"
      },
      "source": []
    }
  ],
  "metadata": {
    "accelerator": "GPU",
    "colab": {
      "gpuType": "T4",
      "provenance": []
    },
    "kernelspec": {
      "display_name": "Python 3",
      "name": "python3"
    },
    "language_info": {
      "codemirror_mode": {
        "name": "ipython",
        "version": 3
      },
      "file_extension": ".py",
      "mimetype": "text/x-python",
      "name": "python",
      "nbconvert_exporter": "python",
      "pygments_lexer": "ipython3",
      "version": "3.11.4"
    },
    "vscode": {
      "interpreter": {
        "hash": "b97b11a820675205aae8f1d7f2a3f22bbd3a2c30189f44042310baf5b4cd1987"
      }
    }
  },
  "nbformat": 4,
  "nbformat_minor": 0
}
